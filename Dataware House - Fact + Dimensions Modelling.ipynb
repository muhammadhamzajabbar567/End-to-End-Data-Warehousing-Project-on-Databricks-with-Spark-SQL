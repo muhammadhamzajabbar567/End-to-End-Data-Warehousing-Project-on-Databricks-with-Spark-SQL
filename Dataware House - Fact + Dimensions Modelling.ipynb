{
 "cells": [
  {
   "cell_type": "markdown",
   "metadata": {
    "application/vnd.databricks.v1+cell": {
     "cellMetadata": {},
     "inputWidgets": {},
     "nuid": "33b542b7-0f12-423f-955a-45617d6905a3",
     "showTitle": false,
     "tableResultSettingsMap": {},
     "title": ""
    }
   },
   "source": [
    "# Creating Database SALES_DB"
   ]
  },
  {
   "cell_type": "code",
   "execution_count": 0,
   "metadata": {
    "application/vnd.databricks.v1+cell": {
     "cellMetadata": {
      "byteLimit": 2048000,
      "rowLimit": 10000
     },
     "inputWidgets": {},
     "nuid": "d21f3758-4120-4aec-92d5-c4646a9295af",
     "showTitle": false,
     "tableResultSettingsMap": {},
     "title": ""
    }
   },
   "outputs": [],
   "source": [
    "CREATE DATABASE SALES_DB;"
   ]
  },
  {
   "cell_type": "markdown",
   "metadata": {
    "application/vnd.databricks.v1+cell": {
     "cellMetadata": {},
     "inputWidgets": {},
     "nuid": "db1a19b4-c753-4e46-aa1f-a7b69c0822d4",
     "showTitle": false,
     "tableResultSettingsMap": {},
     "title": ""
    }
   },
   "source": [
    "### Creating Table ORDERS"
   ]
  },
  {
   "cell_type": "code",
   "execution_count": 0,
   "metadata": {
    "application/vnd.databricks.v1+cell": {
     "cellMetadata": {
      "byteLimit": 2048000,
      "rowLimit": 10000
     },
     "inputWidgets": {},
     "nuid": "19a098ce-4023-4ae1-9880-870a717d1fa4",
     "showTitle": false,
     "tableResultSettingsMap": {},
     "title": ""
    }
   },
   "outputs": [],
   "source": [
    "CREATE OR REPLACE TABLE sales_db.Orders (\n",
    "    OrderID INT,\n",
    "    OrderDate DATE,\n",
    "    CustomerId INT,\n",
    "    CustomerName STRING,\n",
    "    CustomerEmail STRING,\n",
    "    ProductID INT,\n",
    "    ProductName STRING,\n",
    "    ProductCategory STRING,\n",
    "    RegionID INT,\n",
    "    RegionName STRING,\n",
    "    Country STRING,\n",
    "    Quantity INT,\n",
    "    UnitPrice DECIMAL(18,2),\n",
    "    TotalAmount DECIMAL(18,2)\n",
    ");\n"
   ]
  },
  {
   "cell_type": "markdown",
   "metadata": {
    "application/vnd.databricks.v1+cell": {
     "cellMetadata": {},
     "inputWidgets": {},
     "nuid": "ae65f028-d2a9-46d3-961e-5431b8713ec0",
     "showTitle": false,
     "tableResultSettingsMap": {},
     "title": ""
    }
   },
   "source": [
    "### Inserting Data Into SALES_DB.ORDERS"
   ]
  },
  {
   "cell_type": "code",
   "execution_count": 0,
   "metadata": {
    "application/vnd.databricks.v1+cell": {
     "cellMetadata": {
      "byteLimit": 2048000,
      "rowLimit": 10000
     },
     "inputWidgets": {},
     "nuid": "9f2691fc-d04b-442a-a314-746d3284105d",
     "showTitle": false,
     "tableResultSettingsMap": {},
     "title": ""
    }
   },
   "outputs": [
    {
     "output_type": "display_data",
     "data": {
      "text/html": [
       "<style scoped>\n",
       "  .table-result-container {\n",
       "    max-height: 300px;\n",
       "    overflow: auto;\n",
       "  }\n",
       "  table, th, td {\n",
       "    border: 1px solid black;\n",
       "    border-collapse: collapse;\n",
       "  }\n",
       "  th, td {\n",
       "    padding: 5px;\n",
       "  }\n",
       "  th {\n",
       "    text-align: left;\n",
       "  }\n",
       "</style><div class='table-result-container'><table class='table-result'><thead style='background-color: white'><tr><th>num_affected_rows</th><th>num_inserted_rows</th></tr></thead><tbody><tr><td>9</td><td>9</td></tr></tbody></table></div>"
      ]
     },
     "metadata": {
      "application/vnd.databricks.v1+output": {
       "addedWidgets": {},
       "aggData": [],
       "aggError": "",
       "aggOverflow": false,
       "aggSchema": [],
       "aggSeriesLimitReached": false,
       "aggType": "",
       "arguments": {},
       "columnCustomDisplayInfos": {},
       "data": [
        [
         9,
         9
        ]
       ],
       "datasetInfos": [
        {
         "name": "_sqldf",
         "schema": {
          "fields": [
           {
            "metadata": {},
            "name": "num_affected_rows",
            "nullable": true,
            "type": "long"
           },
           {
            "metadata": {},
            "name": "num_inserted_rows",
            "nullable": true,
            "type": "long"
           }
          ],
          "type": "struct"
         },
         "tableIdentifier": null,
         "typeStr": "pyspark.sql.connect.dataframe.DataFrame"
        }
       ],
       "dbfsResultPath": null,
       "isJsonSchema": true,
       "metadata": {
        "createTempViewForImplicitDf": true,
        "dataframeName": "_sqldf",
        "executionCount": 13
       },
       "overflow": false,
       "plotOptions": {
        "customPlotOptions": {},
        "displayType": "table",
        "pivotAggregation": null,
        "pivotColumns": null,
        "xColumns": null,
        "yColumns": null
       },
       "removedWidgets": [],
       "schema": [
        {
         "metadata": "{}",
         "name": "num_affected_rows",
         "type": "\"long\""
        },
        {
         "metadata": "{}",
         "name": "num_inserted_rows",
         "type": "\"long\""
        }
       ],
       "type": "table"
      }
     },
     "output_type": "display_data"
    }
   ],
   "source": [
    "INSERT INTO sales_db.Orders (\n",
    "    OrderID, OrderDate, CustomerId, CustomerName, CustomerEmail,\n",
    "    ProductID, ProductName, ProductCategory,\n",
    "    RegionID, RegionName, Country,\n",
    "    Quantity, UnitPrice, TotalAmount\n",
    ")\n",
    "VALUES\n",
    "-- Customer 101 orders on different dates\n",
    "(1001, '2025-06-01', 101, 'Ali Khan', 'ali.khan@example.com', 201, 'Laptop', 'Electronics', 1, 'Sindh', 'Pakistan', 1, 120000, 120000),\n",
    "(1002, '2025-06-03', 101, 'Ali Khan', 'ali.khan@example.com', 202, 'Mobile Phone', 'Electronics', 1, 'Sindh', 'Pakistan', 2, 45000, 90000),\n",
    "(1003, '2025-06-05', 101, 'Ali Khan', 'ali.khan@example.com', 203, 'Tablet', 'Electronics', 1, 'Sindh', 'Pakistan', 1, 60000, 60000),\n",
    "\n",
    "-- Customer 102 multiple orders\n",
    "(1004, '2025-06-02', 102, 'Ayesha Ahmed', 'ayesha.ahmed@example.com', 204, 'Washing Machine', 'Home Appliances', 2, 'Punjab', 'Pakistan', 1, 75000, 75000),\n",
    "(1005, '2025-06-04', 102, 'Ayesha Ahmed', 'ayesha.ahmed@example.com', 205, 'Microwave Oven', 'Home Appliances', 2, 'Punjab', 'Pakistan', 1, 25000, 25000),\n",
    "\n",
    "-- Customer 103 multiple orders\n",
    "(1006, '2025-06-01', 103, 'Usman Ali', 'usman.ali@example.com', 206, 'Football', 'Sports', 3, 'KPK', 'Pakistan', 3, 3000, 9000),\n",
    "(1007, '2025-06-03', 103, 'Usman Ali', 'usman.ali@example.com', 207, 'Tennis Racket', 'Sports', 3, 'KPK', 'Pakistan', 2, 7000, 14000),\n",
    "\n",
    "-- Customer 104 multiple orders\n",
    "(1008, '2025-06-02', 104, 'Fatima Noor', 'fatima.noor@example.com', 208, 'Bed Sheet', 'Textile', 4, 'Balochistan', 'Pakistan', 4, 2000, 8000),\n",
    "(1009, '2025-06-05', 104, 'Fatima Noor', 'fatima.noor@example.com', 209, 'Curtains', 'Textile', 4, 'Balochistan', 'Pakistan', 2, 3500, 7000);\n"
   ]
  },
  {
   "cell_type": "code",
   "execution_count": 0,
   "metadata": {
    "application/vnd.databricks.v1+cell": {
     "cellMetadata": {
      "byteLimit": 2048000,
      "rowLimit": 10000
     },
     "inputWidgets": {},
     "nuid": "50a54913-62b3-4d7e-8e29-235631f180f0",
     "showTitle": false,
     "tableResultSettingsMap": {},
     "title": ""
    }
   },
   "outputs": [
    {
     "output_type": "display_data",
     "data": {
      "text/html": [
       "<style scoped>\n",
       "  .table-result-container {\n",
       "    max-height: 300px;\n",
       "    overflow: auto;\n",
       "  }\n",
       "  table, th, td {\n",
       "    border: 1px solid black;\n",
       "    border-collapse: collapse;\n",
       "  }\n",
       "  th, td {\n",
       "    padding: 5px;\n",
       "  }\n",
       "  th {\n",
       "    text-align: left;\n",
       "  }\n",
       "</style><div class='table-result-container'><table class='table-result'><thead style='background-color: white'><tr><th>OrderID</th><th>OrderDate</th><th>CustomerId</th><th>CustomerName</th><th>CustomerEmail</th><th>ProductID</th><th>ProductName</th><th>ProductCategory</th><th>RegionID</th><th>RegionName</th><th>Country</th><th>Quantity</th><th>UnitPrice</th><th>TotalAmount</th></tr></thead><tbody><tr><td>1001</td><td>2025-06-01</td><td>101</td><td>Ali Khan</td><td>ali.khan@example.com</td><td>201</td><td>Laptop</td><td>Electronics</td><td>1</td><td>Sindh</td><td>Pakistan</td><td>1</td><td>120000.00</td><td>120000.00</td></tr><tr><td>1006</td><td>2025-06-01</td><td>103</td><td>Usman Ali</td><td>usman.ali@example.com</td><td>206</td><td>Football</td><td>Sports</td><td>3</td><td>KPK</td><td>Pakistan</td><td>3</td><td>3000.00</td><td>9000.00</td></tr><tr><td>1008</td><td>2025-06-02</td><td>104</td><td>Fatima Noor</td><td>fatima.noor@example.com</td><td>208</td><td>Bed Sheet</td><td>Textile</td><td>4</td><td>Balochistan</td><td>Pakistan</td><td>4</td><td>2000.00</td><td>8000.00</td></tr><tr><td>1004</td><td>2025-06-02</td><td>102</td><td>Ayesha Ahmed</td><td>ayesha.ahmed@example.com</td><td>204</td><td>Washing Machine</td><td>Home Appliances</td><td>2</td><td>Punjab</td><td>Pakistan</td><td>1</td><td>75000.00</td><td>75000.00</td></tr><tr><td>1007</td><td>2025-06-03</td><td>103</td><td>Usman Ali</td><td>usman.ali@example.com</td><td>207</td><td>Tennis Racket</td><td>Sports</td><td>3</td><td>KPK</td><td>Pakistan</td><td>2</td><td>7000.00</td><td>14000.00</td></tr><tr><td>1002</td><td>2025-06-03</td><td>101</td><td>Ali Khan</td><td>ali.khan@example.com</td><td>202</td><td>Mobile Phone</td><td>Electronics</td><td>1</td><td>Sindh</td><td>Pakistan</td><td>2</td><td>45000.00</td><td>90000.00</td></tr><tr><td>1005</td><td>2025-06-04</td><td>102</td><td>Ayesha Ahmed</td><td>ayesha.ahmed@example.com</td><td>205</td><td>Microwave Oven</td><td>Home Appliances</td><td>2</td><td>Punjab</td><td>Pakistan</td><td>1</td><td>25000.00</td><td>25000.00</td></tr><tr><td>1003</td><td>2025-06-05</td><td>101</td><td>Ali Khan</td><td>ali.khan@example.com</td><td>203</td><td>Tablet</td><td>Electronics</td><td>1</td><td>Sindh</td><td>Pakistan</td><td>1</td><td>60000.00</td><td>60000.00</td></tr><tr><td>1009</td><td>2025-06-05</td><td>104</td><td>Fatima Noor</td><td>fatima.noor@example.com</td><td>209</td><td>Curtains</td><td>Textile</td><td>4</td><td>Balochistan</td><td>Pakistan</td><td>2</td><td>3500.00</td><td>7000.00</td></tr></tbody></table></div>"
      ]
     },
     "metadata": {
      "application/vnd.databricks.v1+output": {
       "addedWidgets": {},
       "aggData": [],
       "aggError": "",
       "aggOverflow": false,
       "aggSchema": [],
       "aggSeriesLimitReached": false,
       "aggType": "",
       "arguments": {},
       "columnCustomDisplayInfos": {},
       "data": [
        [
         1001,
         "2025-06-01",
         101,
         "Ali Khan",
         "ali.khan@example.com",
         201,
         "Laptop",
         "Electronics",
         1,
         "Sindh",
         "Pakistan",
         1,
         "120000.00",
         "120000.00"
        ],
        [
         1006,
         "2025-06-01",
         103,
         "Usman Ali",
         "usman.ali@example.com",
         206,
         "Football",
         "Sports",
         3,
         "KPK",
         "Pakistan",
         3,
         "3000.00",
         "9000.00"
        ],
        [
         1008,
         "2025-06-02",
         104,
         "Fatima Noor",
         "fatima.noor@example.com",
         208,
         "Bed Sheet",
         "Textile",
         4,
         "Balochistan",
         "Pakistan",
         4,
         "2000.00",
         "8000.00"
        ],
        [
         1004,
         "2025-06-02",
         102,
         "Ayesha Ahmed",
         "ayesha.ahmed@example.com",
         204,
         "Washing Machine",
         "Home Appliances",
         2,
         "Punjab",
         "Pakistan",
         1,
         "75000.00",
         "75000.00"
        ],
        [
         1007,
         "2025-06-03",
         103,
         "Usman Ali",
         "usman.ali@example.com",
         207,
         "Tennis Racket",
         "Sports",
         3,
         "KPK",
         "Pakistan",
         2,
         "7000.00",
         "14000.00"
        ],
        [
         1002,
         "2025-06-03",
         101,
         "Ali Khan",
         "ali.khan@example.com",
         202,
         "Mobile Phone",
         "Electronics",
         1,
         "Sindh",
         "Pakistan",
         2,
         "45000.00",
         "90000.00"
        ],
        [
         1005,
         "2025-06-04",
         102,
         "Ayesha Ahmed",
         "ayesha.ahmed@example.com",
         205,
         "Microwave Oven",
         "Home Appliances",
         2,
         "Punjab",
         "Pakistan",
         1,
         "25000.00",
         "25000.00"
        ],
        [
         1003,
         "2025-06-05",
         101,
         "Ali Khan",
         "ali.khan@example.com",
         203,
         "Tablet",
         "Electronics",
         1,
         "Sindh",
         "Pakistan",
         1,
         "60000.00",
         "60000.00"
        ],
        [
         1009,
         "2025-06-05",
         104,
         "Fatima Noor",
         "fatima.noor@example.com",
         209,
         "Curtains",
         "Textile",
         4,
         "Balochistan",
         "Pakistan",
         2,
         "3500.00",
         "7000.00"
        ]
       ],
       "datasetInfos": [
        {
         "name": "_sqldf",
         "schema": {
          "fields": [
           {
            "metadata": {},
            "name": "OrderID",
            "nullable": true,
            "type": "integer"
           },
           {
            "metadata": {},
            "name": "OrderDate",
            "nullable": true,
            "type": "date"
           },
           {
            "metadata": {},
            "name": "CustomerId",
            "nullable": true,
            "type": "integer"
           },
           {
            "metadata": {},
            "name": "CustomerName",
            "nullable": true,
            "type": "string"
           },
           {
            "metadata": {},
            "name": "CustomerEmail",
            "nullable": true,
            "type": "string"
           },
           {
            "metadata": {},
            "name": "ProductID",
            "nullable": true,
            "type": "integer"
           },
           {
            "metadata": {},
            "name": "ProductName",
            "nullable": true,
            "type": "string"
           },
           {
            "metadata": {},
            "name": "ProductCategory",
            "nullable": true,
            "type": "string"
           },
           {
            "metadata": {},
            "name": "RegionID",
            "nullable": true,
            "type": "integer"
           },
           {
            "metadata": {},
            "name": "RegionName",
            "nullable": true,
            "type": "string"
           },
           {
            "metadata": {},
            "name": "Country",
            "nullable": true,
            "type": "string"
           },
           {
            "metadata": {},
            "name": "Quantity",
            "nullable": true,
            "type": "integer"
           },
           {
            "metadata": {},
            "name": "UnitPrice",
            "nullable": true,
            "type": "decimal(18,2)"
           },
           {
            "metadata": {},
            "name": "TotalAmount",
            "nullable": true,
            "type": "decimal(18,2)"
           }
          ],
          "type": "struct"
         },
         "tableIdentifier": null,
         "typeStr": "pyspark.sql.connect.dataframe.DataFrame"
        }
       ],
       "dbfsResultPath": null,
       "isJsonSchema": true,
       "metadata": {
        "createTempViewForImplicitDf": true,
        "dataframeName": "_sqldf",
        "executionCount": 14
       },
       "overflow": false,
       "plotOptions": {
        "customPlotOptions": {},
        "displayType": "table",
        "pivotAggregation": null,
        "pivotColumns": null,
        "xColumns": null,
        "yColumns": null
       },
       "removedWidgets": [],
       "schema": [
        {
         "metadata": "{}",
         "name": "OrderID",
         "type": "\"integer\""
        },
        {
         "metadata": "{}",
         "name": "OrderDate",
         "type": "\"date\""
        },
        {
         "metadata": "{}",
         "name": "CustomerId",
         "type": "\"integer\""
        },
        {
         "metadata": "{}",
         "name": "CustomerName",
         "type": "\"string\""
        },
        {
         "metadata": "{}",
         "name": "CustomerEmail",
         "type": "\"string\""
        },
        {
         "metadata": "{}",
         "name": "ProductID",
         "type": "\"integer\""
        },
        {
         "metadata": "{}",
         "name": "ProductName",
         "type": "\"string\""
        },
        {
         "metadata": "{}",
         "name": "ProductCategory",
         "type": "\"string\""
        },
        {
         "metadata": "{}",
         "name": "RegionID",
         "type": "\"integer\""
        },
        {
         "metadata": "{}",
         "name": "RegionName",
         "type": "\"string\""
        },
        {
         "metadata": "{}",
         "name": "Country",
         "type": "\"string\""
        },
        {
         "metadata": "{}",
         "name": "Quantity",
         "type": "\"integer\""
        },
        {
         "metadata": "{}",
         "name": "UnitPrice",
         "type": "\"decimal(18,2)\""
        },
        {
         "metadata": "{}",
         "name": "TotalAmount",
         "type": "\"decimal(18,2)\""
        }
       ],
       "type": "table"
      }
     },
     "output_type": "display_data"
    }
   ],
   "source": [
    "SELECT *\n",
    "FROM sales_db.Orders\n",
    "ORDER BY OrderDate ASC;\n"
   ]
  },
  {
   "cell_type": "markdown",
   "metadata": {
    "application/vnd.databricks.v1+cell": {
     "cellMetadata": {},
     "inputWidgets": {},
     "nuid": "9c55ed85-a14a-4ab7-a585-aee99fbce9a6",
     "showTitle": false,
     "tableResultSettingsMap": {},
     "title": ""
    }
   },
   "source": [
    "# Data Warehousing Process "
   ]
  },
  {
   "cell_type": "markdown",
   "metadata": {
    "application/vnd.databricks.v1+cell": {
     "cellMetadata": {},
     "inputWidgets": {},
     "nuid": "58961f87-1f20-4ba6-a5b7-8a1ff4ad4591",
     "showTitle": false,
     "tableResultSettingsMap": {},
     "title": ""
    }
   },
   "source": [
    "### Creating Data Warehouse"
   ]
  },
  {
   "cell_type": "code",
   "execution_count": 0,
   "metadata": {
    "application/vnd.databricks.v1+cell": {
     "cellMetadata": {
      "byteLimit": 2048000,
      "rowLimit": 10000
     },
     "inputWidgets": {},
     "nuid": "d9715f1e-e735-44de-a47e-6793db7a8412",
     "showTitle": false,
     "tableResultSettingsMap": {},
     "title": ""
    }
   },
   "outputs": [],
   "source": [
    "CREATE DATABASE ORDERS_DWH"
   ]
  },
  {
   "cell_type": "markdown",
   "metadata": {
    "application/vnd.databricks.v1+cell": {
     "cellMetadata": {},
     "inputWidgets": {},
     "nuid": "0a3e08db-66d2-4d3b-8fdb-e504bb51eec6",
     "showTitle": false,
     "tableResultSettingsMap": {},
     "title": ""
    }
   },
   "source": [
    "### Creating Staging Layer Into ORDERS_DWH"
   ]
  },
  {
   "cell_type": "code",
   "execution_count": 0,
   "metadata": {
    "application/vnd.databricks.v1+cell": {
     "cellMetadata": {
      "byteLimit": 2048000,
      "rowLimit": 10000
     },
     "inputWidgets": {},
     "nuid": "376d9670-14b9-4d26-8b9d-10ef5d7e32cb",
     "showTitle": false,
     "tableResultSettingsMap": {},
     "title": ""
    }
   },
   "outputs": [
    {
     "output_type": "display_data",
     "data": {
      "text/html": [
       "<style scoped>\n",
       "  .table-result-container {\n",
       "    max-height: 300px;\n",
       "    overflow: auto;\n",
       "  }\n",
       "  table, th, td {\n",
       "    border: 1px solid black;\n",
       "    border-collapse: collapse;\n",
       "  }\n",
       "  th, td {\n",
       "    padding: 5px;\n",
       "  }\n",
       "  th {\n",
       "    text-align: left;\n",
       "  }\n",
       "</style><div class='table-result-container'><table class='table-result'><thead style='background-color: white'><tr><th>num_affected_rows</th><th>num_inserted_rows</th></tr></thead><tbody></tbody></table></div>"
      ]
     },
     "metadata": {
      "application/vnd.databricks.v1+output": {
       "addedWidgets": {},
       "aggData": [],
       "aggError": "",
       "aggOverflow": false,
       "aggSchema": [],
       "aggSeriesLimitReached": false,
       "aggType": "",
       "arguments": {},
       "columnCustomDisplayInfos": {},
       "data": [],
       "datasetInfos": [
        {
         "name": "_sqldf",
         "schema": {
          "fields": [
           {
            "metadata": {},
            "name": "num_affected_rows",
            "nullable": true,
            "type": "long"
           },
           {
            "metadata": {},
            "name": "num_inserted_rows",
            "nullable": true,
            "type": "long"
           }
          ],
          "type": "struct"
         },
         "tableIdentifier": null,
         "typeStr": "pyspark.sql.connect.dataframe.DataFrame"
        }
       ],
       "dbfsResultPath": null,
       "isJsonSchema": true,
       "metadata": {
        "createTempViewForImplicitDf": true,
        "dataframeName": "_sqldf",
        "executionCount": 22
       },
       "overflow": false,
       "plotOptions": {
        "customPlotOptions": {},
        "displayType": "table",
        "pivotAggregation": null,
        "pivotColumns": null,
        "xColumns": null,
        "yColumns": null
       },
       "removedWidgets": [],
       "schema": [
        {
         "metadata": "{}",
         "name": "num_affected_rows",
         "type": "\"long\""
        },
        {
         "metadata": "{}",
         "name": "num_inserted_rows",
         "type": "\"long\""
        }
       ],
       "type": "table"
      }
     },
     "output_type": "display_data"
    }
   ],
   "source": [
    "create or replace table orders_dwh.stg_sales\n",
    "as \n",
    "select * from sales_db.Orders"
   ]
  },
  {
   "cell_type": "code",
   "execution_count": 0,
   "metadata": {
    "application/vnd.databricks.v1+cell": {
     "cellMetadata": {
      "byteLimit": 2048000,
      "rowLimit": 10000
     },
     "inputWidgets": {},
     "nuid": "f45a0f43-d063-433e-8921-c7384fc6d6b6",
     "showTitle": false,
     "tableResultSettingsMap": {},
     "title": ""
    }
   },
   "outputs": [
    {
     "output_type": "display_data",
     "data": {
      "text/html": [
       "<style scoped>\n",
       "  .table-result-container {\n",
       "    max-height: 300px;\n",
       "    overflow: auto;\n",
       "  }\n",
       "  table, th, td {\n",
       "    border: 1px solid black;\n",
       "    border-collapse: collapse;\n",
       "  }\n",
       "  th, td {\n",
       "    padding: 5px;\n",
       "  }\n",
       "  th {\n",
       "    text-align: left;\n",
       "  }\n",
       "</style><div class='table-result-container'><table class='table-result'><thead style='background-color: white'><tr><th>OrderID</th><th>OrderDate</th><th>CustomerId</th><th>CustomerName</th><th>CustomerEmail</th><th>ProductID</th><th>ProductName</th><th>ProductCategory</th><th>RegionID</th><th>RegionName</th><th>Country</th><th>Quantity</th><th>UnitPrice</th><th>TotalAmount</th></tr></thead><tbody><tr><td>1001</td><td>2025-06-01</td><td>101</td><td>Ali Khan</td><td>ali.khan@example.com</td><td>201</td><td>Laptop</td><td>Electronics</td><td>1</td><td>Sindh</td><td>Pakistan</td><td>1</td><td>120000.00</td><td>120000.00</td></tr><tr><td>1002</td><td>2025-06-03</td><td>101</td><td>Ali Khan</td><td>ali.khan@example.com</td><td>202</td><td>Mobile Phone</td><td>Electronics</td><td>1</td><td>Sindh</td><td>Pakistan</td><td>2</td><td>45000.00</td><td>90000.00</td></tr><tr><td>1003</td><td>2025-06-05</td><td>101</td><td>Ali Khan</td><td>ali.khan@example.com</td><td>203</td><td>Tablet</td><td>Electronics</td><td>1</td><td>Sindh</td><td>Pakistan</td><td>1</td><td>60000.00</td><td>60000.00</td></tr><tr><td>1004</td><td>2025-06-02</td><td>102</td><td>Ayesha Ahmed</td><td>ayesha.ahmed@example.com</td><td>204</td><td>Washing Machine</td><td>Home Appliances</td><td>2</td><td>Punjab</td><td>Pakistan</td><td>1</td><td>75000.00</td><td>75000.00</td></tr><tr><td>1005</td><td>2025-06-04</td><td>102</td><td>Ayesha Ahmed</td><td>ayesha.ahmed@example.com</td><td>205</td><td>Microwave Oven</td><td>Home Appliances</td><td>2</td><td>Punjab</td><td>Pakistan</td><td>1</td><td>25000.00</td><td>25000.00</td></tr><tr><td>1006</td><td>2025-06-01</td><td>103</td><td>Usman Ali</td><td>usman.ali@example.com</td><td>206</td><td>Football</td><td>Sports</td><td>3</td><td>KPK</td><td>Pakistan</td><td>3</td><td>3000.00</td><td>9000.00</td></tr><tr><td>1007</td><td>2025-06-03</td><td>103</td><td>Usman Ali</td><td>usman.ali@example.com</td><td>207</td><td>Tennis Racket</td><td>Sports</td><td>3</td><td>KPK</td><td>Pakistan</td><td>2</td><td>7000.00</td><td>14000.00</td></tr><tr><td>1008</td><td>2025-06-02</td><td>104</td><td>Fatima Noor</td><td>fatima.noor@example.com</td><td>208</td><td>Bed Sheet</td><td>Textile</td><td>4</td><td>Balochistan</td><td>Pakistan</td><td>4</td><td>2000.00</td><td>8000.00</td></tr><tr><td>1009</td><td>2025-06-05</td><td>104</td><td>Fatima Noor</td><td>fatima.noor@example.com</td><td>209</td><td>Curtains</td><td>Textile</td><td>4</td><td>Balochistan</td><td>Pakistan</td><td>2</td><td>3500.00</td><td>7000.00</td></tr></tbody></table></div>"
      ]
     },
     "metadata": {
      "application/vnd.databricks.v1+output": {
       "addedWidgets": {},
       "aggData": [],
       "aggError": "",
       "aggOverflow": false,
       "aggSchema": [],
       "aggSeriesLimitReached": false,
       "aggType": "",
       "arguments": {},
       "columnCustomDisplayInfos": {},
       "data": [
        [
         1001,
         "2025-06-01",
         101,
         "Ali Khan",
         "ali.khan@example.com",
         201,
         "Laptop",
         "Electronics",
         1,
         "Sindh",
         "Pakistan",
         1,
         "120000.00",
         "120000.00"
        ],
        [
         1002,
         "2025-06-03",
         101,
         "Ali Khan",
         "ali.khan@example.com",
         202,
         "Mobile Phone",
         "Electronics",
         1,
         "Sindh",
         "Pakistan",
         2,
         "45000.00",
         "90000.00"
        ],
        [
         1003,
         "2025-06-05",
         101,
         "Ali Khan",
         "ali.khan@example.com",
         203,
         "Tablet",
         "Electronics",
         1,
         "Sindh",
         "Pakistan",
         1,
         "60000.00",
         "60000.00"
        ],
        [
         1004,
         "2025-06-02",
         102,
         "Ayesha Ahmed",
         "ayesha.ahmed@example.com",
         204,
         "Washing Machine",
         "Home Appliances",
         2,
         "Punjab",
         "Pakistan",
         1,
         "75000.00",
         "75000.00"
        ],
        [
         1005,
         "2025-06-04",
         102,
         "Ayesha Ahmed",
         "ayesha.ahmed@example.com",
         205,
         "Microwave Oven",
         "Home Appliances",
         2,
         "Punjab",
         "Pakistan",
         1,
         "25000.00",
         "25000.00"
        ],
        [
         1006,
         "2025-06-01",
         103,
         "Usman Ali",
         "usman.ali@example.com",
         206,
         "Football",
         "Sports",
         3,
         "KPK",
         "Pakistan",
         3,
         "3000.00",
         "9000.00"
        ],
        [
         1007,
         "2025-06-03",
         103,
         "Usman Ali",
         "usman.ali@example.com",
         207,
         "Tennis Racket",
         "Sports",
         3,
         "KPK",
         "Pakistan",
         2,
         "7000.00",
         "14000.00"
        ],
        [
         1008,
         "2025-06-02",
         104,
         "Fatima Noor",
         "fatima.noor@example.com",
         208,
         "Bed Sheet",
         "Textile",
         4,
         "Balochistan",
         "Pakistan",
         4,
         "2000.00",
         "8000.00"
        ],
        [
         1009,
         "2025-06-05",
         104,
         "Fatima Noor",
         "fatima.noor@example.com",
         209,
         "Curtains",
         "Textile",
         4,
         "Balochistan",
         "Pakistan",
         2,
         "3500.00",
         "7000.00"
        ]
       ],
       "datasetInfos": [
        {
         "name": "_sqldf",
         "schema": {
          "fields": [
           {
            "metadata": {},
            "name": "OrderID",
            "nullable": true,
            "type": "integer"
           },
           {
            "metadata": {},
            "name": "OrderDate",
            "nullable": true,
            "type": "date"
           },
           {
            "metadata": {},
            "name": "CustomerId",
            "nullable": true,
            "type": "integer"
           },
           {
            "metadata": {},
            "name": "CustomerName",
            "nullable": true,
            "type": "string"
           },
           {
            "metadata": {},
            "name": "CustomerEmail",
            "nullable": true,
            "type": "string"
           },
           {
            "metadata": {},
            "name": "ProductID",
            "nullable": true,
            "type": "integer"
           },
           {
            "metadata": {},
            "name": "ProductName",
            "nullable": true,
            "type": "string"
           },
           {
            "metadata": {},
            "name": "ProductCategory",
            "nullable": true,
            "type": "string"
           },
           {
            "metadata": {},
            "name": "RegionID",
            "nullable": true,
            "type": "integer"
           },
           {
            "metadata": {},
            "name": "RegionName",
            "nullable": true,
            "type": "string"
           },
           {
            "metadata": {},
            "name": "Country",
            "nullable": true,
            "type": "string"
           },
           {
            "metadata": {},
            "name": "Quantity",
            "nullable": true,
            "type": "integer"
           },
           {
            "metadata": {},
            "name": "UnitPrice",
            "nullable": true,
            "type": "decimal(18,2)"
           },
           {
            "metadata": {},
            "name": "TotalAmount",
            "nullable": true,
            "type": "decimal(18,2)"
           }
          ],
          "type": "struct"
         },
         "tableIdentifier": null,
         "typeStr": "pyspark.sql.connect.dataframe.DataFrame"
        }
       ],
       "dbfsResultPath": null,
       "isJsonSchema": true,
       "metadata": {
        "createTempViewForImplicitDf": true,
        "dataframeName": "_sqldf",
        "executionCount": 23
       },
       "overflow": false,
       "plotOptions": {
        "customPlotOptions": {},
        "displayType": "table",
        "pivotAggregation": null,
        "pivotColumns": null,
        "xColumns": null,
        "yColumns": null
       },
       "removedWidgets": [],
       "schema": [
        {
         "metadata": "{}",
         "name": "OrderID",
         "type": "\"integer\""
        },
        {
         "metadata": "{}",
         "name": "OrderDate",
         "type": "\"date\""
        },
        {
         "metadata": "{}",
         "name": "CustomerId",
         "type": "\"integer\""
        },
        {
         "metadata": "{}",
         "name": "CustomerName",
         "type": "\"string\""
        },
        {
         "metadata": "{}",
         "name": "CustomerEmail",
         "type": "\"string\""
        },
        {
         "metadata": "{}",
         "name": "ProductID",
         "type": "\"integer\""
        },
        {
         "metadata": "{}",
         "name": "ProductName",
         "type": "\"string\""
        },
        {
         "metadata": "{}",
         "name": "ProductCategory",
         "type": "\"string\""
        },
        {
         "metadata": "{}",
         "name": "RegionID",
         "type": "\"integer\""
        },
        {
         "metadata": "{}",
         "name": "RegionName",
         "type": "\"string\""
        },
        {
         "metadata": "{}",
         "name": "Country",
         "type": "\"string\""
        },
        {
         "metadata": "{}",
         "name": "Quantity",
         "type": "\"integer\""
        },
        {
         "metadata": "{}",
         "name": "UnitPrice",
         "type": "\"decimal(18,2)\""
        },
        {
         "metadata": "{}",
         "name": "TotalAmount",
         "type": "\"decimal(18,2)\""
        }
       ],
       "type": "table"
      }
     },
     "output_type": "display_data"
    }
   ],
   "source": [
    "SELECT * FROM orders_dwh.stg_sales"
   ]
  },
  {
   "cell_type": "markdown",
   "metadata": {
    "application/vnd.databricks.v1+cell": {
     "cellMetadata": {},
     "inputWidgets": {},
     "nuid": "e813c68a-0859-4579-a456-53133fae92bb",
     "showTitle": false,
     "tableResultSettingsMap": {},
     "title": ""
    }
   },
   "source": [
    "### Transformation "
   ]
  },
  {
   "cell_type": "code",
   "execution_count": 0,
   "metadata": {
    "application/vnd.databricks.v1+cell": {
     "cellMetadata": {
      "byteLimit": 2048000,
      "rowLimit": 10000
     },
     "inputWidgets": {},
     "nuid": "fd498582-be23-4a69-a4b3-4732f0481f72",
     "showTitle": false,
     "tableResultSettingsMap": {},
     "title": ""
    }
   },
   "outputs": [
    {
     "output_type": "display_data",
     "data": {
      "text/html": [
       "<style scoped>\n",
       "  .table-result-container {\n",
       "    max-height: 300px;\n",
       "    overflow: auto;\n",
       "  }\n",
       "  table, th, td {\n",
       "    border: 1px solid black;\n",
       "    border-collapse: collapse;\n",
       "  }\n",
       "  th, td {\n",
       "    padding: 5px;\n",
       "  }\n",
       "  th {\n",
       "    text-align: left;\n",
       "  }\n",
       "</style><div class='table-result-container'><table class='table-result'><thead style='background-color: white'><tr><th>OrderID</th><th>OrderDate</th><th>CustomerId</th><th>CustomerName</th><th>CustomerEmail</th><th>ProductID</th><th>ProductName</th><th>ProductCategory</th><th>RegionID</th><th>RegionName</th><th>Country</th><th>Quantity</th><th>UnitPrice</th><th>TotalAmount</th></tr></thead><tbody><tr><td>1001</td><td>2025-06-01</td><td>101</td><td>Ali Khan</td><td>ali.khan@example.com</td><td>201</td><td>Laptop</td><td>Electronics</td><td>1</td><td>Sindh</td><td>Pakistan</td><td>1</td><td>120000.00</td><td>120000.00</td></tr><tr><td>1002</td><td>2025-06-03</td><td>101</td><td>Ali Khan</td><td>ali.khan@example.com</td><td>202</td><td>Mobile Phone</td><td>Electronics</td><td>1</td><td>Sindh</td><td>Pakistan</td><td>2</td><td>45000.00</td><td>90000.00</td></tr><tr><td>1003</td><td>2025-06-05</td><td>101</td><td>Ali Khan</td><td>ali.khan@example.com</td><td>203</td><td>Tablet</td><td>Electronics</td><td>1</td><td>Sindh</td><td>Pakistan</td><td>1</td><td>60000.00</td><td>60000.00</td></tr><tr><td>1004</td><td>2025-06-02</td><td>102</td><td>Ayesha Ahmed</td><td>ayesha.ahmed@example.com</td><td>204</td><td>Washing Machine</td><td>Home Appliances</td><td>2</td><td>Punjab</td><td>Pakistan</td><td>1</td><td>75000.00</td><td>75000.00</td></tr><tr><td>1005</td><td>2025-06-04</td><td>102</td><td>Ayesha Ahmed</td><td>ayesha.ahmed@example.com</td><td>205</td><td>Microwave Oven</td><td>Home Appliances</td><td>2</td><td>Punjab</td><td>Pakistan</td><td>1</td><td>25000.00</td><td>25000.00</td></tr><tr><td>1006</td><td>2025-06-01</td><td>103</td><td>Usman Ali</td><td>usman.ali@example.com</td><td>206</td><td>Football</td><td>Sports</td><td>3</td><td>KPK</td><td>Pakistan</td><td>3</td><td>3000.00</td><td>9000.00</td></tr><tr><td>1007</td><td>2025-06-03</td><td>103</td><td>Usman Ali</td><td>usman.ali@example.com</td><td>207</td><td>Tennis Racket</td><td>Sports</td><td>3</td><td>KPK</td><td>Pakistan</td><td>2</td><td>7000.00</td><td>14000.00</td></tr><tr><td>1008</td><td>2025-06-02</td><td>104</td><td>Fatima Noor</td><td>fatima.noor@example.com</td><td>208</td><td>Bed Sheet</td><td>Textile</td><td>4</td><td>Balochistan</td><td>Pakistan</td><td>4</td><td>2000.00</td><td>8000.00</td></tr><tr><td>1009</td><td>2025-06-05</td><td>104</td><td>Fatima Noor</td><td>fatima.noor@example.com</td><td>209</td><td>Curtains</td><td>Textile</td><td>4</td><td>Balochistan</td><td>Pakistan</td><td>2</td><td>3500.00</td><td>7000.00</td></tr></tbody></table></div>"
      ]
     },
     "metadata": {
      "application/vnd.databricks.v1+output": {
       "addedWidgets": {},
       "aggData": [],
       "aggError": "",
       "aggOverflow": false,
       "aggSchema": [],
       "aggSeriesLimitReached": false,
       "aggType": "",
       "arguments": {},
       "columnCustomDisplayInfos": {},
       "data": [
        [
         1001,
         "2025-06-01",
         101,
         "Ali Khan",
         "ali.khan@example.com",
         201,
         "Laptop",
         "Electronics",
         1,
         "Sindh",
         "Pakistan",
         1,
         "120000.00",
         "120000.00"
        ],
        [
         1002,
         "2025-06-03",
         101,
         "Ali Khan",
         "ali.khan@example.com",
         202,
         "Mobile Phone",
         "Electronics",
         1,
         "Sindh",
         "Pakistan",
         2,
         "45000.00",
         "90000.00"
        ],
        [
         1003,
         "2025-06-05",
         101,
         "Ali Khan",
         "ali.khan@example.com",
         203,
         "Tablet",
         "Electronics",
         1,
         "Sindh",
         "Pakistan",
         1,
         "60000.00",
         "60000.00"
        ],
        [
         1004,
         "2025-06-02",
         102,
         "Ayesha Ahmed",
         "ayesha.ahmed@example.com",
         204,
         "Washing Machine",
         "Home Appliances",
         2,
         "Punjab",
         "Pakistan",
         1,
         "75000.00",
         "75000.00"
        ],
        [
         1005,
         "2025-06-04",
         102,
         "Ayesha Ahmed",
         "ayesha.ahmed@example.com",
         205,
         "Microwave Oven",
         "Home Appliances",
         2,
         "Punjab",
         "Pakistan",
         1,
         "25000.00",
         "25000.00"
        ],
        [
         1006,
         "2025-06-01",
         103,
         "Usman Ali",
         "usman.ali@example.com",
         206,
         "Football",
         "Sports",
         3,
         "KPK",
         "Pakistan",
         3,
         "3000.00",
         "9000.00"
        ],
        [
         1007,
         "2025-06-03",
         103,
         "Usman Ali",
         "usman.ali@example.com",
         207,
         "Tennis Racket",
         "Sports",
         3,
         "KPK",
         "Pakistan",
         2,
         "7000.00",
         "14000.00"
        ],
        [
         1008,
         "2025-06-02",
         104,
         "Fatima Noor",
         "fatima.noor@example.com",
         208,
         "Bed Sheet",
         "Textile",
         4,
         "Balochistan",
         "Pakistan",
         4,
         "2000.00",
         "8000.00"
        ],
        [
         1009,
         "2025-06-05",
         104,
         "Fatima Noor",
         "fatima.noor@example.com",
         209,
         "Curtains",
         "Textile",
         4,
         "Balochistan",
         "Pakistan",
         2,
         "3500.00",
         "7000.00"
        ]
       ],
       "datasetInfos": [
        {
         "name": "_sqldf",
         "schema": {
          "fields": [
           {
            "metadata": {},
            "name": "OrderID",
            "nullable": true,
            "type": "integer"
           },
           {
            "metadata": {},
            "name": "OrderDate",
            "nullable": true,
            "type": "date"
           },
           {
            "metadata": {},
            "name": "CustomerId",
            "nullable": true,
            "type": "integer"
           },
           {
            "metadata": {},
            "name": "CustomerName",
            "nullable": true,
            "type": "string"
           },
           {
            "metadata": {},
            "name": "CustomerEmail",
            "nullable": true,
            "type": "string"
           },
           {
            "metadata": {},
            "name": "ProductID",
            "nullable": true,
            "type": "integer"
           },
           {
            "metadata": {},
            "name": "ProductName",
            "nullable": true,
            "type": "string"
           },
           {
            "metadata": {},
            "name": "ProductCategory",
            "nullable": true,
            "type": "string"
           },
           {
            "metadata": {},
            "name": "RegionID",
            "nullable": true,
            "type": "integer"
           },
           {
            "metadata": {},
            "name": "RegionName",
            "nullable": true,
            "type": "string"
           },
           {
            "metadata": {},
            "name": "Country",
            "nullable": true,
            "type": "string"
           },
           {
            "metadata": {},
            "name": "Quantity",
            "nullable": true,
            "type": "integer"
           },
           {
            "metadata": {},
            "name": "UnitPrice",
            "nullable": true,
            "type": "decimal(18,2)"
           },
           {
            "metadata": {},
            "name": "TotalAmount",
            "nullable": true,
            "type": "decimal(18,2)"
           }
          ],
          "type": "struct"
         },
         "tableIdentifier": null,
         "typeStr": "pyspark.sql.connect.dataframe.DataFrame"
        }
       ],
       "dbfsResultPath": null,
       "isJsonSchema": true,
       "metadata": {
        "createTempViewForImplicitDf": true,
        "dataframeName": "_sqldf",
        "executionCount": 31
       },
       "overflow": false,
       "plotOptions": {
        "customPlotOptions": {},
        "displayType": "table",
        "pivotAggregation": null,
        "pivotColumns": null,
        "xColumns": null,
        "yColumns": null
       },
       "removedWidgets": [],
       "schema": [
        {
         "metadata": "{}",
         "name": "OrderID",
         "type": "\"integer\""
        },
        {
         "metadata": "{}",
         "name": "OrderDate",
         "type": "\"date\""
        },
        {
         "metadata": "{}",
         "name": "CustomerId",
         "type": "\"integer\""
        },
        {
         "metadata": "{}",
         "name": "CustomerName",
         "type": "\"string\""
        },
        {
         "metadata": "{}",
         "name": "CustomerEmail",
         "type": "\"string\""
        },
        {
         "metadata": "{}",
         "name": "ProductID",
         "type": "\"integer\""
        },
        {
         "metadata": "{}",
         "name": "ProductName",
         "type": "\"string\""
        },
        {
         "metadata": "{}",
         "name": "ProductCategory",
         "type": "\"string\""
        },
        {
         "metadata": "{}",
         "name": "RegionID",
         "type": "\"integer\""
        },
        {
         "metadata": "{}",
         "name": "RegionName",
         "type": "\"string\""
        },
        {
         "metadata": "{}",
         "name": "Country",
         "type": "\"string\""
        },
        {
         "metadata": "{}",
         "name": "Quantity",
         "type": "\"integer\""
        },
        {
         "metadata": "{}",
         "name": "UnitPrice",
         "type": "\"decimal(18,2)\""
        },
        {
         "metadata": "{}",
         "name": "TotalAmount",
         "type": "\"decimal(18,2)\""
        }
       ],
       "type": "table"
      }
     },
     "output_type": "display_data"
    }
   ],
   "source": [
    "select * from orders_dwh.stg_sales where Quantity is not null"
   ]
  },
  {
   "cell_type": "code",
   "execution_count": 0,
   "metadata": {
    "application/vnd.databricks.v1+cell": {
     "cellMetadata": {
      "byteLimit": 2048000,
      "rowLimit": 10000
     },
     "inputWidgets": {},
     "nuid": "07b240fc-1a5e-4cff-9063-528525c7253d",
     "showTitle": false,
     "tableResultSettingsMap": {},
     "title": ""
    }
   },
   "outputs": [],
   "source": [
    "CREATE VIEW orders_dwh.Trans_sales AS\n",
    "SELECT * FROM orders_dwh.stg_sales where Quantity is not null"
   ]
  },
  {
   "cell_type": "code",
   "execution_count": 0,
   "metadata": {
    "application/vnd.databricks.v1+cell": {
     "cellMetadata": {
      "byteLimit": 2048000,
      "rowLimit": 10000
     },
     "inputWidgets": {},
     "nuid": "b6d6dc47-d8ff-4796-ab5c-46eb8e94e880",
     "showTitle": false,
     "tableResultSettingsMap": {},
     "title": ""
    }
   },
   "outputs": [
    {
     "output_type": "display_data",
     "data": {
      "text/html": [
       "<style scoped>\n",
       "  .table-result-container {\n",
       "    max-height: 300px;\n",
       "    overflow: auto;\n",
       "  }\n",
       "  table, th, td {\n",
       "    border: 1px solid black;\n",
       "    border-collapse: collapse;\n",
       "  }\n",
       "  th, td {\n",
       "    padding: 5px;\n",
       "  }\n",
       "  th {\n",
       "    text-align: left;\n",
       "  }\n",
       "</style><div class='table-result-container'><table class='table-result'><thead style='background-color: white'><tr><th>OrderID</th><th>OrderDate</th><th>CustomerId</th><th>CustomerName</th><th>CustomerEmail</th><th>ProductID</th><th>ProductName</th><th>ProductCategory</th><th>RegionID</th><th>RegionName</th><th>Country</th><th>Quantity</th><th>UnitPrice</th><th>TotalAmount</th></tr></thead><tbody><tr><td>1001</td><td>2025-06-01</td><td>101</td><td>Ali Khan</td><td>ali.khan@example.com</td><td>201</td><td>Laptop</td><td>Electronics</td><td>1</td><td>Sindh</td><td>Pakistan</td><td>1</td><td>120000.00</td><td>120000.00</td></tr><tr><td>1006</td><td>2025-06-01</td><td>103</td><td>Usman Ali</td><td>usman.ali@example.com</td><td>206</td><td>Football</td><td>Sports</td><td>3</td><td>KPK</td><td>Pakistan</td><td>3</td><td>3000.00</td><td>9000.00</td></tr><tr><td>1008</td><td>2025-06-02</td><td>104</td><td>Fatima Noor</td><td>fatima.noor@example.com</td><td>208</td><td>Bed Sheet</td><td>Textile</td><td>4</td><td>Balochistan</td><td>Pakistan</td><td>4</td><td>2000.00</td><td>8000.00</td></tr><tr><td>1004</td><td>2025-06-02</td><td>102</td><td>Ayesha Ahmed</td><td>ayesha.ahmed@example.com</td><td>204</td><td>Washing Machine</td><td>Home Appliances</td><td>2</td><td>Punjab</td><td>Pakistan</td><td>1</td><td>75000.00</td><td>75000.00</td></tr><tr><td>1007</td><td>2025-06-03</td><td>103</td><td>Usman Ali</td><td>usman.ali@example.com</td><td>207</td><td>Tennis Racket</td><td>Sports</td><td>3</td><td>KPK</td><td>Pakistan</td><td>2</td><td>7000.00</td><td>14000.00</td></tr><tr><td>1002</td><td>2025-06-03</td><td>101</td><td>Ali Khan</td><td>ali.khan@example.com</td><td>202</td><td>Mobile Phone</td><td>Electronics</td><td>1</td><td>Sindh</td><td>Pakistan</td><td>2</td><td>45000.00</td><td>90000.00</td></tr><tr><td>1005</td><td>2025-06-04</td><td>102</td><td>Ayesha Ahmed</td><td>ayesha.ahmed@example.com</td><td>205</td><td>Microwave Oven</td><td>Home Appliances</td><td>2</td><td>Punjab</td><td>Pakistan</td><td>1</td><td>25000.00</td><td>25000.00</td></tr><tr><td>1003</td><td>2025-06-05</td><td>101</td><td>Ali Khan</td><td>ali.khan@example.com</td><td>203</td><td>Tablet</td><td>Electronics</td><td>1</td><td>Sindh</td><td>Pakistan</td><td>1</td><td>60000.00</td><td>60000.00</td></tr><tr><td>1009</td><td>2025-06-05</td><td>104</td><td>Fatima Noor</td><td>fatima.noor@example.com</td><td>209</td><td>Curtains</td><td>Textile</td><td>4</td><td>Balochistan</td><td>Pakistan</td><td>2</td><td>3500.00</td><td>7000.00</td></tr></tbody></table></div>"
      ]
     },
     "metadata": {
      "application/vnd.databricks.v1+output": {
       "addedWidgets": {},
       "aggData": [],
       "aggError": "",
       "aggOverflow": false,
       "aggSchema": [],
       "aggSeriesLimitReached": false,
       "aggType": "",
       "arguments": {},
       "columnCustomDisplayInfos": {},
       "data": [
        [
         1001,
         "2025-06-01",
         101,
         "Ali Khan",
         "ali.khan@example.com",
         201,
         "Laptop",
         "Electronics",
         1,
         "Sindh",
         "Pakistan",
         1,
         "120000.00",
         "120000.00"
        ],
        [
         1006,
         "2025-06-01",
         103,
         "Usman Ali",
         "usman.ali@example.com",
         206,
         "Football",
         "Sports",
         3,
         "KPK",
         "Pakistan",
         3,
         "3000.00",
         "9000.00"
        ],
        [
         1008,
         "2025-06-02",
         104,
         "Fatima Noor",
         "fatima.noor@example.com",
         208,
         "Bed Sheet",
         "Textile",
         4,
         "Balochistan",
         "Pakistan",
         4,
         "2000.00",
         "8000.00"
        ],
        [
         1004,
         "2025-06-02",
         102,
         "Ayesha Ahmed",
         "ayesha.ahmed@example.com",
         204,
         "Washing Machine",
         "Home Appliances",
         2,
         "Punjab",
         "Pakistan",
         1,
         "75000.00",
         "75000.00"
        ],
        [
         1007,
         "2025-06-03",
         103,
         "Usman Ali",
         "usman.ali@example.com",
         207,
         "Tennis Racket",
         "Sports",
         3,
         "KPK",
         "Pakistan",
         2,
         "7000.00",
         "14000.00"
        ],
        [
         1002,
         "2025-06-03",
         101,
         "Ali Khan",
         "ali.khan@example.com",
         202,
         "Mobile Phone",
         "Electronics",
         1,
         "Sindh",
         "Pakistan",
         2,
         "45000.00",
         "90000.00"
        ],
        [
         1005,
         "2025-06-04",
         102,
         "Ayesha Ahmed",
         "ayesha.ahmed@example.com",
         205,
         "Microwave Oven",
         "Home Appliances",
         2,
         "Punjab",
         "Pakistan",
         1,
         "25000.00",
         "25000.00"
        ],
        [
         1003,
         "2025-06-05",
         101,
         "Ali Khan",
         "ali.khan@example.com",
         203,
         "Tablet",
         "Electronics",
         1,
         "Sindh",
         "Pakistan",
         1,
         "60000.00",
         "60000.00"
        ],
        [
         1009,
         "2025-06-05",
         104,
         "Fatima Noor",
         "fatima.noor@example.com",
         209,
         "Curtains",
         "Textile",
         4,
         "Balochistan",
         "Pakistan",
         2,
         "3500.00",
         "7000.00"
        ]
       ],
       "datasetInfos": [
        {
         "name": "_sqldf",
         "schema": {
          "fields": [
           {
            "metadata": {},
            "name": "OrderID",
            "nullable": true,
            "type": "integer"
           },
           {
            "metadata": {},
            "name": "OrderDate",
            "nullable": true,
            "type": "date"
           },
           {
            "metadata": {},
            "name": "CustomerId",
            "nullable": true,
            "type": "integer"
           },
           {
            "metadata": {},
            "name": "CustomerName",
            "nullable": true,
            "type": "string"
           },
           {
            "metadata": {},
            "name": "CustomerEmail",
            "nullable": true,
            "type": "string"
           },
           {
            "metadata": {},
            "name": "ProductID",
            "nullable": true,
            "type": "integer"
           },
           {
            "metadata": {},
            "name": "ProductName",
            "nullable": true,
            "type": "string"
           },
           {
            "metadata": {},
            "name": "ProductCategory",
            "nullable": true,
            "type": "string"
           },
           {
            "metadata": {},
            "name": "RegionID",
            "nullable": true,
            "type": "integer"
           },
           {
            "metadata": {},
            "name": "RegionName",
            "nullable": true,
            "type": "string"
           },
           {
            "metadata": {},
            "name": "Country",
            "nullable": true,
            "type": "string"
           },
           {
            "metadata": {},
            "name": "Quantity",
            "nullable": true,
            "type": "integer"
           },
           {
            "metadata": {},
            "name": "UnitPrice",
            "nullable": true,
            "type": "decimal(18,2)"
           },
           {
            "metadata": {},
            "name": "TotalAmount",
            "nullable": true,
            "type": "decimal(18,2)"
           }
          ],
          "type": "struct"
         },
         "tableIdentifier": null,
         "typeStr": "pyspark.sql.connect.dataframe.DataFrame"
        }
       ],
       "dbfsResultPath": null,
       "isJsonSchema": true,
       "metadata": {
        "createTempViewForImplicitDf": true,
        "dataframeName": "_sqldf",
        "executionCount": 49
       },
       "overflow": false,
       "plotOptions": {
        "customPlotOptions": {},
        "displayType": "table",
        "pivotAggregation": null,
        "pivotColumns": null,
        "xColumns": null,
        "yColumns": null
       },
       "removedWidgets": [],
       "schema": [
        {
         "metadata": "{}",
         "name": "OrderID",
         "type": "\"integer\""
        },
        {
         "metadata": "{}",
         "name": "OrderDate",
         "type": "\"date\""
        },
        {
         "metadata": "{}",
         "name": "CustomerId",
         "type": "\"integer\""
        },
        {
         "metadata": "{}",
         "name": "CustomerName",
         "type": "\"string\""
        },
        {
         "metadata": "{}",
         "name": "CustomerEmail",
         "type": "\"string\""
        },
        {
         "metadata": "{}",
         "name": "ProductID",
         "type": "\"integer\""
        },
        {
         "metadata": "{}",
         "name": "ProductName",
         "type": "\"string\""
        },
        {
         "metadata": "{}",
         "name": "ProductCategory",
         "type": "\"string\""
        },
        {
         "metadata": "{}",
         "name": "RegionID",
         "type": "\"integer\""
        },
        {
         "metadata": "{}",
         "name": "RegionName",
         "type": "\"string\""
        },
        {
         "metadata": "{}",
         "name": "Country",
         "type": "\"string\""
        },
        {
         "metadata": "{}",
         "name": "Quantity",
         "type": "\"integer\""
        },
        {
         "metadata": "{}",
         "name": "UnitPrice",
         "type": "\"decimal(18,2)\""
        },
        {
         "metadata": "{}",
         "name": "TotalAmount",
         "type": "\"decimal(18,2)\""
        }
       ],
       "type": "table"
      }
     },
     "output_type": "display_data"
    }
   ],
   "source": [
    "select * from orders_dwh.Trans_sales order by OrderDate ASC"
   ]
  },
  {
   "cell_type": "markdown",
   "metadata": {
    "application/vnd.databricks.v1+cell": {
     "cellMetadata": {},
     "inputWidgets": {},
     "nuid": "d48b98a1-3812-4b09-9ea4-c1d319948d74",
     "showTitle": false,
     "tableResultSettingsMap": {},
     "title": ""
    }
   },
   "source": [
    "# Core Layer"
   ]
  },
  {
   "cell_type": "code",
   "execution_count": 0,
   "metadata": {
    "application/vnd.databricks.v1+cell": {
     "cellMetadata": {
      "byteLimit": 2048000,
      "rowLimit": 10000
     },
     "inputWidgets": {},
     "nuid": "1d5bd380-1ddd-4546-9a85-5fc23cdd94a2",
     "showTitle": false,
     "tableResultSettingsMap": {},
     "title": ""
    }
   },
   "outputs": [
    {
     "output_type": "display_data",
     "data": {
      "text/html": [
       "<style scoped>\n",
       "  .table-result-container {\n",
       "    max-height: 300px;\n",
       "    overflow: auto;\n",
       "  }\n",
       "  table, th, td {\n",
       "    border: 1px solid black;\n",
       "    border-collapse: collapse;\n",
       "  }\n",
       "  th, td {\n",
       "    padding: 5px;\n",
       "  }\n",
       "  th {\n",
       "    text-align: left;\n",
       "  }\n",
       "</style><div class='table-result-container'><table class='table-result'><thead style='background-color: white'><tr><th>num_affected_rows</th><th>num_inserted_rows</th></tr></thead><tbody></tbody></table></div>"
      ]
     },
     "metadata": {
      "application/vnd.databricks.v1+output": {
       "addedWidgets": {},
       "aggData": [],
       "aggError": "",
       "aggOverflow": false,
       "aggSchema": [],
       "aggSeriesLimitReached": false,
       "aggType": "",
       "arguments": {},
       "columnCustomDisplayInfos": {},
       "data": [],
       "datasetInfos": [
        {
         "name": "_sqldf",
         "schema": {
          "fields": [
           {
            "metadata": {},
            "name": "num_affected_rows",
            "nullable": true,
            "type": "long"
           },
           {
            "metadata": {},
            "name": "num_inserted_rows",
            "nullable": true,
            "type": "long"
           }
          ],
          "type": "struct"
         },
         "tableIdentifier": null,
         "typeStr": "pyspark.sql.connect.dataframe.DataFrame"
        }
       ],
       "dbfsResultPath": null,
       "isJsonSchema": true,
       "metadata": {
        "createTempViewForImplicitDf": true,
        "dataframeName": "_sqldf",
        "executionCount": 40
       },
       "overflow": false,
       "plotOptions": {
        "customPlotOptions": {},
        "displayType": "table",
        "pivotAggregation": null,
        "pivotColumns": null,
        "xColumns": null,
        "yColumns": null
       },
       "removedWidgets": [],
       "schema": [
        {
         "metadata": "{}",
         "name": "num_affected_rows",
         "type": "\"long\""
        },
        {
         "metadata": "{}",
         "name": "num_inserted_rows",
         "type": "\"long\""
        }
       ],
       "type": "table"
      }
     },
     "output_type": "display_data"
    }
   ],
   "source": [
    "CREATE OR REPLACE TABLE orders_dwh.core_sales AS\n",
    "SELECT \n",
    "    OrderID,\n",
    "    OrderDate,\n",
    "    CustomerId,\n",
    "    CustomerName,\n",
    "    CustomerEmail,\n",
    "    ProductID,\n",
    "    ProductName,\n",
    "    ProductCategory,\n",
    "    RegionID,\n",
    "    RegionName,\n",
    "    Country,\n",
    "    Quantity,\n",
    "    UnitPrice,\n",
    "    (Quantity * UnitPrice) AS TotalAmount\n",
    "FROM salesdwh.trans_sales;"
   ]
  },
  {
   "cell_type": "markdown",
   "metadata": {
    "application/vnd.databricks.v1+cell": {
     "cellMetadata": {},
     "inputWidgets": {},
     "nuid": "753f3fff-f2cd-41b2-b40a-b60f8a6b273a",
     "showTitle": false,
     "tableResultSettingsMap": {},
     "title": ""
    }
   },
   "source": [
    "### Inserting Data Into Core Layer From Transform Layer"
   ]
  },
  {
   "cell_type": "code",
   "execution_count": 0,
   "metadata": {
    "application/vnd.databricks.v1+cell": {
     "cellMetadata": {
      "byteLimit": 2048000,
      "rowLimit": 10000
     },
     "inputWidgets": {},
     "nuid": "3c5262ec-4054-4776-9948-40a43ceeef67",
     "showTitle": false,
     "tableResultSettingsMap": {},
     "title": ""
    }
   },
   "outputs": [
    {
     "output_type": "display_data",
     "data": {
      "text/html": [
       "<style scoped>\n",
       "  .table-result-container {\n",
       "    max-height: 300px;\n",
       "    overflow: auto;\n",
       "  }\n",
       "  table, th, td {\n",
       "    border: 1px solid black;\n",
       "    border-collapse: collapse;\n",
       "  }\n",
       "  th, td {\n",
       "    padding: 5px;\n",
       "  }\n",
       "  th {\n",
       "    text-align: left;\n",
       "  }\n",
       "</style><div class='table-result-container'><table class='table-result'><thead style='background-color: white'><tr><th>num_affected_rows</th><th>num_inserted_rows</th></tr></thead><tbody><tr><td>9</td><td>9</td></tr></tbody></table></div>"
      ]
     },
     "metadata": {
      "application/vnd.databricks.v1+output": {
       "addedWidgets": {},
       "aggData": [],
       "aggError": "",
       "aggOverflow": false,
       "aggSchema": [],
       "aggSeriesLimitReached": false,
       "aggType": "",
       "arguments": {},
       "columnCustomDisplayInfos": {},
       "data": [
        [
         9,
         9
        ]
       ],
       "datasetInfos": [
        {
         "name": "_sqldf",
         "schema": {
          "fields": [
           {
            "metadata": {},
            "name": "num_affected_rows",
            "nullable": true,
            "type": "long"
           },
           {
            "metadata": {},
            "name": "num_inserted_rows",
            "nullable": true,
            "type": "long"
           }
          ],
          "type": "struct"
         },
         "tableIdentifier": null,
         "typeStr": "pyspark.sql.connect.dataframe.DataFrame"
        }
       ],
       "dbfsResultPath": null,
       "isJsonSchema": true,
       "metadata": {
        "createTempViewForImplicitDf": true,
        "dataframeName": "_sqldf",
        "executionCount": 46
       },
       "overflow": false,
       "plotOptions": {
        "customPlotOptions": {},
        "displayType": "table",
        "pivotAggregation": null,
        "pivotColumns": null,
        "xColumns": null,
        "yColumns": null
       },
       "removedWidgets": [],
       "schema": [
        {
         "metadata": "{}",
         "name": "num_affected_rows",
         "type": "\"long\""
        },
        {
         "metadata": "{}",
         "name": "num_inserted_rows",
         "type": "\"long\""
        }
       ],
       "type": "table"
      }
     },
     "output_type": "display_data"
    }
   ],
   "source": [
    "INSERT INTO orders_dwh.core_sales\n",
    "SELECT *\n",
    "FROM orders_dwh.trans_sales;"
   ]
  },
  {
   "cell_type": "markdown",
   "metadata": {
    "application/vnd.databricks.v1+cell": {
     "cellMetadata": {},
     "inputWidgets": {},
     "nuid": "81930017-25ca-4720-9391-167d7e85279f",
     "showTitle": false,
     "tableResultSettingsMap": {},
     "title": ""
    }
   },
   "source": [
    "### DWH Core Layer Display"
   ]
  },
  {
   "cell_type": "code",
   "execution_count": 0,
   "metadata": {
    "application/vnd.databricks.v1+cell": {
     "cellMetadata": {
      "byteLimit": 2048000,
      "rowLimit": 10000
     },
     "inputWidgets": {},
     "nuid": "7013d33d-ad60-4d92-967a-9525d6687b7a",
     "showTitle": false,
     "tableResultSettingsMap": {},
     "title": ""
    }
   },
   "outputs": [
    {
     "output_type": "display_data",
     "data": {
      "text/html": [
       "<style scoped>\n",
       "  .table-result-container {\n",
       "    max-height: 300px;\n",
       "    overflow: auto;\n",
       "  }\n",
       "  table, th, td {\n",
       "    border: 1px solid black;\n",
       "    border-collapse: collapse;\n",
       "  }\n",
       "  th, td {\n",
       "    padding: 5px;\n",
       "  }\n",
       "  th {\n",
       "    text-align: left;\n",
       "  }\n",
       "</style><div class='table-result-container'><table class='table-result'><thead style='background-color: white'><tr><th>OrderID</th><th>OrderDate</th><th>CustomerId</th><th>CustomerName</th><th>CustomerEmail</th><th>ProductID</th><th>ProductName</th><th>ProductCategory</th><th>RegionID</th><th>RegionName</th><th>Country</th><th>Quantity</th><th>UnitPrice</th><th>TotalAmount</th></tr></thead><tbody><tr><td>1001</td><td>2025-06-01</td><td>101</td><td>Ali Khan</td><td>ali.khan@example.com</td><td>201</td><td>Laptop</td><td>Electronics</td><td>1</td><td>Sindh</td><td>Pakistan</td><td>1</td><td>120000.00</td><td>120000.00</td></tr><tr><td>1002</td><td>2025-06-03</td><td>101</td><td>Ali Khan</td><td>ali.khan@example.com</td><td>202</td><td>Mobile Phone</td><td>Electronics</td><td>1</td><td>Sindh</td><td>Pakistan</td><td>2</td><td>45000.00</td><td>90000.00</td></tr><tr><td>1003</td><td>2025-06-05</td><td>101</td><td>Ali Khan</td><td>ali.khan@example.com</td><td>203</td><td>Tablet</td><td>Electronics</td><td>1</td><td>Sindh</td><td>Pakistan</td><td>1</td><td>60000.00</td><td>60000.00</td></tr><tr><td>1004</td><td>2025-06-02</td><td>102</td><td>Ayesha Ahmed</td><td>ayesha.ahmed@example.com</td><td>204</td><td>Washing Machine</td><td>Home Appliances</td><td>2</td><td>Punjab</td><td>Pakistan</td><td>1</td><td>75000.00</td><td>75000.00</td></tr><tr><td>1005</td><td>2025-06-04</td><td>102</td><td>Ayesha Ahmed</td><td>ayesha.ahmed@example.com</td><td>205</td><td>Microwave Oven</td><td>Home Appliances</td><td>2</td><td>Punjab</td><td>Pakistan</td><td>1</td><td>25000.00</td><td>25000.00</td></tr><tr><td>1006</td><td>2025-06-01</td><td>103</td><td>Usman Ali</td><td>usman.ali@example.com</td><td>206</td><td>Football</td><td>Sports</td><td>3</td><td>KPK</td><td>Pakistan</td><td>3</td><td>3000.00</td><td>9000.00</td></tr><tr><td>1007</td><td>2025-06-03</td><td>103</td><td>Usman Ali</td><td>usman.ali@example.com</td><td>207</td><td>Tennis Racket</td><td>Sports</td><td>3</td><td>KPK</td><td>Pakistan</td><td>2</td><td>7000.00</td><td>14000.00</td></tr><tr><td>1008</td><td>2025-06-02</td><td>104</td><td>Fatima Noor</td><td>fatima.noor@example.com</td><td>208</td><td>Bed Sheet</td><td>Textile</td><td>4</td><td>Balochistan</td><td>Pakistan</td><td>4</td><td>2000.00</td><td>8000.00</td></tr><tr><td>1009</td><td>2025-06-05</td><td>104</td><td>Fatima Noor</td><td>fatima.noor@example.com</td><td>209</td><td>Curtains</td><td>Textile</td><td>4</td><td>Balochistan</td><td>Pakistan</td><td>2</td><td>3500.00</td><td>7000.00</td></tr></tbody></table></div>"
      ]
     },
     "metadata": {
      "application/vnd.databricks.v1+output": {
       "addedWidgets": {},
       "aggData": [],
       "aggError": "",
       "aggOverflow": false,
       "aggSchema": [],
       "aggSeriesLimitReached": false,
       "aggType": "",
       "arguments": {},
       "columnCustomDisplayInfos": {},
       "data": [
        [
         1001,
         "2025-06-01",
         101,
         "Ali Khan",
         "ali.khan@example.com",
         201,
         "Laptop",
         "Electronics",
         1,
         "Sindh",
         "Pakistan",
         1,
         "120000.00",
         "120000.00"
        ],
        [
         1002,
         "2025-06-03",
         101,
         "Ali Khan",
         "ali.khan@example.com",
         202,
         "Mobile Phone",
         "Electronics",
         1,
         "Sindh",
         "Pakistan",
         2,
         "45000.00",
         "90000.00"
        ],
        [
         1003,
         "2025-06-05",
         101,
         "Ali Khan",
         "ali.khan@example.com",
         203,
         "Tablet",
         "Electronics",
         1,
         "Sindh",
         "Pakistan",
         1,
         "60000.00",
         "60000.00"
        ],
        [
         1004,
         "2025-06-02",
         102,
         "Ayesha Ahmed",
         "ayesha.ahmed@example.com",
         204,
         "Washing Machine",
         "Home Appliances",
         2,
         "Punjab",
         "Pakistan",
         1,
         "75000.00",
         "75000.00"
        ],
        [
         1005,
         "2025-06-04",
         102,
         "Ayesha Ahmed",
         "ayesha.ahmed@example.com",
         205,
         "Microwave Oven",
         "Home Appliances",
         2,
         "Punjab",
         "Pakistan",
         1,
         "25000.00",
         "25000.00"
        ],
        [
         1006,
         "2025-06-01",
         103,
         "Usman Ali",
         "usman.ali@example.com",
         206,
         "Football",
         "Sports",
         3,
         "KPK",
         "Pakistan",
         3,
         "3000.00",
         "9000.00"
        ],
        [
         1007,
         "2025-06-03",
         103,
         "Usman Ali",
         "usman.ali@example.com",
         207,
         "Tennis Racket",
         "Sports",
         3,
         "KPK",
         "Pakistan",
         2,
         "7000.00",
         "14000.00"
        ],
        [
         1008,
         "2025-06-02",
         104,
         "Fatima Noor",
         "fatima.noor@example.com",
         208,
         "Bed Sheet",
         "Textile",
         4,
         "Balochistan",
         "Pakistan",
         4,
         "2000.00",
         "8000.00"
        ],
        [
         1009,
         "2025-06-05",
         104,
         "Fatima Noor",
         "fatima.noor@example.com",
         209,
         "Curtains",
         "Textile",
         4,
         "Balochistan",
         "Pakistan",
         2,
         "3500.00",
         "7000.00"
        ]
       ],
       "datasetInfos": [
        {
         "name": "_sqldf",
         "schema": {
          "fields": [
           {
            "metadata": {},
            "name": "OrderID",
            "nullable": true,
            "type": "integer"
           },
           {
            "metadata": {},
            "name": "OrderDate",
            "nullable": true,
            "type": "date"
           },
           {
            "metadata": {},
            "name": "CustomerId",
            "nullable": true,
            "type": "integer"
           },
           {
            "metadata": {},
            "name": "CustomerName",
            "nullable": true,
            "type": "string"
           },
           {
            "metadata": {},
            "name": "CustomerEmail",
            "nullable": true,
            "type": "string"
           },
           {
            "metadata": {},
            "name": "ProductID",
            "nullable": true,
            "type": "integer"
           },
           {
            "metadata": {},
            "name": "ProductName",
            "nullable": true,
            "type": "string"
           },
           {
            "metadata": {},
            "name": "ProductCategory",
            "nullable": true,
            "type": "string"
           },
           {
            "metadata": {},
            "name": "RegionID",
            "nullable": true,
            "type": "integer"
           },
           {
            "metadata": {},
            "name": "RegionName",
            "nullable": true,
            "type": "string"
           },
           {
            "metadata": {},
            "name": "Country",
            "nullable": true,
            "type": "string"
           },
           {
            "metadata": {},
            "name": "Quantity",
            "nullable": true,
            "type": "integer"
           },
           {
            "metadata": {},
            "name": "UnitPrice",
            "nullable": true,
            "type": "decimal(18,2)"
           },
           {
            "metadata": {},
            "name": "TotalAmount",
            "nullable": true,
            "type": "decimal(29,2)"
           }
          ],
          "type": "struct"
         },
         "tableIdentifier": null,
         "typeStr": "pyspark.sql.connect.dataframe.DataFrame"
        }
       ],
       "dbfsResultPath": null,
       "isJsonSchema": true,
       "metadata": {
        "createTempViewForImplicitDf": true,
        "dataframeName": "_sqldf",
        "executionCount": 91
       },
       "overflow": false,
       "plotOptions": {
        "customPlotOptions": {},
        "displayType": "table",
        "pivotAggregation": null,
        "pivotColumns": null,
        "xColumns": null,
        "yColumns": null
       },
       "removedWidgets": [],
       "schema": [
        {
         "metadata": "{}",
         "name": "OrderID",
         "type": "\"integer\""
        },
        {
         "metadata": "{}",
         "name": "OrderDate",
         "type": "\"date\""
        },
        {
         "metadata": "{}",
         "name": "CustomerId",
         "type": "\"integer\""
        },
        {
         "metadata": "{}",
         "name": "CustomerName",
         "type": "\"string\""
        },
        {
         "metadata": "{}",
         "name": "CustomerEmail",
         "type": "\"string\""
        },
        {
         "metadata": "{}",
         "name": "ProductID",
         "type": "\"integer\""
        },
        {
         "metadata": "{}",
         "name": "ProductName",
         "type": "\"string\""
        },
        {
         "metadata": "{}",
         "name": "ProductCategory",
         "type": "\"string\""
        },
        {
         "metadata": "{}",
         "name": "RegionID",
         "type": "\"integer\""
        },
        {
         "metadata": "{}",
         "name": "RegionName",
         "type": "\"string\""
        },
        {
         "metadata": "{}",
         "name": "Country",
         "type": "\"string\""
        },
        {
         "metadata": "{}",
         "name": "Quantity",
         "type": "\"integer\""
        },
        {
         "metadata": "{}",
         "name": "UnitPrice",
         "type": "\"decimal(18,2)\""
        },
        {
         "metadata": "{}",
         "name": "TotalAmount",
         "type": "\"decimal(29,2)\""
        }
       ],
       "type": "table"
      }
     },
     "output_type": "display_data"
    }
   ],
   "source": [
    "select * from orders_dwh.core_sales"
   ]
  },
  {
   "cell_type": "markdown",
   "metadata": {
    "application/vnd.databricks.v1+cell": {
     "cellMetadata": {},
     "inputWidgets": {},
     "nuid": "bab171fc-8f93-46ae-a811-065e66188929",
     "showTitle": false,
     "tableResultSettingsMap": {},
     "title": ""
    }
   },
   "source": [
    "# Creating Dimensions Accoding To Star Schema Model"
   ]
  },
  {
   "cell_type": "markdown",
   "metadata": {
    "application/vnd.databricks.v1+cell": {
     "cellMetadata": {},
     "inputWidgets": {},
     "nuid": "173790e2-8c96-453e-ac46-6c2cb1444902",
     "showTitle": false,
     "tableResultSettingsMap": {},
     "title": ""
    }
   },
   "source": [
    "### Creating CustomersDimension"
   ]
  },
  {
   "cell_type": "code",
   "execution_count": 0,
   "metadata": {
    "application/vnd.databricks.v1+cell": {
     "cellMetadata": {
      "byteLimit": 2048000,
      "rowLimit": 10000
     },
     "inputWidgets": {},
     "nuid": "eca24724-27a5-4e82-9312-7d3a97563df7",
     "showTitle": false,
     "tableResultSettingsMap": {},
     "title": ""
    }
   },
   "outputs": [],
   "source": [
    "CREATE OR REPLACE TABLE orders_dwh.DimCustomers (\n",
    "    CustomerID INT,\n",
    "    CustomerName STRING,\n",
    "    CustomerEmail STRING,\n",
    "    DimCustomersKey INT\n",
    ");\n"
   ]
  },
  {
   "cell_type": "markdown",
   "metadata": {
    "application/vnd.databricks.v1+cell": {
     "cellMetadata": {},
     "inputWidgets": {},
     "nuid": "9bdae20f-5ac9-43d6-be11-69503ab3bdf6",
     "showTitle": false,
     "tableResultSettingsMap": {},
     "title": ""
    }
   },
   "source": [
    "### Creating View (View_DimCustomers) And Insert Surrogate Key (DIMCustomersKey)"
   ]
  },
  {
   "cell_type": "code",
   "execution_count": 0,
   "metadata": {
    "application/vnd.databricks.v1+cell": {
     "cellMetadata": {
      "byteLimit": 2048000,
      "rowLimit": 10000
     },
     "inputWidgets": {},
     "nuid": "601e283e-95c6-4881-92c8-7b38ea18f6f6",
     "showTitle": false,
     "tableResultSettingsMap": {},
     "title": ""
    }
   },
   "outputs": [],
   "source": [
    "CREATE OR REPLACE view Orders_dwh.Vw_DimCustomers AS\n",
    "SELECT T.*, row_number() OVER (ORDER BY CUSTOMERID) AS DimCustomersKey -- Surrogate Key\n",
    "FROM (\n",
    "SELECT  \n",
    "  DISTINCT(CUSTOMERID) AS CUSTOMERID,\n",
    "  CustomerName,\n",
    "  CustomerEmail\n",
    "FROM \n",
    " orders_dwh.trans_sales) AS T"
   ]
  },
  {
   "cell_type": "code",
   "execution_count": 0,
   "metadata": {
    "application/vnd.databricks.v1+cell": {
     "cellMetadata": {
      "byteLimit": 2048000,
      "rowLimit": 10000
     },
     "inputWidgets": {},
     "nuid": "1bc54d43-ec14-4834-93e6-d8f8794343a1",
     "showTitle": false,
     "tableResultSettingsMap": {
      "0": {
       "dataGridStateBlob": "{\"version\":1,\"tableState\":{\"columnPinning\":{\"left\":[\"#row_number#\"],\"right\":[]},\"columnSizing\":{},\"columnVisibility\":{}},\"settings\":{\"columns\":{}},\"syncTimestamp\":1758478981918}",
       "filterBlob": null,
       "queryPlanFiltersBlob": null,
       "tableResultIndex": 0
      }
     },
     "title": ""
    }
   },
   "outputs": [
    {
     "output_type": "display_data",
     "data": {
      "text/html": [
       "<style scoped>\n",
       "  .table-result-container {\n",
       "    max-height: 300px;\n",
       "    overflow: auto;\n",
       "  }\n",
       "  table, th, td {\n",
       "    border: 1px solid black;\n",
       "    border-collapse: collapse;\n",
       "  }\n",
       "  th, td {\n",
       "    padding: 5px;\n",
       "  }\n",
       "  th {\n",
       "    text-align: left;\n",
       "  }\n",
       "</style><div class='table-result-container'><table class='table-result'><thead style='background-color: white'><tr><th>CUSTOMERID</th><th>CustomerName</th><th>CustomerEmail</th><th>DimCustomersKey</th></tr></thead><tbody><tr><td>101</td><td>Ali Khan</td><td>ali.khan@example.com</td><td>1</td></tr><tr><td>102</td><td>Ayesha Ahmed</td><td>ayesha.ahmed@example.com</td><td>2</td></tr><tr><td>103</td><td>Usman Ali</td><td>usman.ali@example.com</td><td>3</td></tr><tr><td>104</td><td>Fatima Noor</td><td>fatima.noor@example.com</td><td>4</td></tr></tbody></table></div>"
      ]
     },
     "metadata": {
      "application/vnd.databricks.v1+output": {
       "addedWidgets": {},
       "aggData": [],
       "aggError": "",
       "aggOverflow": false,
       "aggSchema": [],
       "aggSeriesLimitReached": false,
       "aggType": "",
       "arguments": {},
       "columnCustomDisplayInfos": {},
       "data": [
        [
         101,
         "Ali Khan",
         "ali.khan@example.com",
         1
        ],
        [
         102,
         "Ayesha Ahmed",
         "ayesha.ahmed@example.com",
         2
        ],
        [
         103,
         "Usman Ali",
         "usman.ali@example.com",
         3
        ],
        [
         104,
         "Fatima Noor",
         "fatima.noor@example.com",
         4
        ]
       ],
       "datasetInfos": [
        {
         "name": "_sqldf",
         "schema": {
          "fields": [
           {
            "metadata": {},
            "name": "CUSTOMERID",
            "nullable": true,
            "type": "integer"
           },
           {
            "metadata": {},
            "name": "CustomerName",
            "nullable": true,
            "type": "string"
           },
           {
            "metadata": {},
            "name": "CustomerEmail",
            "nullable": true,
            "type": "string"
           },
           {
            "metadata": {},
            "name": "DimCustomersKey",
            "nullable": false,
            "type": "integer"
           }
          ],
          "type": "struct"
         },
         "tableIdentifier": null,
         "typeStr": "pyspark.sql.connect.dataframe.DataFrame"
        }
       ],
       "dbfsResultPath": null,
       "isJsonSchema": true,
       "metadata": {
        "createTempViewForImplicitDf": true,
        "dataframeName": "_sqldf",
        "executionCount": 55
       },
       "overflow": false,
       "plotOptions": {
        "customPlotOptions": {},
        "displayType": "table",
        "pivotAggregation": null,
        "pivotColumns": null,
        "xColumns": null,
        "yColumns": null
       },
       "removedWidgets": [],
       "schema": [
        {
         "metadata": "{}",
         "name": "CUSTOMERID",
         "type": "\"integer\""
        },
        {
         "metadata": "{}",
         "name": "CustomerName",
         "type": "\"string\""
        },
        {
         "metadata": "{}",
         "name": "CustomerEmail",
         "type": "\"string\""
        },
        {
         "metadata": "{}",
         "name": "DimCustomersKey",
         "type": "\"integer\""
        }
       ],
       "type": "table"
      }
     },
     "output_type": "display_data"
    }
   ],
   "source": [
    "select * from Orders_dwh.Vw_DimCustomers"
   ]
  },
  {
   "cell_type": "code",
   "execution_count": 0,
   "metadata": {
    "application/vnd.databricks.v1+cell": {
     "cellMetadata": {
      "byteLimit": 2048000,
      "rowLimit": 10000
     },
     "inputWidgets": {},
     "nuid": "8f43cc93-c36f-45b4-b550-caff6f4b35af",
     "showTitle": false,
     "tableResultSettingsMap": {},
     "title": ""
    }
   },
   "outputs": [
    {
     "output_type": "display_data",
     "data": {
      "text/html": [
       "<style scoped>\n",
       "  .table-result-container {\n",
       "    max-height: 300px;\n",
       "    overflow: auto;\n",
       "  }\n",
       "  table, th, td {\n",
       "    border: 1px solid black;\n",
       "    border-collapse: collapse;\n",
       "  }\n",
       "  th, td {\n",
       "    padding: 5px;\n",
       "  }\n",
       "  th {\n",
       "    text-align: left;\n",
       "  }\n",
       "</style><div class='table-result-container'><table class='table-result'><thead style='background-color: white'><tr><th>CUSTOMERID</th><th>CustomerName</th><th>CustomerEmail</th><th>DimCustomersKey</th></tr></thead><tbody><tr><td>101</td><td>Ali Khan</td><td>ali.khan@example.com</td><td>1</td></tr><tr><td>102</td><td>Ayesha Ahmed</td><td>ayesha.ahmed@example.com</td><td>2</td></tr><tr><td>103</td><td>Usman Ali</td><td>usman.ali@example.com</td><td>3</td></tr><tr><td>104</td><td>Fatima Noor</td><td>fatima.noor@example.com</td><td>4</td></tr></tbody></table></div>"
      ]
     },
     "metadata": {
      "application/vnd.databricks.v1+output": {
       "addedWidgets": {},
       "aggData": [],
       "aggError": "",
       "aggOverflow": false,
       "aggSchema": [],
       "aggSeriesLimitReached": false,
       "aggType": "",
       "arguments": {},
       "columnCustomDisplayInfos": {},
       "data": [
        [
         101,
         "Ali Khan",
         "ali.khan@example.com",
         1
        ],
        [
         102,
         "Ayesha Ahmed",
         "ayesha.ahmed@example.com",
         2
        ],
        [
         103,
         "Usman Ali",
         "usman.ali@example.com",
         3
        ],
        [
         104,
         "Fatima Noor",
         "fatima.noor@example.com",
         4
        ]
       ],
       "datasetInfos": [
        {
         "name": "_sqldf",
         "schema": {
          "fields": [
           {
            "metadata": {},
            "name": "CUSTOMERID",
            "nullable": true,
            "type": "integer"
           },
           {
            "metadata": {},
            "name": "CustomerName",
            "nullable": true,
            "type": "string"
           },
           {
            "metadata": {},
            "name": "CustomerEmail",
            "nullable": true,
            "type": "string"
           },
           {
            "metadata": {},
            "name": "DimCustomersKey",
            "nullable": false,
            "type": "integer"
           }
          ],
          "type": "struct"
         },
         "tableIdentifier": null,
         "typeStr": "pyspark.sql.connect.dataframe.DataFrame"
        }
       ],
       "dbfsResultPath": null,
       "isJsonSchema": true,
       "metadata": {
        "createTempViewForImplicitDf": true,
        "dataframeName": "_sqldf",
        "executionCount": 56
       },
       "overflow": false,
       "plotOptions": {
        "customPlotOptions": {},
        "displayType": "table",
        "pivotAggregation": null,
        "pivotColumns": null,
        "xColumns": null,
        "yColumns": null
       },
       "removedWidgets": [],
       "schema": [
        {
         "metadata": "{}",
         "name": "CUSTOMERID",
         "type": "\"integer\""
        },
        {
         "metadata": "{}",
         "name": "CustomerName",
         "type": "\"string\""
        },
        {
         "metadata": "{}",
         "name": "CustomerEmail",
         "type": "\"string\""
        },
        {
         "metadata": "{}",
         "name": "DimCustomersKey",
         "type": "\"integer\""
        }
       ],
       "type": "table"
      }
     },
     "output_type": "display_data"
    }
   ],
   "source": [
    "SELECT T.*, row_number() OVER (ORDER BY CUSTOMERID) AS DimCustomersKey -- Surrogate Key\n",
    "FROM (\n",
    "SELECT  \n",
    "  DISTINCT(CUSTOMERID) AS CUSTOMERID,\n",
    "  CustomerName,\n",
    "  CustomerEmail\n",
    "FROM \n",
    "orders_dwh.core_sales) AS T"
   ]
  },
  {
   "cell_type": "markdown",
   "metadata": {
    "application/vnd.databricks.v1+cell": {
     "cellMetadata": {},
     "inputWidgets": {},
     "nuid": "fe2c715c-3121-4fab-985e-f38e44e2a5bd",
     "showTitle": false,
     "tableResultSettingsMap": {},
     "title": ""
    }
   },
   "source": [
    "### Creating ProductsDimension"
   ]
  },
  {
   "cell_type": "code",
   "execution_count": 0,
   "metadata": {
    "application/vnd.databricks.v1+cell": {
     "cellMetadata": {
      "byteLimit": 2048000,
      "rowLimit": 10000
     },
     "inputWidgets": {},
     "nuid": "78964ae6-e5d4-41da-8067-bec2d55306c3",
     "showTitle": false,
     "tableResultSettingsMap": {},
     "title": ""
    }
   },
   "outputs": [],
   "source": [
    "CREATE OR REPLACE TABLE orders_dwh.DimProducts\n",
    "(\n",
    "  ProductID INT,\n",
    "  ProductName STRING,\n",
    "  ProductCategory STRING,\n",
    "  DimProductsKey INT\n",
    "  )"
   ]
  },
  {
   "cell_type": "code",
   "execution_count": 0,
   "metadata": {
    "application/vnd.databricks.v1+cell": {
     "cellMetadata": {},
     "inputWidgets": {},
     "nuid": "7ad0749a-18a4-4046-a38e-004198b9ac3e",
     "showTitle": false,
     "tableResultSettingsMap": {},
     "title": ""
    }
   },
   "outputs": [
    {
     "output_type": "display_data",
     "data": {
      "text/html": [
       "<style scoped>\n",
       "  .table-result-container {\n",
       "    max-height: 300px;\n",
       "    overflow: auto;\n",
       "  }\n",
       "  table, th, td {\n",
       "    border: 1px solid black;\n",
       "    border-collapse: collapse;\n",
       "  }\n",
       "  th, td {\n",
       "    padding: 5px;\n",
       "  }\n",
       "  th {\n",
       "    text-align: left;\n",
       "  }\n",
       "</style><div class='table-result-container'><table class='table-result'><thead style='background-color: white'><tr><th>CustomerID</th><th>CustomerName</th><th>CustomerEmail</th><th>DIMCustomersKey</th></tr></thead><tbody><tr><td>101</td><td>Ahmed Khan</td><td>ahmed.khan@example.com</td><td>1</td></tr><tr><td>102</td><td>Ayesha Ali</td><td>ayesha.ali@example.com</td><td>2</td></tr><tr><td>103</td><td>Bilal Ahmed</td><td>bilal.ahmed@example.com</td><td>3</td></tr><tr><td>104</td><td>Fatima Noor</td><td>fatima.noor@example.com</td><td>4</td></tr><tr><td>105</td><td>Hassan Raza</td><td>hassan.raza@example.com</td><td>5</td></tr><tr><td>106</td><td>Maryam Javed</td><td>maryam.javed@example.com</td><td>6</td></tr><tr><td>107</td><td>Imran Siddiqui</td><td>imran.siddiqui@example.com</td><td>7</td></tr><tr><td>108</td><td>Mariam Javed</td><td>mariam.javed@example.com</td><td>8</td></tr><tr><td>109</td><td>Danish Qureshi</td><td>danish.qureshi@example.com</td><td>9</td></tr><tr><td>110</td><td>Sana Malik</td><td>sana.malik@example.com</td><td>10</td></tr></tbody></table></div>"
      ]
     },
     "metadata": {
      "application/vnd.databricks.v1+output": {
       "addedWidgets": {},
       "aggData": [],
       "aggError": "",
       "aggOverflow": false,
       "aggSchema": [],
       "aggSeriesLimitReached": false,
       "aggType": "",
       "arguments": {},
       "columnCustomDisplayInfos": {},
       "data": [
        [
         101,
         "Ahmed Khan",
         "ahmed.khan@example.com",
         1
        ],
        [
         102,
         "Ayesha Ali",
         "ayesha.ali@example.com",
         2
        ],
        [
         103,
         "Bilal Ahmed",
         "bilal.ahmed@example.com",
         3
        ],
        [
         104,
         "Fatima Noor",
         "fatima.noor@example.com",
         4
        ],
        [
         105,
         "Hassan Raza",
         "hassan.raza@example.com",
         5
        ],
        [
         106,
         "Maryam Javed",
         "maryam.javed@example.com",
         6
        ],
        [
         107,
         "Imran Siddiqui",
         "imran.siddiqui@example.com",
         7
        ],
        [
         108,
         "Mariam Javed",
         "mariam.javed@example.com",
         8
        ],
        [
         109,
         "Danish Qureshi",
         "danish.qureshi@example.com",
         9
        ],
        [
         110,
         "Sana Malik",
         "sana.malik@example.com",
         10
        ]
       ],
       "datasetInfos": [
        {
         "name": "_sqldf",
         "schema": {
          "fields": [
           {
            "metadata": {},
            "name": "CustomerID",
            "nullable": true,
            "type": "integer"
           },
           {
            "metadata": {},
            "name": "CustomerName",
            "nullable": true,
            "type": "string"
           },
           {
            "metadata": {},
            "name": "CustomerEmail",
            "nullable": true,
            "type": "string"
           },
           {
            "metadata": {},
            "name": "DIMCustomersKey",
            "nullable": false,
            "type": "integer"
           }
          ],
          "type": "struct"
         },
         "tableIdentifier": null,
         "typeStr": "pyspark.sql.connect.dataframe.DataFrame"
        }
       ],
       "dbfsResultPath": null,
       "isJsonSchema": true,
       "metadata": {
        "createTempViewForImplicitDf": true,
        "dataframeName": "_sqldf",
        "executionCount": 100
       },
       "overflow": false,
       "plotOptions": {
        "customPlotOptions": {},
        "displayType": "table",
        "pivotAggregation": null,
        "pivotColumns": null,
        "xColumns": null,
        "yColumns": null
       },
       "removedWidgets": [],
       "schema": [
        {
         "metadata": "{}",
         "name": "CustomerID",
         "type": "\"integer\""
        },
        {
         "metadata": "{}",
         "name": "CustomerName",
         "type": "\"string\""
        },
        {
         "metadata": "{}",
         "name": "CustomerEmail",
         "type": "\"string\""
        },
        {
         "metadata": "{}",
         "name": "DIMCustomersKey",
         "type": "\"integer\""
        }
       ],
       "type": "table"
      }
     },
     "output_type": "display_data"
    }
   ],
   "source": [
    "SELECT \n",
    "   CustomerID,\n",
    "   MIN(CustomerName) AS CustomerName,   -- sabse pehla naam le lega\n",
    "   MIN(CustomerEmail) AS CustomerEmail, -- sabse pehla email le lega\n",
    "   ROW_NUMBER() OVER (ORDER BY CustomerID) AS DIMCustomersKey\n",
    "FROM ordersdwh.trans_sales\n",
    "GROUP BY CustomerID;\n"
   ]
  },
  {
   "cell_type": "code",
   "execution_count": 0,
   "metadata": {
    "application/vnd.databricks.v1+cell": {
     "cellMetadata": {
      "byteLimit": 2048000,
      "rowLimit": 10000
     },
     "inputWidgets": {},
     "nuid": "994ac431-ab78-4ead-8b12-c66eab6008ae",
     "showTitle": false,
     "tableResultSettingsMap": {},
     "title": ""
    }
   },
   "outputs": [],
   "source": [
    "CREATE OR REPLACE VIEW Orders_dwh.Vw_DimProducts AS\n",
    "SELECT \n",
    "    T.*,\n",
    "    ROW_NUMBER() OVER (ORDER BY ProductID) AS DimProductsKey -- Surrogate Key\n",
    "FROM (\n",
    "    SELECT  \n",
    "        DISTINCT(ProductID) AS ProductID,\n",
    "        ProductName,\n",
    "        ProductCategory\n",
    "    FROM orders_dwh.trans_sales\n",
    ") AS T;\n"
   ]
  },
  {
   "cell_type": "code",
   "execution_count": 0,
   "metadata": {
    "application/vnd.databricks.v1+cell": {
     "cellMetadata": {
      "byteLimit": 2048000,
      "rowLimit": 10000
     },
     "inputWidgets": {},
     "nuid": "414cd6b2-30da-42df-a2d8-1808bbd390af",
     "showTitle": false,
     "tableResultSettingsMap": {},
     "title": ""
    }
   },
   "outputs": [
    {
     "output_type": "display_data",
     "data": {
      "text/html": [
       "<style scoped>\n",
       "  .table-result-container {\n",
       "    max-height: 300px;\n",
       "    overflow: auto;\n",
       "  }\n",
       "  table, th, td {\n",
       "    border: 1px solid black;\n",
       "    border-collapse: collapse;\n",
       "  }\n",
       "  th, td {\n",
       "    padding: 5px;\n",
       "  }\n",
       "  th {\n",
       "    text-align: left;\n",
       "  }\n",
       "</style><div class='table-result-container'><table class='table-result'><thead style='background-color: white'><tr><th>ProductID</th><th>ProductName</th><th>ProductCategory</th><th>DimProductsKey</th></tr></thead><tbody><tr><td>201</td><td>Laptop</td><td>Electronics</td><td>1</td></tr><tr><td>202</td><td>Mobile Phone</td><td>Electronics</td><td>2</td></tr><tr><td>203</td><td>Tablet</td><td>Electronics</td><td>3</td></tr><tr><td>204</td><td>Washing Machine</td><td>Home Appliances</td><td>4</td></tr><tr><td>205</td><td>Microwave Oven</td><td>Home Appliances</td><td>5</td></tr><tr><td>206</td><td>Football</td><td>Sports</td><td>6</td></tr><tr><td>207</td><td>Tennis Racket</td><td>Sports</td><td>7</td></tr><tr><td>208</td><td>Bed Sheet</td><td>Textile</td><td>8</td></tr><tr><td>209</td><td>Curtains</td><td>Textile</td><td>9</td></tr></tbody></table></div>"
      ]
     },
     "metadata": {
      "application/vnd.databricks.v1+output": {
       "addedWidgets": {},
       "aggData": [],
       "aggError": "",
       "aggOverflow": false,
       "aggSchema": [],
       "aggSeriesLimitReached": false,
       "aggType": "",
       "arguments": {},
       "columnCustomDisplayInfos": {},
       "data": [
        [
         201,
         "Laptop",
         "Electronics",
         1
        ],
        [
         202,
         "Mobile Phone",
         "Electronics",
         2
        ],
        [
         203,
         "Tablet",
         "Electronics",
         3
        ],
        [
         204,
         "Washing Machine",
         "Home Appliances",
         4
        ],
        [
         205,
         "Microwave Oven",
         "Home Appliances",
         5
        ],
        [
         206,
         "Football",
         "Sports",
         6
        ],
        [
         207,
         "Tennis Racket",
         "Sports",
         7
        ],
        [
         208,
         "Bed Sheet",
         "Textile",
         8
        ],
        [
         209,
         "Curtains",
         "Textile",
         9
        ]
       ],
       "datasetInfos": [
        {
         "name": "_sqldf",
         "schema": {
          "fields": [
           {
            "metadata": {},
            "name": "ProductID",
            "nullable": true,
            "type": "integer"
           },
           {
            "metadata": {},
            "name": "ProductName",
            "nullable": true,
            "type": "string"
           },
           {
            "metadata": {},
            "name": "ProductCategory",
            "nullable": true,
            "type": "string"
           },
           {
            "metadata": {},
            "name": "DimProductsKey",
            "nullable": false,
            "type": "integer"
           }
          ],
          "type": "struct"
         },
         "tableIdentifier": null,
         "typeStr": "pyspark.sql.connect.dataframe.DataFrame"
        }
       ],
       "dbfsResultPath": null,
       "isJsonSchema": true,
       "metadata": {
        "createTempViewForImplicitDf": true,
        "dataframeName": "_sqldf",
        "executionCount": 38
       },
       "overflow": false,
       "plotOptions": {
        "customPlotOptions": {},
        "displayType": "table",
        "pivotAggregation": null,
        "pivotColumns": null,
        "xColumns": null,
        "yColumns": null
       },
       "removedWidgets": [],
       "schema": [
        {
         "metadata": "{}",
         "name": "ProductID",
         "type": "\"integer\""
        },
        {
         "metadata": "{}",
         "name": "ProductName",
         "type": "\"string\""
        },
        {
         "metadata": "{}",
         "name": "ProductCategory",
         "type": "\"string\""
        },
        {
         "metadata": "{}",
         "name": "DimProductsKey",
         "type": "\"integer\""
        }
       ],
       "type": "table"
      }
     },
     "output_type": "display_data"
    }
   ],
   "source": [
    "select * from Orders_dwh.Vw_DimProducts"
   ]
  },
  {
   "cell_type": "code",
   "execution_count": 0,
   "metadata": {
    "application/vnd.databricks.v1+cell": {
     "cellMetadata": {
      "byteLimit": 2048000,
      "rowLimit": 10000
     },
     "inputWidgets": {},
     "nuid": "3001f077-b4b4-4411-a73a-a7f77dff3b0a",
     "showTitle": false,
     "tableResultSettingsMap": {},
     "title": ""
    }
   },
   "outputs": [
    {
     "output_type": "display_data",
     "data": {
      "text/html": [
       "<style scoped>\n",
       "  .table-result-container {\n",
       "    max-height: 300px;\n",
       "    overflow: auto;\n",
       "  }\n",
       "  table, th, td {\n",
       "    border: 1px solid black;\n",
       "    border-collapse: collapse;\n",
       "  }\n",
       "  th, td {\n",
       "    padding: 5px;\n",
       "  }\n",
       "  th {\n",
       "    text-align: left;\n",
       "  }\n",
       "</style><div class='table-result-container'><table class='table-result'><thead style='background-color: white'><tr><th>num_affected_rows</th><th>num_inserted_rows</th></tr></thead><tbody><tr><td>9</td><td>9</td></tr></tbody></table></div>"
      ]
     },
     "metadata": {
      "application/vnd.databricks.v1+output": {
       "addedWidgets": {},
       "aggData": [],
       "aggError": "",
       "aggOverflow": false,
       "aggSchema": [],
       "aggSeriesLimitReached": false,
       "aggType": "",
       "arguments": {},
       "columnCustomDisplayInfos": {},
       "data": [
        [
         9,
         9
        ]
       ],
       "datasetInfos": [
        {
         "name": "_sqldf",
         "schema": {
          "fields": [
           {
            "metadata": {},
            "name": "num_affected_rows",
            "nullable": true,
            "type": "long"
           },
           {
            "metadata": {},
            "name": "num_inserted_rows",
            "nullable": true,
            "type": "long"
           }
          ],
          "type": "struct"
         },
         "tableIdentifier": null,
         "typeStr": "pyspark.sql.connect.dataframe.DataFrame"
        }
       ],
       "dbfsResultPath": null,
       "isJsonSchema": true,
       "metadata": {
        "createTempViewForImplicitDf": true,
        "dataframeName": "_sqldf",
        "executionCount": 42
       },
       "overflow": false,
       "plotOptions": {
        "customPlotOptions": {},
        "displayType": "table",
        "pivotAggregation": null,
        "pivotColumns": null,
        "xColumns": null,
        "yColumns": null
       },
       "removedWidgets": [],
       "schema": [
        {
         "metadata": "{}",
         "name": "num_affected_rows",
         "type": "\"long\""
        },
        {
         "metadata": "{}",
         "name": "num_inserted_rows",
         "type": "\"long\""
        }
       ],
       "type": "table"
      }
     },
     "output_type": "display_data"
    }
   ],
   "source": [
    "  insert into orders_dwh.DimProducts\n",
    "  select * FROM  Orders_dwh.Vw_DimProducts"
   ]
  },
  {
   "cell_type": "code",
   "execution_count": 0,
   "metadata": {
    "application/vnd.databricks.v1+cell": {
     "cellMetadata": {
      "byteLimit": 2048000,
      "rowLimit": 10000
     },
     "inputWidgets": {},
     "nuid": "749ef073-b56c-44f4-9173-1a64ef021953",
     "showTitle": false,
     "tableResultSettingsMap": {},
     "title": ""
    }
   },
   "outputs": [
    {
     "output_type": "display_data",
     "data": {
      "text/html": [
       "<style scoped>\n",
       "  .table-result-container {\n",
       "    max-height: 300px;\n",
       "    overflow: auto;\n",
       "  }\n",
       "  table, th, td {\n",
       "    border: 1px solid black;\n",
       "    border-collapse: collapse;\n",
       "  }\n",
       "  th, td {\n",
       "    padding: 5px;\n",
       "  }\n",
       "  th {\n",
       "    text-align: left;\n",
       "  }\n",
       "</style><div class='table-result-container'><table class='table-result'><thead style='background-color: white'><tr><th>ProductID</th><th>ProductName</th><th>ProductCategory</th><th>DimProductsKey</th></tr></thead><tbody><tr><td>201</td><td>Laptop</td><td>Electronics</td><td>1</td></tr><tr><td>202</td><td>Mobile Phone</td><td>Electronics</td><td>2</td></tr><tr><td>203</td><td>Tablet</td><td>Electronics</td><td>3</td></tr><tr><td>204</td><td>Washing Machine</td><td>Home Appliances</td><td>4</td></tr><tr><td>205</td><td>Microwave Oven</td><td>Home Appliances</td><td>5</td></tr><tr><td>206</td><td>Football</td><td>Sports</td><td>6</td></tr><tr><td>207</td><td>Tennis Racket</td><td>Sports</td><td>7</td></tr><tr><td>208</td><td>Bed Sheet</td><td>Textile</td><td>8</td></tr><tr><td>209</td><td>Curtains</td><td>Textile</td><td>9</td></tr></tbody></table></div>"
      ]
     },
     "metadata": {
      "application/vnd.databricks.v1+output": {
       "addedWidgets": {},
       "aggData": [],
       "aggError": "",
       "aggOverflow": false,
       "aggSchema": [],
       "aggSeriesLimitReached": false,
       "aggType": "",
       "arguments": {},
       "columnCustomDisplayInfos": {},
       "data": [
        [
         201,
         "Laptop",
         "Electronics",
         1
        ],
        [
         202,
         "Mobile Phone",
         "Electronics",
         2
        ],
        [
         203,
         "Tablet",
         "Electronics",
         3
        ],
        [
         204,
         "Washing Machine",
         "Home Appliances",
         4
        ],
        [
         205,
         "Microwave Oven",
         "Home Appliances",
         5
        ],
        [
         206,
         "Football",
         "Sports",
         6
        ],
        [
         207,
         "Tennis Racket",
         "Sports",
         7
        ],
        [
         208,
         "Bed Sheet",
         "Textile",
         8
        ],
        [
         209,
         "Curtains",
         "Textile",
         9
        ]
       ],
       "datasetInfos": [
        {
         "name": "_sqldf",
         "schema": {
          "fields": [
           {
            "metadata": {},
            "name": "ProductID",
            "nullable": true,
            "type": "integer"
           },
           {
            "metadata": {},
            "name": "ProductName",
            "nullable": true,
            "type": "string"
           },
           {
            "metadata": {},
            "name": "ProductCategory",
            "nullable": true,
            "type": "string"
           },
           {
            "metadata": {},
            "name": "DimProductsKey",
            "nullable": true,
            "type": "integer"
           }
          ],
          "type": "struct"
         },
         "tableIdentifier": null,
         "typeStr": "pyspark.sql.connect.dataframe.DataFrame"
        }
       ],
       "dbfsResultPath": null,
       "isJsonSchema": true,
       "metadata": {
        "createTempViewForImplicitDf": true,
        "dataframeName": "_sqldf",
        "executionCount": 43
       },
       "overflow": false,
       "plotOptions": {
        "customPlotOptions": {},
        "displayType": "table",
        "pivotAggregation": null,
        "pivotColumns": null,
        "xColumns": null,
        "yColumns": null
       },
       "removedWidgets": [],
       "schema": [
        {
         "metadata": "{}",
         "name": "ProductID",
         "type": "\"integer\""
        },
        {
         "metadata": "{}",
         "name": "ProductName",
         "type": "\"string\""
        },
        {
         "metadata": "{}",
         "name": "ProductCategory",
         "type": "\"string\""
        },
        {
         "metadata": "{}",
         "name": "DimProductsKey",
         "type": "\"integer\""
        }
       ],
       "type": "table"
      }
     },
     "output_type": "display_data"
    }
   ],
   "source": [
    "select * from orders_dwh.DimProducts"
   ]
  },
  {
   "cell_type": "markdown",
   "metadata": {
    "application/vnd.databricks.v1+cell": {
     "cellMetadata": {},
     "inputWidgets": {},
     "nuid": "87c0128c-9e6e-4455-bc7f-b16f24b8903a",
     "showTitle": false,
     "tableResultSettingsMap": {},
     "title": ""
    }
   },
   "source": []
  },
  {
   "cell_type": "markdown",
   "metadata": {
    "application/vnd.databricks.v1+cell": {
     "cellMetadata": {},
     "inputWidgets": {},
     "nuid": "03345aee-e309-4416-b16e-cf999af824bb",
     "showTitle": false,
     "tableResultSettingsMap": {},
     "title": ""
    }
   },
   "source": [
    "### Creating RegionDimension"
   ]
  },
  {
   "cell_type": "code",
   "execution_count": 0,
   "metadata": {
    "application/vnd.databricks.v1+cell": {
     "cellMetadata": {
      "byteLimit": 2048000,
      "rowLimit": 10000
     },
     "inputWidgets": {},
     "nuid": "6cae0c86-4900-4374-8111-ca97c47d7d4a",
     "showTitle": false,
     "tableResultSettingsMap": {},
     "title": ""
    }
   },
   "outputs": [],
   "source": [
    "CREATE TABLE orders_dwh.DimRegion\n",
    "(\n",
    "  RegionID INT,\n",
    "  RegionName STRING,\n",
    "  Country STRING,\n",
    "  DimRegionKey INT\n",
    "  )"
   ]
  },
  {
   "cell_type": "code",
   "execution_count": 0,
   "metadata": {
    "application/vnd.databricks.v1+cell": {
     "cellMetadata": {
      "byteLimit": 2048000,
      "rowLimit": 10000
     },
     "inputWidgets": {},
     "nuid": "d98dc964-3c6c-4266-a5df-efae7f9184ae",
     "showTitle": false,
     "tableResultSettingsMap": {},
     "title": ""
    }
   },
   "outputs": [],
   "source": [
    "CREATE OR REPLACE VIEW Orders_dwh.Vw_DimRegion AS\n",
    "SELECT \n",
    "    T.*,\n",
    "    ROW_NUMBER() OVER (ORDER BY RegionID) AS DimRegionKey -- Surrogate Key\n",
    "FROM (\n",
    "    SELECT  \n",
    "        DISTINCT(RegionID) AS RegionID,\n",
    "        RegionName,\n",
    "        Country\n",
    "    FROM orders_dwh.trans_sales\n",
    ") AS T;\n"
   ]
  },
  {
   "cell_type": "code",
   "execution_count": 0,
   "metadata": {
    "application/vnd.databricks.v1+cell": {
     "cellMetadata": {
      "byteLimit": 2048000,
      "rowLimit": 10000
     },
     "inputWidgets": {},
     "nuid": "aa4485a7-61ef-4c41-ae5b-ebfa32e68e0d",
     "showTitle": false,
     "tableResultSettingsMap": {},
     "title": ""
    }
   },
   "outputs": [
    {
     "output_type": "display_data",
     "data": {
      "text/html": [
       "<style scoped>\n",
       "  .table-result-container {\n",
       "    max-height: 300px;\n",
       "    overflow: auto;\n",
       "  }\n",
       "  table, th, td {\n",
       "    border: 1px solid black;\n",
       "    border-collapse: collapse;\n",
       "  }\n",
       "  th, td {\n",
       "    padding: 5px;\n",
       "  }\n",
       "  th {\n",
       "    text-align: left;\n",
       "  }\n",
       "</style><div class='table-result-container'><table class='table-result'><thead style='background-color: white'><tr><th>num_affected_rows</th><th>num_inserted_rows</th></tr></thead><tbody><tr><td>4</td><td>4</td></tr></tbody></table></div>"
      ]
     },
     "metadata": {
      "application/vnd.databricks.v1+output": {
       "addedWidgets": {},
       "aggData": [],
       "aggError": "",
       "aggOverflow": false,
       "aggSchema": [],
       "aggSeriesLimitReached": false,
       "aggType": "",
       "arguments": {},
       "columnCustomDisplayInfos": {},
       "data": [
        [
         4,
         4
        ]
       ],
       "datasetInfos": [
        {
         "name": "_sqldf",
         "schema": {
          "fields": [
           {
            "metadata": {},
            "name": "num_affected_rows",
            "nullable": true,
            "type": "long"
           },
           {
            "metadata": {},
            "name": "num_inserted_rows",
            "nullable": true,
            "type": "long"
           }
          ],
          "type": "struct"
         },
         "tableIdentifier": null,
         "typeStr": "pyspark.sql.connect.dataframe.DataFrame"
        }
       ],
       "dbfsResultPath": null,
       "isJsonSchema": true,
       "metadata": {
        "createTempViewForImplicitDf": true,
        "dataframeName": "_sqldf",
        "executionCount": 146
       },
       "overflow": false,
       "plotOptions": {
        "customPlotOptions": {},
        "displayType": "table",
        "pivotAggregation": null,
        "pivotColumns": null,
        "xColumns": null,
        "yColumns": null
       },
       "removedWidgets": [],
       "schema": [
        {
         "metadata": "{}",
         "name": "num_affected_rows",
         "type": "\"long\""
        },
        {
         "metadata": "{}",
         "name": "num_inserted_rows",
         "type": "\"long\""
        }
       ],
       "type": "table"
      }
     },
     "output_type": "display_data"
    }
   ],
   "source": [
    "INSERT INTO orders_dwh.DimRegion\n",
    "SELECT * \n",
    "FROM Orders_dwh.Vw_DimRegion;"
   ]
  },
  {
   "cell_type": "code",
   "execution_count": 0,
   "metadata": {
    "application/vnd.databricks.v1+cell": {
     "cellMetadata": {
      "byteLimit": 2048000,
      "rowLimit": 10000
     },
     "inputWidgets": {},
     "nuid": "d340a7bf-10bb-48dd-9819-afb40083facf",
     "showTitle": false,
     "tableResultSettingsMap": {},
     "title": ""
    }
   },
   "outputs": [
    {
     "output_type": "display_data",
     "data": {
      "text/html": [
       "<style scoped>\n",
       "  .table-result-container {\n",
       "    max-height: 300px;\n",
       "    overflow: auto;\n",
       "  }\n",
       "  table, th, td {\n",
       "    border: 1px solid black;\n",
       "    border-collapse: collapse;\n",
       "  }\n",
       "  th, td {\n",
       "    padding: 5px;\n",
       "  }\n",
       "  th {\n",
       "    text-align: left;\n",
       "  }\n",
       "</style><div class='table-result-container'><table class='table-result'><thead style='background-color: white'><tr><th>RegionID</th><th>RegionName</th><th>Country</th><th>DimRegionKey</th></tr></thead><tbody><tr><td>1</td><td>Sindh</td><td>Pakistan</td><td>1</td></tr><tr><td>2</td><td>Punjab</td><td>Pakistan</td><td>2</td></tr><tr><td>3</td><td>KPK</td><td>Pakistan</td><td>3</td></tr><tr><td>4</td><td>Balochistan</td><td>Pakistan</td><td>4</td></tr></tbody></table></div>"
      ]
     },
     "metadata": {
      "application/vnd.databricks.v1+output": {
       "addedWidgets": {},
       "aggData": [],
       "aggError": "",
       "aggOverflow": false,
       "aggSchema": [],
       "aggSeriesLimitReached": false,
       "aggType": "",
       "arguments": {},
       "columnCustomDisplayInfos": {},
       "data": [
        [
         1,
         "Sindh",
         "Pakistan",
         1
        ],
        [
         2,
         "Punjab",
         "Pakistan",
         2
        ],
        [
         3,
         "KPK",
         "Pakistan",
         3
        ],
        [
         4,
         "Balochistan",
         "Pakistan",
         4
        ]
       ],
       "datasetInfos": [
        {
         "name": "_sqldf",
         "schema": {
          "fields": [
           {
            "metadata": {},
            "name": "RegionID",
            "nullable": true,
            "type": "integer"
           },
           {
            "metadata": {},
            "name": "RegionName",
            "nullable": true,
            "type": "string"
           },
           {
            "metadata": {},
            "name": "Country",
            "nullable": true,
            "type": "string"
           },
           {
            "metadata": {},
            "name": "DimRegionKey",
            "nullable": true,
            "type": "integer"
           }
          ],
          "type": "struct"
         },
         "tableIdentifier": null,
         "typeStr": "pyspark.sql.connect.dataframe.DataFrame"
        }
       ],
       "dbfsResultPath": null,
       "isJsonSchema": true,
       "metadata": {
        "createTempViewForImplicitDf": true,
        "dataframeName": "_sqldf",
        "executionCount": 147
       },
       "overflow": false,
       "plotOptions": {
        "customPlotOptions": {},
        "displayType": "table",
        "pivotAggregation": null,
        "pivotColumns": null,
        "xColumns": null,
        "yColumns": null
       },
       "removedWidgets": [],
       "schema": [
        {
         "metadata": "{}",
         "name": "RegionID",
         "type": "\"integer\""
        },
        {
         "metadata": "{}",
         "name": "RegionName",
         "type": "\"string\""
        },
        {
         "metadata": "{}",
         "name": "Country",
         "type": "\"string\""
        },
        {
         "metadata": "{}",
         "name": "DimRegionKey",
         "type": "\"integer\""
        }
       ],
       "type": "table"
      }
     },
     "output_type": "display_data"
    }
   ],
   "source": [
    "select * from orders_dwh.DimRegion"
   ]
  },
  {
   "cell_type": "markdown",
   "metadata": {
    "application/vnd.databricks.v1+cell": {
     "cellMetadata": {},
     "inputWidgets": {},
     "nuid": "ace16d73-fdd3-4829-b0cb-32d036cfa59c",
     "showTitle": false,
     "tableResultSettingsMap": {},
     "title": ""
    }
   },
   "source": [
    "### Creating DateDimension"
   ]
  },
  {
   "cell_type": "code",
   "execution_count": 0,
   "metadata": {
    "application/vnd.databricks.v1+cell": {
     "cellMetadata": {
      "byteLimit": 2048000,
      "rowLimit": 10000
     },
     "inputWidgets": {},
     "nuid": "a06763c7-9b48-4604-8e87-32b0e2fe1d1d",
     "showTitle": false,
     "tableResultSettingsMap": {},
     "title": ""
    }
   },
   "outputs": [],
   "source": [
    "CREATE OR REPLACE TABLE orders_dwh.DimDate\n",
    "(\n",
    "  OrderDate DATE,\n",
    "  DimDateKey INT\n",
    ")"
   ]
  },
  {
   "cell_type": "code",
   "execution_count": 0,
   "metadata": {
    "application/vnd.databricks.v1+cell": {
     "cellMetadata": {
      "byteLimit": 2048000,
      "rowLimit": 10000
     },
     "inputWidgets": {},
     "nuid": "7acac69f-e1fe-419e-900d-c9edc5f2165d",
     "showTitle": false,
     "tableResultSettingsMap": {},
     "title": ""
    }
   },
   "outputs": [],
   "source": [
    "CREATE OR REPLACE VIEW Orders_dwh.Vw_DimDate AS\n",
    "SELECT \n",
    "    T.*,\n",
    "    ROW_NUMBER() OVER (ORDER BY T.OrderDate) AS DimDateKey -- Surrogate Key\n",
    "FROM (\n",
    "    SELECT  \n",
    "        DISTINCT(OrderDate) AS OrderDate\n",
    "    FROM orders_dwh.trans_sales\n",
    ") AS T;\n"
   ]
  },
  {
   "cell_type": "code",
   "execution_count": 0,
   "metadata": {
    "application/vnd.databricks.v1+cell": {
     "cellMetadata": {
      "byteLimit": 2048000,
      "rowLimit": 10000
     },
     "inputWidgets": {},
     "nuid": "e59f15c2-bef2-4ca1-9d66-cc6a278ef4fc",
     "showTitle": false,
     "tableResultSettingsMap": {},
     "title": ""
    }
   },
   "outputs": [
    {
     "output_type": "display_data",
     "data": {
      "text/html": [
       "<style scoped>\n",
       "  .table-result-container {\n",
       "    max-height: 300px;\n",
       "    overflow: auto;\n",
       "  }\n",
       "  table, th, td {\n",
       "    border: 1px solid black;\n",
       "    border-collapse: collapse;\n",
       "  }\n",
       "  th, td {\n",
       "    padding: 5px;\n",
       "  }\n",
       "  th {\n",
       "    text-align: left;\n",
       "  }\n",
       "</style><div class='table-result-container'><table class='table-result'><thead style='background-color: white'><tr><th>num_affected_rows</th><th>num_inserted_rows</th></tr></thead><tbody><tr><td>5</td><td>5</td></tr></tbody></table></div>"
      ]
     },
     "metadata": {
      "application/vnd.databricks.v1+output": {
       "addedWidgets": {},
       "aggData": [],
       "aggError": "",
       "aggOverflow": false,
       "aggSchema": [],
       "aggSeriesLimitReached": false,
       "aggType": "",
       "arguments": {},
       "columnCustomDisplayInfos": {},
       "data": [
        [
         5,
         5
        ]
       ],
       "datasetInfos": [
        {
         "name": "_sqldf",
         "schema": {
          "fields": [
           {
            "metadata": {},
            "name": "num_affected_rows",
            "nullable": true,
            "type": "long"
           },
           {
            "metadata": {},
            "name": "num_inserted_rows",
            "nullable": true,
            "type": "long"
           }
          ],
          "type": "struct"
         },
         "tableIdentifier": null,
         "typeStr": "pyspark.sql.connect.dataframe.DataFrame"
        }
       ],
       "dbfsResultPath": null,
       "isJsonSchema": true,
       "metadata": {
        "createTempViewForImplicitDf": true,
        "dataframeName": "_sqldf",
        "executionCount": 12
       },
       "overflow": false,
       "plotOptions": {
        "customPlotOptions": {},
        "displayType": "table",
        "pivotAggregation": null,
        "pivotColumns": null,
        "xColumns": null,
        "yColumns": null
       },
       "removedWidgets": [],
       "schema": [
        {
         "metadata": "{}",
         "name": "num_affected_rows",
         "type": "\"long\""
        },
        {
         "metadata": "{}",
         "name": "num_inserted_rows",
         "type": "\"long\""
        }
       ],
       "type": "table"
      }
     },
     "output_type": "display_data"
    }
   ],
   "source": [
    "INSERT INTO orders_dwh.DimDate\n",
    "SELECT * FROM Orders_dwh.Vw_DimDate"
   ]
  },
  {
   "cell_type": "markdown",
   "metadata": {
    "application/vnd.databricks.v1+cell": {
     "cellMetadata": {},
     "inputWidgets": {},
     "nuid": "e2ab070a-eda4-4a59-b7e7-bb844a16ebe8",
     "showTitle": false,
     "tableResultSettingsMap": {},
     "title": ""
    }
   },
   "source": [
    "# Creating Sales Fact Table"
   ]
  },
  {
   "cell_type": "code",
   "execution_count": 0,
   "metadata": {
    "application/vnd.databricks.v1+cell": {
     "cellMetadata": {
      "byteLimit": 2048000,
      "rowLimit": 10000
     },
     "inputWidgets": {},
     "nuid": "8fbdf222-6bd2-47ef-b194-e2a8d9d8dd6e",
     "showTitle": false,
     "tableResultSettingsMap": {},
     "title": ""
    }
   },
   "outputs": [],
   "source": [
    "CREATE TABLE orders_dwh.FactSales(\n",
    "OrderID INT,\n",
    "Quantity INT,\n",
    "UnitPrice DECIMAL(18,2),\n",
    "TotalAmount DECIMAL(18,2),\n",
    "DimCustomersKey INT,\n",
    "DimProductsKey INT,\n",
    "DimRegionKey INT,\n",
    "DimDateKey INT\n",
    ")"
   ]
  },
  {
   "cell_type": "code",
   "execution_count": 0,
   "metadata": {
    "application/vnd.databricks.v1+cell": {
     "cellMetadata": {
      "byteLimit": 2048000,
      "rowLimit": 10000
     },
     "inputWidgets": {},
     "nuid": "fc9843ae-467f-46a1-a06c-f1595d1ee9ad",
     "showTitle": false,
     "tableResultSettingsMap": {},
     "title": ""
    }
   },
   "outputs": [
    {
     "output_type": "display_data",
     "data": {
      "text/html": [
       "<style scoped>\n",
       "  .table-result-container {\n",
       "    max-height: 300px;\n",
       "    overflow: auto;\n",
       "  }\n",
       "  table, th, td {\n",
       "    border: 1px solid black;\n",
       "    border-collapse: collapse;\n",
       "  }\n",
       "  th, td {\n",
       "    padding: 5px;\n",
       "  }\n",
       "  th {\n",
       "    text-align: left;\n",
       "  }\n",
       "</style><div class='table-result-container'><table class='table-result'><thead style='background-color: white'><tr><th>OrderID</th><th>Quantity</th><th>UnitPrice</th><th>TotalAmount</th><th>DimCustomerskey</th><th>DimProductsKey</th><th>DimRegionKey</th><th>DimDateKey</th></tr></thead><tbody><tr><td>1001</td><td>1</td><td>120000.00</td><td>120000.00</td><td>null</td><td>1</td><td>1</td><td>1</td></tr><tr><td>1002</td><td>2</td><td>45000.00</td><td>90000.00</td><td>null</td><td>2</td><td>1</td><td>3</td></tr><tr><td>1003</td><td>1</td><td>60000.00</td><td>60000.00</td><td>null</td><td>3</td><td>1</td><td>5</td></tr><tr><td>1004</td><td>1</td><td>75000.00</td><td>75000.00</td><td>null</td><td>4</td><td>2</td><td>2</td></tr><tr><td>1005</td><td>1</td><td>25000.00</td><td>25000.00</td><td>null</td><td>5</td><td>2</td><td>4</td></tr><tr><td>1006</td><td>3</td><td>3000.00</td><td>9000.00</td><td>null</td><td>6</td><td>3</td><td>1</td></tr><tr><td>1007</td><td>2</td><td>7000.00</td><td>14000.00</td><td>null</td><td>7</td><td>3</td><td>3</td></tr><tr><td>1008</td><td>4</td><td>2000.00</td><td>8000.00</td><td>null</td><td>8</td><td>4</td><td>2</td></tr><tr><td>1009</td><td>2</td><td>3500.00</td><td>7000.00</td><td>null</td><td>9</td><td>4</td><td>5</td></tr></tbody></table></div>"
      ]
     },
     "metadata": {
      "application/vnd.databricks.v1+output": {
       "addedWidgets": {},
       "aggData": [],
       "aggError": "",
       "aggOverflow": false,
       "aggSchema": [],
       "aggSeriesLimitReached": false,
       "aggType": "",
       "arguments": {},
       "columnCustomDisplayInfos": {},
       "data": [
        [
         1001,
         1,
         "120000.00",
         "120000.00",
         null,
         1,
         1,
         1
        ],
        [
         1002,
         2,
         "45000.00",
         "90000.00",
         null,
         2,
         1,
         3
        ],
        [
         1003,
         1,
         "60000.00",
         "60000.00",
         null,
         3,
         1,
         5
        ],
        [
         1004,
         1,
         "75000.00",
         "75000.00",
         null,
         4,
         2,
         2
        ],
        [
         1005,
         1,
         "25000.00",
         "25000.00",
         null,
         5,
         2,
         4
        ],
        [
         1006,
         3,
         "3000.00",
         "9000.00",
         null,
         6,
         3,
         1
        ],
        [
         1007,
         2,
         "7000.00",
         "14000.00",
         null,
         7,
         3,
         3
        ],
        [
         1008,
         4,
         "2000.00",
         "8000.00",
         null,
         8,
         4,
         2
        ],
        [
         1009,
         2,
         "3500.00",
         "7000.00",
         null,
         9,
         4,
         5
        ]
       ],
       "datasetInfos": [
        {
         "name": "_sqldf",
         "schema": {
          "fields": [
           {
            "metadata": {},
            "name": "OrderID",
            "nullable": true,
            "type": "integer"
           },
           {
            "metadata": {},
            "name": "Quantity",
            "nullable": true,
            "type": "integer"
           },
           {
            "metadata": {},
            "name": "UnitPrice",
            "nullable": true,
            "type": "decimal(18,2)"
           },
           {
            "metadata": {},
            "name": "TotalAmount",
            "nullable": true,
            "type": "decimal(18,2)"
           },
           {
            "metadata": {},
            "name": "DimCustomerskey",
            "nullable": true,
            "type": "integer"
           },
           {
            "metadata": {},
            "name": "DimProductsKey",
            "nullable": true,
            "type": "integer"
           },
           {
            "metadata": {},
            "name": "DimRegionKey",
            "nullable": true,
            "type": "integer"
           },
           {
            "metadata": {},
            "name": "DimDateKey",
            "nullable": true,
            "type": "integer"
           }
          ],
          "type": "struct"
         },
         "tableIdentifier": null,
         "typeStr": "pyspark.sql.connect.dataframe.DataFrame"
        }
       ],
       "dbfsResultPath": null,
       "isJsonSchema": true,
       "metadata": {
        "createTempViewForImplicitDf": true,
        "dataframeName": "_sqldf",
        "executionCount": 57
       },
       "overflow": false,
       "plotOptions": {
        "customPlotOptions": {},
        "displayType": "table",
        "pivotAggregation": null,
        "pivotColumns": null,
        "xColumns": null,
        "yColumns": null
       },
       "removedWidgets": [],
       "schema": [
        {
         "metadata": "{}",
         "name": "OrderID",
         "type": "\"integer\""
        },
        {
         "metadata": "{}",
         "name": "Quantity",
         "type": "\"integer\""
        },
        {
         "metadata": "{}",
         "name": "UnitPrice",
         "type": "\"decimal(18,2)\""
        },
        {
         "metadata": "{}",
         "name": "TotalAmount",
         "type": "\"decimal(18,2)\""
        },
        {
         "metadata": "{}",
         "name": "DimCustomerskey",
         "type": "\"integer\""
        },
        {
         "metadata": "{}",
         "name": "DimProductsKey",
         "type": "\"integer\""
        },
        {
         "metadata": "{}",
         "name": "DimRegionKey",
         "type": "\"integer\""
        },
        {
         "metadata": "{}",
         "name": "DimDateKey",
         "type": "\"integer\""
        }
       ],
       "type": "table"
      }
     },
     "output_type": "display_data"
    }
   ],
   "source": [
    "SELECT \n",
    "F.OrderID,\n",
    "F.Quantity,\n",
    "F.UnitPrice,\n",
    "F.TotalAmount,\n",
    "DC.DimCustomerskey,\n",
    "DP.DimProductsKey,\n",
    "DR.DimRegionKey,\n",
    "DD.DimDateKey\n",
    "FROM orders_dwh.trans_sales AS F\n",
    "LEFT JOIN orders_dwh.DimCustomers AS DC \n",
    "ON F.CUSTOMERID = DC.CUSTOMERID\n",
    "LEFT JOIN orders_dwh.DimProducts AS DP \n",
    "ON F.ProductID = DP.ProductID\n",
    "LEFT JOIN orders_dwh.DimRegion AS DR\n",
    "ON F.RegionID = DR.RegionID\n",
    "LEFT JOIN orders_dwh.DimDate AS DD\n",
    "ON F.OrderDate = DD.OrderDate"
   ]
  },
  {
   "cell_type": "code",
   "execution_count": 0,
   "metadata": {
    "application/vnd.databricks.v1+cell": {
     "cellMetadata": {
      "byteLimit": 2048000,
      "rowLimit": 10000
     },
     "inputWidgets": {},
     "nuid": "5629105f-84d2-4c16-a505-c33d4b69ff18",
     "showTitle": false,
     "tableResultSettingsMap": {},
     "title": ""
    }
   },
   "outputs": [
    {
     "output_type": "display_data",
     "data": {
      "text/html": [
       "<style scoped>\n",
       "  .table-result-container {\n",
       "    max-height: 300px;\n",
       "    overflow: auto;\n",
       "  }\n",
       "  table, th, td {\n",
       "    border: 1px solid black;\n",
       "    border-collapse: collapse;\n",
       "  }\n",
       "  th, td {\n",
       "    padding: 5px;\n",
       "  }\n",
       "  th {\n",
       "    text-align: left;\n",
       "  }\n",
       "</style><div class='table-result-container'><table class='table-result'><thead style='background-color: white'><tr><th>CustomerID</th></tr></thead><tbody><tr><td>101</td></tr><tr><td>102</td></tr><tr><td>103</td></tr><tr><td>104</td></tr></tbody></table></div>"
      ]
     },
     "metadata": {
      "application/vnd.databricks.v1+output": {
       "addedWidgets": {},
       "aggData": [],
       "aggError": "",
       "aggOverflow": false,
       "aggSchema": [],
       "aggSeriesLimitReached": false,
       "aggType": "",
       "arguments": {},
       "columnCustomDisplayInfos": {},
       "data": [
        [
         101
        ],
        [
         102
        ],
        [
         103
        ],
        [
         104
        ]
       ],
       "datasetInfos": [
        {
         "name": "_sqldf",
         "schema": {
          "fields": [
           {
            "metadata": {},
            "name": "CustomerID",
            "nullable": true,
            "type": "integer"
           }
          ],
          "type": "struct"
         },
         "tableIdentifier": null,
         "typeStr": "pyspark.sql.connect.dataframe.DataFrame"
        }
       ],
       "dbfsResultPath": null,
       "isJsonSchema": true,
       "metadata": {
        "createTempViewForImplicitDf": true,
        "dataframeName": "_sqldf",
        "executionCount": 62
       },
       "overflow": false,
       "plotOptions": {
        "customPlotOptions": {},
        "displayType": "table",
        "pivotAggregation": null,
        "pivotColumns": null,
        "xColumns": null,
        "yColumns": null
       },
       "removedWidgets": [],
       "schema": [
        {
         "metadata": "{}",
         "name": "CustomerID",
         "type": "\"integer\""
        }
       ],
       "type": "table"
      }
     },
     "output_type": "display_data"
    }
   ],
   "source": [
    "SELECT DISTINCT CustomerID FROM orders_dwh.trans_sales;\n"
   ]
  },
  {
   "cell_type": "code",
   "execution_count": 0,
   "metadata": {
    "application/vnd.databricks.v1+cell": {
     "cellMetadata": {
      "byteLimit": 2048000,
      "rowLimit": 10000
     },
     "inputWidgets": {},
     "nuid": "99e197c7-8352-4406-8e13-16c2afbc380d",
     "showTitle": false,
     "tableResultSettingsMap": {},
     "title": ""
    }
   },
   "outputs": [
    {
     "output_type": "display_data",
     "data": {
      "text/html": [
       "<style scoped>\n",
       "  .table-result-container {\n",
       "    max-height: 300px;\n",
       "    overflow: auto;\n",
       "  }\n",
       "  table, th, td {\n",
       "    border: 1px solid black;\n",
       "    border-collapse: collapse;\n",
       "  }\n",
       "  th, td {\n",
       "    padding: 5px;\n",
       "  }\n",
       "  th {\n",
       "    text-align: left;\n",
       "  }\n",
       "</style><div class='table-result-container'><table class='table-result'><thead style='background-color: white'><tr><th>CustomerID</th></tr></thead><tbody></tbody></table></div>"
      ]
     },
     "metadata": {
      "application/vnd.databricks.v1+output": {
       "addedWidgets": {},
       "aggData": [],
       "aggError": "",
       "aggOverflow": false,
       "aggSchema": [],
       "aggSeriesLimitReached": false,
       "aggType": "",
       "arguments": {},
       "columnCustomDisplayInfos": {},
       "data": [],
       "datasetInfos": [
        {
         "name": "_sqldf",
         "schema": {
          "fields": [
           {
            "metadata": {},
            "name": "CustomerID",
            "nullable": true,
            "type": "integer"
           }
          ],
          "type": "struct"
         },
         "tableIdentifier": null,
         "typeStr": "pyspark.sql.connect.dataframe.DataFrame"
        }
       ],
       "dbfsResultPath": null,
       "isJsonSchema": true,
       "metadata": {
        "createTempViewForImplicitDf": true,
        "dataframeName": "_sqldf",
        "executionCount": 64
       },
       "overflow": false,
       "plotOptions": {
        "customPlotOptions": {},
        "displayType": "table",
        "pivotAggregation": null,
        "pivotColumns": null,
        "xColumns": null,
        "yColumns": null
       },
       "removedWidgets": [],
       "schema": [
        {
         "metadata": "{}",
         "name": "CustomerID",
         "type": "\"integer\""
        }
       ],
       "type": "table"
      }
     },
     "output_type": "display_data"
    }
   ],
   "source": [
    "SELECT DISTINCT CustomerID FROM orders_dwh.DimCustomers;\n"
   ]
  },
  {
   "cell_type": "markdown",
   "metadata": {
    "application/vnd.databricks.v1+cell": {
     "cellMetadata": {},
     "inputWidgets": {},
     "nuid": "fc866773-c9a2-46b2-a0e2-09f6c6874bdb",
     "showTitle": false,
     "tableResultSettingsMap": {},
     "title": ""
    }
   },
   "source": [
    "# Slowly Changing Dimension (SCD) And It's Types"
   ]
  },
  {
   "cell_type": "markdown",
   "metadata": {
    "application/vnd.databricks.v1+cell": {
     "cellMetadata": {},
     "inputWidgets": {},
     "nuid": "cd2dfc0a-81bb-4e2b-853f-d1b44b895fd9",
     "showTitle": false,
     "tableResultSettingsMap": {},
     "title": ""
    }
   },
   "source": [
    "### Creating Database For SCD"
   ]
  },
  {
   "cell_type": "code",
   "execution_count": 0,
   "metadata": {
    "application/vnd.databricks.v1+cell": {
     "cellMetadata": {
      "byteLimit": 2048000,
      "rowLimit": 10000
     },
     "inputWidgets": {},
     "nuid": "490f3f15-a4c4-4acd-9bcc-fa95732bc762",
     "showTitle": false,
     "tableResultSettingsMap": {},
     "title": ""
    }
   },
   "outputs": [],
   "source": [
    "Create Database Sales_SCD;"
   ]
  },
  {
   "cell_type": "markdown",
   "metadata": {
    "application/vnd.databricks.v1+cell": {
     "cellMetadata": {},
     "inputWidgets": {},
     "nuid": "8068f5c7-8998-4c3d-bfab-143b68ebea22",
     "showTitle": false,
     "tableResultSettingsMap": {},
     "title": ""
    }
   },
   "source": [
    "### Creating Oders Table In Sales_SCD"
   ]
  },
  {
   "cell_type": "code",
   "execution_count": 0,
   "metadata": {
    "application/vnd.databricks.v1+cell": {
     "cellMetadata": {
      "byteLimit": 2048000,
      "rowLimit": 10000
     },
     "inputWidgets": {},
     "nuid": "0fa1bf6c-1db6-4cd9-9e17-9d54c7f4705b",
     "showTitle": false,
     "tableResultSettingsMap": {},
     "title": ""
    }
   },
   "outputs": [],
   "source": [
    "CREATE OR REPLACE TABLE sales_scd.Orders (\n",
    "    OrderID INT,\n",
    "    OrderDate DATE,\n",
    "    CustomerId INT,\n",
    "    CustomerName STRING,\n",
    "    CustomerEmail STRING,\n",
    "    ProductID INT,\n",
    "    ProductName STRING,\n",
    "    ProductCategory STRING,\n",
    "    RegionID INT,\n",
    "    RegionName STRING,\n",
    "    Country STRING,\n",
    "    Quantity INT,\n",
    "    UnitPrice DECIMAL(18,2),\n",
    "    TotalAmount DECIMAL(18,2)\n",
    ");\n"
   ]
  },
  {
   "cell_type": "markdown",
   "metadata": {
    "application/vnd.databricks.v1+cell": {
     "cellMetadata": {},
     "inputWidgets": {},
     "nuid": "8083bdae-dee3-4fa2-846a-d4105aab11c9",
     "showTitle": false,
     "tableResultSettingsMap": {},
     "title": ""
    }
   },
   "source": [
    "### Inserting Data Into Sales_SCD.ORDERS Table"
   ]
  },
  {
   "cell_type": "code",
   "execution_count": 0,
   "metadata": {
    "application/vnd.databricks.v1+cell": {
     "cellMetadata": {
      "byteLimit": 2048000,
      "rowLimit": 10000
     },
     "inputWidgets": {},
     "nuid": "96a08dda-ddbc-4178-a32f-eb9138743097",
     "showTitle": false,
     "tableResultSettingsMap": {},
     "title": ""
    }
   },
   "outputs": [
    {
     "output_type": "display_data",
     "data": {
      "text/html": [
       "<style scoped>\n",
       "  .table-result-container {\n",
       "    max-height: 300px;\n",
       "    overflow: auto;\n",
       "  }\n",
       "  table, th, td {\n",
       "    border: 1px solid black;\n",
       "    border-collapse: collapse;\n",
       "  }\n",
       "  th, td {\n",
       "    padding: 5px;\n",
       "  }\n",
       "  th {\n",
       "    text-align: left;\n",
       "  }\n",
       "</style><div class='table-result-container'><table class='table-result'><thead style='background-color: white'><tr><th>num_affected_rows</th><th>num_inserted_rows</th></tr></thead><tbody><tr><td>9</td><td>9</td></tr></tbody></table></div>"
      ]
     },
     "metadata": {
      "application/vnd.databricks.v1+output": {
       "addedWidgets": {},
       "aggData": [],
       "aggError": "",
       "aggOverflow": false,
       "aggSchema": [],
       "aggSeriesLimitReached": false,
       "aggType": "",
       "arguments": {},
       "columnCustomDisplayInfos": {},
       "data": [
        [
         9,
         9
        ]
       ],
       "datasetInfos": [
        {
         "name": "_sqldf",
         "schema": {
          "fields": [
           {
            "metadata": {},
            "name": "num_affected_rows",
            "nullable": true,
            "type": "long"
           },
           {
            "metadata": {},
            "name": "num_inserted_rows",
            "nullable": true,
            "type": "long"
           }
          ],
          "type": "struct"
         },
         "tableIdentifier": null,
         "typeStr": "pyspark.sql.connect.dataframe.DataFrame"
        }
       ],
       "dbfsResultPath": null,
       "isJsonSchema": true,
       "metadata": {
        "createTempViewForImplicitDf": true,
        "dataframeName": "_sqldf",
        "executionCount": 6
       },
       "overflow": false,
       "plotOptions": {
        "customPlotOptions": {},
        "displayType": "table",
        "pivotAggregation": null,
        "pivotColumns": null,
        "xColumns": null,
        "yColumns": null
       },
       "removedWidgets": [],
       "schema": [
        {
         "metadata": "{}",
         "name": "num_affected_rows",
         "type": "\"long\""
        },
        {
         "metadata": "{}",
         "name": "num_inserted_rows",
         "type": "\"long\""
        }
       ],
       "type": "table"
      }
     },
     "output_type": "display_data"
    }
   ],
   "source": [
    "INSERT INTO sales_scd.Orders (\n",
    "    OrderID, OrderDate, CustomerId, CustomerName, CustomerEmail,\n",
    "    ProductID, ProductName, ProductCategory,\n",
    "    RegionID, RegionName, Country,\n",
    "    Quantity, UnitPrice, TotalAmount\n",
    ")\n",
    "VALUES\n",
    "-- Customer 101 orders on different dates\n",
    "(1001, '2025-06-01', 101, 'Ali Khan', 'ali.khan@example.com', 201, 'Laptop', 'Electronics', 1, 'Sindh', 'Pakistan', 1, 120000, 120000),\n",
    "(1002, '2025-06-03', 101, 'Ali Khan', 'ali.khan@example.com', 202, 'Mobile Phone', 'Electronics', 1, 'Sindh', 'Pakistan', 2, 45000, 90000),\n",
    "(1003, '2025-06-05', 101, 'Ali Khan', 'ali.khan@example.com', 203, 'Tablet', 'Electronics', 1, 'Sindh', 'Pakistan', 1, 60000, 60000),\n",
    "\n",
    "-- Customer 102 multiple orders\n",
    "(1004, '2025-06-02', 102, 'Ayesha Ahmed', 'ayesha.ahmed@example.com', 204, 'Washing Machine', 'Home Appliances', 2, 'Punjab', 'Pakistan', 1, 75000, 75000),\n",
    "(1005, '2025-06-04', 102, 'Ayesha Ahmed', 'ayesha.ahmed@example.com', 205, 'Microwave Oven', 'Home Appliances', 2, 'Punjab', 'Pakistan', 1, 25000, 25000),\n",
    "\n",
    "-- Customer 103 multiple orders\n",
    "(1006, '2025-06-01', 103, 'Usman Ali', 'usman.ali@example.com', 206, 'Football', 'Sports', 3, 'KPK', 'Pakistan', 3, 3000, 9000),\n",
    "(1007, '2025-06-03', 103, 'Usman Ali', 'usman.ali@example.com', 207, 'Tennis Racket', 'Sports', 3, 'KPK', 'Pakistan', 2, 7000, 14000),\n",
    "\n",
    "-- Customer 104 multiple orders\n",
    "(1008, '2025-06-02', 104, 'Fatima Noor', 'fatima.noor@example.com', 208, 'Bed Sheet', 'Textile', 4, 'Balochistan', 'Pakistan', 4, 2000, 8000),\n",
    "(1009, '2025-06-05', 104, 'Fatima Noor', 'fatima.noor@example.com', 209, 'Curtains', 'Textile', 4, 'Balochistan', 'Pakistan', 2, 3500, 7000);\n"
   ]
  },
  {
   "cell_type": "code",
   "execution_count": 0,
   "metadata": {
    "application/vnd.databricks.v1+cell": {
     "cellMetadata": {
      "byteLimit": 2048000,
      "rowLimit": 10000
     },
     "inputWidgets": {},
     "nuid": "79164d4a-d32c-4cfe-8dcb-aa02c8039c80",
     "showTitle": false,
     "tableResultSettingsMap": {},
     "title": ""
    }
   },
   "outputs": [
    {
     "output_type": "display_data",
     "data": {
      "text/html": [
       "<style scoped>\n",
       "  .table-result-container {\n",
       "    max-height: 300px;\n",
       "    overflow: auto;\n",
       "  }\n",
       "  table, th, td {\n",
       "    border: 1px solid black;\n",
       "    border-collapse: collapse;\n",
       "  }\n",
       "  th, td {\n",
       "    padding: 5px;\n",
       "  }\n",
       "  th {\n",
       "    text-align: left;\n",
       "  }\n",
       "</style><div class='table-result-container'><table class='table-result'><thead style='background-color: white'><tr><th>OrderID</th><th>OrderDate</th><th>CustomerId</th><th>CustomerName</th><th>CustomerEmail</th><th>ProductID</th><th>ProductName</th><th>ProductCategory</th><th>RegionID</th><th>RegionName</th><th>Country</th><th>Quantity</th><th>UnitPrice</th><th>TotalAmount</th></tr></thead><tbody><tr><td>1001</td><td>2025-06-01</td><td>101</td><td>Ali Khan</td><td>ali.khan@example.com</td><td>201</td><td>Laptop</td><td>Electronics</td><td>1</td><td>Sindh</td><td>Pakistan</td><td>1</td><td>120000.00</td><td>120000.00</td></tr><tr><td>1006</td><td>2025-06-01</td><td>103</td><td>Usman Ali</td><td>usman.ali@example.com</td><td>206</td><td>Football</td><td>Sports</td><td>3</td><td>KPK</td><td>Pakistan</td><td>3</td><td>3000.00</td><td>9000.00</td></tr><tr><td>1008</td><td>2025-06-02</td><td>104</td><td>Fatima Noor</td><td>fatima.noor@example.com</td><td>208</td><td>Bed Sheet</td><td>Textile</td><td>4</td><td>Balochistan</td><td>Pakistan</td><td>4</td><td>2000.00</td><td>8000.00</td></tr><tr><td>1004</td><td>2025-06-02</td><td>102</td><td>Ayesha Ahmed</td><td>ayesha.ahmed@example.com</td><td>204</td><td>Washing Machine</td><td>Home Appliances</td><td>2</td><td>Punjab</td><td>Pakistan</td><td>1</td><td>75000.00</td><td>75000.00</td></tr><tr><td>1007</td><td>2025-06-03</td><td>103</td><td>Usman Ali</td><td>usman.ali@example.com</td><td>207</td><td>Tennis Racket</td><td>Sports</td><td>3</td><td>KPK</td><td>Pakistan</td><td>2</td><td>7000.00</td><td>14000.00</td></tr><tr><td>1002</td><td>2025-06-03</td><td>101</td><td>Ali Khan</td><td>ali.khan@example.com</td><td>202</td><td>Mobile Phone</td><td>Electronics</td><td>1</td><td>Sindh</td><td>Pakistan</td><td>2</td><td>45000.00</td><td>90000.00</td></tr><tr><td>1005</td><td>2025-06-04</td><td>102</td><td>Ayesha Ahmed</td><td>ayesha.ahmed@example.com</td><td>205</td><td>Microwave Oven</td><td>Home Appliances</td><td>2</td><td>Punjab</td><td>Pakistan</td><td>1</td><td>25000.00</td><td>25000.00</td></tr><tr><td>1003</td><td>2025-06-05</td><td>101</td><td>Ali Khan</td><td>ali.khan@example.com</td><td>203</td><td>Tablet</td><td>Electronics</td><td>1</td><td>Sindh</td><td>Pakistan</td><td>1</td><td>60000.00</td><td>60000.00</td></tr><tr><td>1009</td><td>2025-06-05</td><td>104</td><td>Fatima Noor</td><td>fatima.noor@example.com</td><td>209</td><td>Curtains</td><td>Textile</td><td>4</td><td>Balochistan</td><td>Pakistan</td><td>2</td><td>3500.00</td><td>7000.00</td></tr></tbody></table></div>"
      ]
     },
     "metadata": {
      "application/vnd.databricks.v1+output": {
       "addedWidgets": {},
       "aggData": [],
       "aggError": "",
       "aggOverflow": false,
       "aggSchema": [],
       "aggSeriesLimitReached": false,
       "aggType": "",
       "arguments": {},
       "columnCustomDisplayInfos": {},
       "data": [
        [
         1001,
         "2025-06-01",
         101,
         "Ali Khan",
         "ali.khan@example.com",
         201,
         "Laptop",
         "Electronics",
         1,
         "Sindh",
         "Pakistan",
         1,
         "120000.00",
         "120000.00"
        ],
        [
         1006,
         "2025-06-01",
         103,
         "Usman Ali",
         "usman.ali@example.com",
         206,
         "Football",
         "Sports",
         3,
         "KPK",
         "Pakistan",
         3,
         "3000.00",
         "9000.00"
        ],
        [
         1008,
         "2025-06-02",
         104,
         "Fatima Noor",
         "fatima.noor@example.com",
         208,
         "Bed Sheet",
         "Textile",
         4,
         "Balochistan",
         "Pakistan",
         4,
         "2000.00",
         "8000.00"
        ],
        [
         1004,
         "2025-06-02",
         102,
         "Ayesha Ahmed",
         "ayesha.ahmed@example.com",
         204,
         "Washing Machine",
         "Home Appliances",
         2,
         "Punjab",
         "Pakistan",
         1,
         "75000.00",
         "75000.00"
        ],
        [
         1007,
         "2025-06-03",
         103,
         "Usman Ali",
         "usman.ali@example.com",
         207,
         "Tennis Racket",
         "Sports",
         3,
         "KPK",
         "Pakistan",
         2,
         "7000.00",
         "14000.00"
        ],
        [
         1002,
         "2025-06-03",
         101,
         "Ali Khan",
         "ali.khan@example.com",
         202,
         "Mobile Phone",
         "Electronics",
         1,
         "Sindh",
         "Pakistan",
         2,
         "45000.00",
         "90000.00"
        ],
        [
         1005,
         "2025-06-04",
         102,
         "Ayesha Ahmed",
         "ayesha.ahmed@example.com",
         205,
         "Microwave Oven",
         "Home Appliances",
         2,
         "Punjab",
         "Pakistan",
         1,
         "25000.00",
         "25000.00"
        ],
        [
         1003,
         "2025-06-05",
         101,
         "Ali Khan",
         "ali.khan@example.com",
         203,
         "Tablet",
         "Electronics",
         1,
         "Sindh",
         "Pakistan",
         1,
         "60000.00",
         "60000.00"
        ],
        [
         1009,
         "2025-06-05",
         104,
         "Fatima Noor",
         "fatima.noor@example.com",
         209,
         "Curtains",
         "Textile",
         4,
         "Balochistan",
         "Pakistan",
         2,
         "3500.00",
         "7000.00"
        ]
       ],
       "datasetInfos": [
        {
         "name": "_sqldf",
         "schema": {
          "fields": [
           {
            "metadata": {},
            "name": "OrderID",
            "nullable": true,
            "type": "integer"
           },
           {
            "metadata": {},
            "name": "OrderDate",
            "nullable": true,
            "type": "date"
           },
           {
            "metadata": {},
            "name": "CustomerId",
            "nullable": true,
            "type": "integer"
           },
           {
            "metadata": {},
            "name": "CustomerName",
            "nullable": true,
            "type": "string"
           },
           {
            "metadata": {},
            "name": "CustomerEmail",
            "nullable": true,
            "type": "string"
           },
           {
            "metadata": {},
            "name": "ProductID",
            "nullable": true,
            "type": "integer"
           },
           {
            "metadata": {},
            "name": "ProductName",
            "nullable": true,
            "type": "string"
           },
           {
            "metadata": {},
            "name": "ProductCategory",
            "nullable": true,
            "type": "string"
           },
           {
            "metadata": {},
            "name": "RegionID",
            "nullable": true,
            "type": "integer"
           },
           {
            "metadata": {},
            "name": "RegionName",
            "nullable": true,
            "type": "string"
           },
           {
            "metadata": {},
            "name": "Country",
            "nullable": true,
            "type": "string"
           },
           {
            "metadata": {},
            "name": "Quantity",
            "nullable": true,
            "type": "integer"
           },
           {
            "metadata": {},
            "name": "UnitPrice",
            "nullable": true,
            "type": "decimal(18,2)"
           },
           {
            "metadata": {},
            "name": "TotalAmount",
            "nullable": true,
            "type": "decimal(18,2)"
           }
          ],
          "type": "struct"
         },
         "tableIdentifier": null,
         "typeStr": "pyspark.sql.connect.dataframe.DataFrame"
        }
       ],
       "dbfsResultPath": null,
       "isJsonSchema": true,
       "metadata": {
        "createTempViewForImplicitDf": true,
        "dataframeName": "_sqldf",
        "executionCount": 7
       },
       "overflow": false,
       "plotOptions": {
        "customPlotOptions": {},
        "displayType": "table",
        "pivotAggregation": null,
        "pivotColumns": null,
        "xColumns": null,
        "yColumns": null
       },
       "removedWidgets": [],
       "schema": [
        {
         "metadata": "{}",
         "name": "OrderID",
         "type": "\"integer\""
        },
        {
         "metadata": "{}",
         "name": "OrderDate",
         "type": "\"date\""
        },
        {
         "metadata": "{}",
         "name": "CustomerId",
         "type": "\"integer\""
        },
        {
         "metadata": "{}",
         "name": "CustomerName",
         "type": "\"string\""
        },
        {
         "metadata": "{}",
         "name": "CustomerEmail",
         "type": "\"string\""
        },
        {
         "metadata": "{}",
         "name": "ProductID",
         "type": "\"integer\""
        },
        {
         "metadata": "{}",
         "name": "ProductName",
         "type": "\"string\""
        },
        {
         "metadata": "{}",
         "name": "ProductCategory",
         "type": "\"string\""
        },
        {
         "metadata": "{}",
         "name": "RegionID",
         "type": "\"integer\""
        },
        {
         "metadata": "{}",
         "name": "RegionName",
         "type": "\"string\""
        },
        {
         "metadata": "{}",
         "name": "Country",
         "type": "\"string\""
        },
        {
         "metadata": "{}",
         "name": "Quantity",
         "type": "\"integer\""
        },
        {
         "metadata": "{}",
         "name": "UnitPrice",
         "type": "\"decimal(18,2)\""
        },
        {
         "metadata": "{}",
         "name": "TotalAmount",
         "type": "\"decimal(18,2)\""
        }
       ],
       "type": "table"
      }
     },
     "output_type": "display_data"
    }
   ],
   "source": [
    "SELECT *\n",
    "FROM sales_db.Orders\n",
    "ORDER BY OrderDate ASC;\n"
   ]
  },
  {
   "cell_type": "markdown",
   "metadata": {
    "application/vnd.databricks.v1+cell": {
     "cellMetadata": {},
     "inputWidgets": {},
     "nuid": "408f17ae-a04f-401d-b29a-7aa87b62f208",
     "showTitle": false,
     "tableResultSettingsMap": {},
     "title": ""
    }
   },
   "source": [
    "### Slowly Changing Dimension (SCD)  Type - 1"
   ]
  },
  {
   "cell_type": "code",
   "execution_count": 0,
   "metadata": {
    "application/vnd.databricks.v1+cell": {
     "cellMetadata": {
      "byteLimit": 2048000,
      "rowLimit": 10000
     },
     "inputWidgets": {},
     "nuid": "afc55b69-ab1e-49af-9732-368a1cda6c23",
     "showTitle": false,
     "tableResultSettingsMap": {},
     "title": ""
    }
   },
   "outputs": [
    {
     "output_type": "display_data",
     "data": {
      "text/html": [
       "<style scoped>\n",
       "  .table-result-container {\n",
       "    max-height: 300px;\n",
       "    overflow: auto;\n",
       "  }\n",
       "  table, th, td {\n",
       "    border: 1px solid black;\n",
       "    border-collapse: collapse;\n",
       "  }\n",
       "  th, td {\n",
       "    padding: 5px;\n",
       "  }\n",
       "  th {\n",
       "    text-align: left;\n",
       "  }\n",
       "</style><div class='table-result-container'><table class='table-result'><thead style='background-color: white'><tr><th>OrderID</th><th>OrderDate</th><th>CustomerId</th><th>CustomerName</th><th>CustomerEmail</th><th>ProductID</th><th>ProductName</th><th>ProductCategory</th><th>RegionID</th><th>RegionName</th><th>Country</th><th>Quantity</th><th>UnitPrice</th><th>TotalAmount</th></tr></thead><tbody><tr><td>1001</td><td>2025-06-01</td><td>101</td><td>Ali Khan</td><td>ali.khan@example.com</td><td>201</td><td>Laptop</td><td>Electronics</td><td>1</td><td>Sindh</td><td>Pakistan</td><td>1</td><td>120000.00</td><td>120000.00</td></tr><tr><td>1002</td><td>2025-06-03</td><td>101</td><td>Ali Khan</td><td>ali.khan@example.com</td><td>202</td><td>Mobile Phone</td><td>Electronics</td><td>1</td><td>Sindh</td><td>Pakistan</td><td>2</td><td>45000.00</td><td>90000.00</td></tr><tr><td>1003</td><td>2025-06-05</td><td>101</td><td>Ali Khan</td><td>ali.khan@example.com</td><td>203</td><td>Tablet</td><td>Electronics</td><td>1</td><td>Sindh</td><td>Pakistan</td><td>1</td><td>60000.00</td><td>60000.00</td></tr><tr><td>1004</td><td>2025-06-02</td><td>102</td><td>Ayesha Ahmed</td><td>ayesha.ahmed@example.com</td><td>204</td><td>Washing Machine</td><td>Home Appliances</td><td>2</td><td>Punjab</td><td>Pakistan</td><td>1</td><td>75000.00</td><td>75000.00</td></tr><tr><td>1005</td><td>2025-06-04</td><td>102</td><td>Ayesha Ahmed</td><td>ayesha.ahmed@example.com</td><td>205</td><td>Microwave Oven</td><td>Home Appliances</td><td>2</td><td>Punjab</td><td>Pakistan</td><td>1</td><td>25000.00</td><td>25000.00</td></tr><tr><td>1006</td><td>2025-06-01</td><td>103</td><td>Usman Ali</td><td>usman.ali@example.com</td><td>206</td><td>Football</td><td>Sports</td><td>3</td><td>KPK</td><td>Pakistan</td><td>3</td><td>3000.00</td><td>9000.00</td></tr><tr><td>1007</td><td>2025-06-03</td><td>103</td><td>Usman Ali</td><td>usman.ali@example.com</td><td>207</td><td>Tennis Racket</td><td>Sports</td><td>3</td><td>KPK</td><td>Pakistan</td><td>2</td><td>7000.00</td><td>14000.00</td></tr><tr><td>1008</td><td>2025-06-02</td><td>104</td><td>Fatima Noor</td><td>fatima.noor@example.com</td><td>208</td><td>Bed Sheet</td><td>Textile</td><td>4</td><td>Balochistan</td><td>Pakistan</td><td>4</td><td>2000.00</td><td>8000.00</td></tr><tr><td>1009</td><td>2025-06-05</td><td>104</td><td>Fatima Noor</td><td>fatima.noor@example.com</td><td>209</td><td>Curtains</td><td>Textile</td><td>4</td><td>Balochistan</td><td>Pakistan</td><td>2</td><td>3500.00</td><td>7000.00</td></tr></tbody></table></div>"
      ]
     },
     "metadata": {
      "application/vnd.databricks.v1+output": {
       "addedWidgets": {},
       "aggData": [],
       "aggError": "",
       "aggOverflow": false,
       "aggSchema": [],
       "aggSeriesLimitReached": false,
       "aggType": "",
       "arguments": {},
       "columnCustomDisplayInfos": {},
       "data": [
        [
         1001,
         "2025-06-01",
         101,
         "Ali Khan",
         "ali.khan@example.com",
         201,
         "Laptop",
         "Electronics",
         1,
         "Sindh",
         "Pakistan",
         1,
         "120000.00",
         "120000.00"
        ],
        [
         1002,
         "2025-06-03",
         101,
         "Ali Khan",
         "ali.khan@example.com",
         202,
         "Mobile Phone",
         "Electronics",
         1,
         "Sindh",
         "Pakistan",
         2,
         "45000.00",
         "90000.00"
        ],
        [
         1003,
         "2025-06-05",
         101,
         "Ali Khan",
         "ali.khan@example.com",
         203,
         "Tablet",
         "Electronics",
         1,
         "Sindh",
         "Pakistan",
         1,
         "60000.00",
         "60000.00"
        ],
        [
         1004,
         "2025-06-02",
         102,
         "Ayesha Ahmed",
         "ayesha.ahmed@example.com",
         204,
         "Washing Machine",
         "Home Appliances",
         2,
         "Punjab",
         "Pakistan",
         1,
         "75000.00",
         "75000.00"
        ],
        [
         1005,
         "2025-06-04",
         102,
         "Ayesha Ahmed",
         "ayesha.ahmed@example.com",
         205,
         "Microwave Oven",
         "Home Appliances",
         2,
         "Punjab",
         "Pakistan",
         1,
         "25000.00",
         "25000.00"
        ],
        [
         1006,
         "2025-06-01",
         103,
         "Usman Ali",
         "usman.ali@example.com",
         206,
         "Football",
         "Sports",
         3,
         "KPK",
         "Pakistan",
         3,
         "3000.00",
         "9000.00"
        ],
        [
         1007,
         "2025-06-03",
         103,
         "Usman Ali",
         "usman.ali@example.com",
         207,
         "Tennis Racket",
         "Sports",
         3,
         "KPK",
         "Pakistan",
         2,
         "7000.00",
         "14000.00"
        ],
        [
         1008,
         "2025-06-02",
         104,
         "Fatima Noor",
         "fatima.noor@example.com",
         208,
         "Bed Sheet",
         "Textile",
         4,
         "Balochistan",
         "Pakistan",
         4,
         "2000.00",
         "8000.00"
        ],
        [
         1009,
         "2025-06-05",
         104,
         "Fatima Noor",
         "fatima.noor@example.com",
         209,
         "Curtains",
         "Textile",
         4,
         "Balochistan",
         "Pakistan",
         2,
         "3500.00",
         "7000.00"
        ]
       ],
       "datasetInfos": [
        {
         "name": "_sqldf",
         "schema": {
          "fields": [
           {
            "metadata": {},
            "name": "OrderID",
            "nullable": true,
            "type": "integer"
           },
           {
            "metadata": {},
            "name": "OrderDate",
            "nullable": true,
            "type": "date"
           },
           {
            "metadata": {},
            "name": "CustomerId",
            "nullable": true,
            "type": "integer"
           },
           {
            "metadata": {},
            "name": "CustomerName",
            "nullable": true,
            "type": "string"
           },
           {
            "metadata": {},
            "name": "CustomerEmail",
            "nullable": true,
            "type": "string"
           },
           {
            "metadata": {},
            "name": "ProductID",
            "nullable": true,
            "type": "integer"
           },
           {
            "metadata": {},
            "name": "ProductName",
            "nullable": true,
            "type": "string"
           },
           {
            "metadata": {},
            "name": "ProductCategory",
            "nullable": true,
            "type": "string"
           },
           {
            "metadata": {},
            "name": "RegionID",
            "nullable": true,
            "type": "integer"
           },
           {
            "metadata": {},
            "name": "RegionName",
            "nullable": true,
            "type": "string"
           },
           {
            "metadata": {},
            "name": "Country",
            "nullable": true,
            "type": "string"
           },
           {
            "metadata": {},
            "name": "Quantity",
            "nullable": true,
            "type": "integer"
           },
           {
            "metadata": {},
            "name": "UnitPrice",
            "nullable": true,
            "type": "decimal(18,2)"
           },
           {
            "metadata": {},
            "name": "TotalAmount",
            "nullable": true,
            "type": "decimal(18,2)"
           }
          ],
          "type": "struct"
         },
         "tableIdentifier": null,
         "typeStr": "pyspark.sql.connect.dataframe.DataFrame"
        }
       ],
       "dbfsResultPath": null,
       "isJsonSchema": true,
       "metadata": {
        "createTempViewForImplicitDf": true,
        "dataframeName": "_sqldf",
        "executionCount": 10
       },
       "overflow": false,
       "plotOptions": {
        "customPlotOptions": {},
        "displayType": "table",
        "pivotAggregation": null,
        "pivotColumns": null,
        "xColumns": null,
        "yColumns": null
       },
       "removedWidgets": [],
       "schema": [
        {
         "metadata": "{}",
         "name": "OrderID",
         "type": "\"integer\""
        },
        {
         "metadata": "{}",
         "name": "OrderDate",
         "type": "\"date\""
        },
        {
         "metadata": "{}",
         "name": "CustomerId",
         "type": "\"integer\""
        },
        {
         "metadata": "{}",
         "name": "CustomerName",
         "type": "\"string\""
        },
        {
         "metadata": "{}",
         "name": "CustomerEmail",
         "type": "\"string\""
        },
        {
         "metadata": "{}",
         "name": "ProductID",
         "type": "\"integer\""
        },
        {
         "metadata": "{}",
         "name": "ProductName",
         "type": "\"string\""
        },
        {
         "metadata": "{}",
         "name": "ProductCategory",
         "type": "\"string\""
        },
        {
         "metadata": "{}",
         "name": "RegionID",
         "type": "\"integer\""
        },
        {
         "metadata": "{}",
         "name": "RegionName",
         "type": "\"string\""
        },
        {
         "metadata": "{}",
         "name": "Country",
         "type": "\"string\""
        },
        {
         "metadata": "{}",
         "name": "Quantity",
         "type": "\"integer\""
        },
        {
         "metadata": "{}",
         "name": "UnitPrice",
         "type": "\"decimal(18,2)\""
        },
        {
         "metadata": "{}",
         "name": "TotalAmount",
         "type": "\"decimal(18,2)\""
        }
       ],
       "type": "table"
      }
     },
     "output_type": "display_data"
    }
   ],
   "source": [
    "select * from sales_scd.Orders"
   ]
  },
  {
   "cell_type": "markdown",
   "metadata": {
    "application/vnd.databricks.v1+cell": {
     "cellMetadata": {},
     "inputWidgets": {},
     "nuid": "a761045b-f58b-498c-b879-ab315dc18d92",
     "showTitle": false,
     "tableResultSettingsMap": {},
     "title": ""
    }
   },
   "source": [
    "### Creating View To Store Data (Vw_DimProducts)"
   ]
  },
  {
   "cell_type": "code",
   "execution_count": 0,
   "metadata": {
    "application/vnd.databricks.v1+cell": {
     "cellMetadata": {
      "byteLimit": 2048000,
      "rowLimit": 10000
     },
     "inputWidgets": {},
     "nuid": "9c83a55c-2fa2-442a-9e25-d4a0b80b343c",
     "showTitle": false,
     "tableResultSettingsMap": {},
     "title": ""
    }
   },
   "outputs": [],
   "source": [
    "CREATE or REPLACE VIEW sales_scd.Vw_DimProducts AS\n",
    "select distinct(ProductID),ProductName,ProductCategory \n",
    "from sales_scd.Orders \n",
    "ORDER BY ProductID"
   ]
  },
  {
   "cell_type": "markdown",
   "metadata": {
    "application/vnd.databricks.v1+cell": {
     "cellMetadata": {},
     "inputWidgets": {},
     "nuid": "17f6e099-72a0-4d18-9ab9-aaddae046bbb",
     "showTitle": false,
     "tableResultSettingsMap": {},
     "title": ""
    }
   },
   "source": [
    "### Creating View To Store Data (View_DimProducts) Where Data Is Loaded Increamentally"
   ]
  },
  {
   "cell_type": "code",
   "execution_count": 0,
   "metadata": {
    "application/vnd.databricks.v1+cell": {
     "cellMetadata": {
      "byteLimit": 2048000,
      "rowLimit": 10000
     },
     "inputWidgets": {},
     "nuid": "4720ef4e-8919-4e20-b33d-87e80b5eb16c",
     "showTitle": false,
     "tableResultSettingsMap": {},
     "title": ""
    }
   },
   "outputs": [],
   "source": [
    "CREATE OR REPLACE VIEW sales_scd.View_DimProducts AS\n",
    "SELECT DISTINCT \n",
    "    ProductID,\n",
    "    ProductName,\n",
    "    ProductCategory\n",
    "FROM sales_scd.Orders\n",
    "WHERE OrderDate > '2025-06-05';"
   ]
  },
  {
   "cell_type": "code",
   "execution_count": 0,
   "metadata": {
    "application/vnd.databricks.v1+cell": {
     "cellMetadata": {
      "byteLimit": 2048000,
      "rowLimit": 10000
     },
     "inputWidgets": {},
     "nuid": "f735df4d-27c5-45a0-88e2-58a0909cffab",
     "showTitle": false,
     "tableResultSettingsMap": {},
     "title": ""
    }
   },
   "outputs": [
    {
     "output_type": "display_data",
     "data": {
      "text/html": [
       "<style scoped>\n",
       "  .table-result-container {\n",
       "    max-height: 300px;\n",
       "    overflow: auto;\n",
       "  }\n",
       "  table, th, td {\n",
       "    border: 1px solid black;\n",
       "    border-collapse: collapse;\n",
       "  }\n",
       "  th, td {\n",
       "    padding: 5px;\n",
       "  }\n",
       "  th {\n",
       "    text-align: left;\n",
       "  }\n",
       "</style><div class='table-result-container'><table class='table-result'><thead style='background-color: white'><tr><th>ProductID</th><th>ProductName</th><th>ProductCategory</th></tr></thead><tbody><tr><td>201</td><td>Laptop</td><td>Electronics</td></tr><tr><td>201</td><td>Gaming Laptop</td><td>Electronics</td></tr><tr><td>202</td><td>Mobile Phone</td><td>Electronics</td></tr><tr><td>203</td><td>Tablet</td><td>Electronics</td></tr><tr><td>204</td><td>Washing Machine</td><td>Home Appliances</td></tr><tr><td>205</td><td>Microwave Oven</td><td>Home Appliances</td></tr><tr><td>206</td><td>Football</td><td>Sports</td></tr><tr><td>207</td><td>Tennis Racket</td><td>Sports</td></tr><tr><td>208</td><td>Bed Sheet</td><td>Textile</td></tr><tr><td>209</td><td>Curtains</td><td>Textile</td></tr><tr><td>230</td><td>Airpords</td><td>Electronics</td></tr></tbody></table></div>"
      ]
     },
     "metadata": {
      "application/vnd.databricks.v1+output": {
       "addedWidgets": {},
       "aggData": [],
       "aggError": "",
       "aggOverflow": false,
       "aggSchema": [],
       "aggSeriesLimitReached": false,
       "aggType": "",
       "arguments": {},
       "columnCustomDisplayInfos": {},
       "data": [
        [
         201,
         "Laptop",
         "Electronics"
        ],
        [
         201,
         "Gaming Laptop",
         "Electronics"
        ],
        [
         202,
         "Mobile Phone",
         "Electronics"
        ],
        [
         203,
         "Tablet",
         "Electronics"
        ],
        [
         204,
         "Washing Machine",
         "Home Appliances"
        ],
        [
         205,
         "Microwave Oven",
         "Home Appliances"
        ],
        [
         206,
         "Football",
         "Sports"
        ],
        [
         207,
         "Tennis Racket",
         "Sports"
        ],
        [
         208,
         "Bed Sheet",
         "Textile"
        ],
        [
         209,
         "Curtains",
         "Textile"
        ],
        [
         230,
         "Airpords",
         "Electronics"
        ]
       ],
       "datasetInfos": [
        {
         "name": "_sqldf",
         "schema": {
          "fields": [
           {
            "metadata": {},
            "name": "ProductID",
            "nullable": true,
            "type": "integer"
           },
           {
            "metadata": {},
            "name": "ProductName",
            "nullable": true,
            "type": "string"
           },
           {
            "metadata": {},
            "name": "ProductCategory",
            "nullable": true,
            "type": "string"
           }
          ],
          "type": "struct"
         },
         "tableIdentifier": null,
         "typeStr": "pyspark.sql.connect.dataframe.DataFrame"
        }
       ],
       "dbfsResultPath": null,
       "isJsonSchema": true,
       "metadata": {
        "createTempViewForImplicitDf": true,
        "dataframeName": "_sqldf",
        "executionCount": 13
       },
       "overflow": false,
       "plotOptions": {
        "customPlotOptions": {},
        "displayType": "table",
        "pivotAggregation": null,
        "pivotColumns": null,
        "xColumns": null,
        "yColumns": null
       },
       "removedWidgets": [],
       "schema": [
        {
         "metadata": "{}",
         "name": "ProductID",
         "type": "\"integer\""
        },
        {
         "metadata": "{}",
         "name": "ProductName",
         "type": "\"string\""
        },
        {
         "metadata": "{}",
         "name": "ProductCategory",
         "type": "\"string\""
        }
       ],
       "type": "table"
      }
     },
     "output_type": "display_data"
    }
   ],
   "source": [
    "SELECT * from sales_scd.Vw_DimProducts"
   ]
  },
  {
   "cell_type": "markdown",
   "metadata": {
    "application/vnd.databricks.v1+cell": {
     "cellMetadata": {},
     "inputWidgets": {},
     "nuid": "85213f2e-c74a-429f-b60e-25063e88f008",
     "showTitle": false,
     "tableResultSettingsMap": {},
     "title": ""
    }
   },
   "source": [
    "### Creating Table sales_scd.DimProducts"
   ]
  },
  {
   "cell_type": "code",
   "execution_count": 0,
   "metadata": {
    "application/vnd.databricks.v1+cell": {
     "cellMetadata": {
      "byteLimit": 2048000,
      "rowLimit": 10000
     },
     "inputWidgets": {},
     "nuid": "05f4d879-1cfb-4c17-89b7-4461ebb01c57",
     "showTitle": false,
     "tableResultSettingsMap": {},
     "title": ""
    }
   },
   "outputs": [],
   "source": [
    "CREATE OR REPLACE TABLE sales_scd.DimProducts (\n",
    "    ProductID INT,\n",
    "    ProductName STRING,\n",
    "    ProductCategory STRING\n",
    ")"
   ]
  },
  {
   "cell_type": "markdown",
   "metadata": {
    "application/vnd.databricks.v1+cell": {
     "cellMetadata": {},
     "inputWidgets": {},
     "nuid": "941de17a-68e6-4fbb-b99d-f3ca0e56b058",
     "showTitle": false,
     "tableResultSettingsMap": {},
     "title": ""
    }
   },
   "source": [
    "### Inserting Data Into sales_scd.DimProducts From sales_scd.Orders"
   ]
  },
  {
   "cell_type": "code",
   "execution_count": 0,
   "metadata": {
    "application/vnd.databricks.v1+cell": {
     "cellMetadata": {
      "byteLimit": 2048000,
      "rowLimit": 10000
     },
     "inputWidgets": {},
     "nuid": "308ec968-e12f-4158-ad96-5b1933eb30fe",
     "showTitle": false,
     "tableResultSettingsMap": {},
     "title": ""
    }
   },
   "outputs": [
    {
     "output_type": "display_data",
     "data": {
      "text/html": [
       "<style scoped>\n",
       "  .table-result-container {\n",
       "    max-height: 300px;\n",
       "    overflow: auto;\n",
       "  }\n",
       "  table, th, td {\n",
       "    border: 1px solid black;\n",
       "    border-collapse: collapse;\n",
       "  }\n",
       "  th, td {\n",
       "    padding: 5px;\n",
       "  }\n",
       "  th {\n",
       "    text-align: left;\n",
       "  }\n",
       "</style><div class='table-result-container'><table class='table-result'><thead style='background-color: white'><tr><th>num_affected_rows</th><th>num_inserted_rows</th></tr></thead><tbody><tr><td>9</td><td>9</td></tr></tbody></table></div>"
      ]
     },
     "metadata": {
      "application/vnd.databricks.v1+output": {
       "addedWidgets": {},
       "aggData": [],
       "aggError": "",
       "aggOverflow": false,
       "aggSchema": [],
       "aggSeriesLimitReached": false,
       "aggType": "",
       "arguments": {},
       "columnCustomDisplayInfos": {},
       "data": [
        [
         9,
         9
        ]
       ],
       "datasetInfos": [
        {
         "name": "_sqldf",
         "schema": {
          "fields": [
           {
            "metadata": {},
            "name": "num_affected_rows",
            "nullable": true,
            "type": "long"
           },
           {
            "metadata": {},
            "name": "num_inserted_rows",
            "nullable": true,
            "type": "long"
           }
          ],
          "type": "struct"
         },
         "tableIdentifier": null,
         "typeStr": "pyspark.sql.connect.dataframe.DataFrame"
        }
       ],
       "dbfsResultPath": null,
       "isJsonSchema": true,
       "metadata": {
        "createTempViewForImplicitDf": true,
        "dataframeName": "_sqldf",
        "executionCount": 78
       },
       "overflow": false,
       "plotOptions": {
        "customPlotOptions": {},
        "displayType": "table",
        "pivotAggregation": null,
        "pivotColumns": null,
        "xColumns": null,
        "yColumns": null
       },
       "removedWidgets": [],
       "schema": [
        {
         "metadata": "{}",
         "name": "num_affected_rows",
         "type": "\"long\""
        },
        {
         "metadata": "{}",
         "name": "num_inserted_rows",
         "type": "\"long\""
        }
       ],
       "type": "table"
      }
     },
     "output_type": "display_data"
    }
   ],
   "source": [
    "INSERT INTO sales_scd.DimProducts\n",
    "SELECT DISTINCT(ProductID),ProductName,ProductCategory \n",
    "FROM sales_scd.Vw_DimProducts"
   ]
  },
  {
   "cell_type": "code",
   "execution_count": 0,
   "metadata": {
    "application/vnd.databricks.v1+cell": {
     "cellMetadata": {
      "byteLimit": 2048000,
      "rowLimit": 10000
     },
     "inputWidgets": {},
     "nuid": "aa937abf-8449-4efd-8e1b-ce0007112e4c",
     "showTitle": false,
     "tableResultSettingsMap": {},
     "title": ""
    }
   },
   "outputs": [
    {
     "output_type": "display_data",
     "data": {
      "text/html": [
       "<style scoped>\n",
       "  .table-result-container {\n",
       "    max-height: 300px;\n",
       "    overflow: auto;\n",
       "  }\n",
       "  table, th, td {\n",
       "    border: 1px solid black;\n",
       "    border-collapse: collapse;\n",
       "  }\n",
       "  th, td {\n",
       "    padding: 5px;\n",
       "  }\n",
       "  th {\n",
       "    text-align: left;\n",
       "  }\n",
       "</style><div class='table-result-container'><table class='table-result'><thead style='background-color: white'><tr><th>num_affected_rows</th><th>num_inserted_rows</th></tr></thead><tbody><tr><td>0</td><td>0</td></tr></tbody></table></div>"
      ]
     },
     "metadata": {
      "application/vnd.databricks.v1+output": {
       "addedWidgets": {},
       "aggData": [],
       "aggError": "",
       "aggOverflow": false,
       "aggSchema": [],
       "aggSeriesLimitReached": false,
       "aggType": "",
       "arguments": {},
       "columnCustomDisplayInfos": {},
       "data": [
        [
         0,
         0
        ]
       ],
       "datasetInfos": [
        {
         "name": "_sqldf",
         "schema": {
          "fields": [
           {
            "metadata": {},
            "name": "num_affected_rows",
            "nullable": true,
            "type": "long"
           },
           {
            "metadata": {},
            "name": "num_inserted_rows",
            "nullable": true,
            "type": "long"
           }
          ],
          "type": "struct"
         },
         "tableIdentifier": null,
         "typeStr": "pyspark.sql.connect.dataframe.DataFrame"
        }
       ],
       "dbfsResultPath": null,
       "isJsonSchema": true,
       "metadata": {
        "createTempViewForImplicitDf": true,
        "dataframeName": "_sqldf",
        "executionCount": 75
       },
       "overflow": false,
       "plotOptions": {
        "customPlotOptions": {},
        "displayType": "table",
        "pivotAggregation": null,
        "pivotColumns": null,
        "xColumns": null,
        "yColumns": null
       },
       "removedWidgets": [],
       "schema": [
        {
         "metadata": "{}",
         "name": "num_affected_rows",
         "type": "\"long\""
        },
        {
         "metadata": "{}",
         "name": "num_inserted_rows",
         "type": "\"long\""
        }
       ],
       "type": "table"
      }
     },
     "output_type": "display_data"
    }
   ],
   "source": [
    "INSERT INTO sales_scd.DimProducts\n",
    "SELECT DISTINCT(ProductID),ProductName,ProductCategory \n",
    "FROM  sales_scd.View_DimProducts"
   ]
  },
  {
   "cell_type": "code",
   "execution_count": 0,
   "metadata": {
    "application/vnd.databricks.v1+cell": {
     "cellMetadata": {
      "byteLimit": 2048000,
      "rowLimit": 10000
     },
     "inputWidgets": {},
     "nuid": "3213fbf6-1895-4895-9043-44d938da227a",
     "showTitle": false,
     "tableResultSettingsMap": {},
     "title": ""
    }
   },
   "outputs": [
    {
     "output_type": "display_data",
     "data": {
      "text/html": [
       "<style scoped>\n",
       "  .table-result-container {\n",
       "    max-height: 300px;\n",
       "    overflow: auto;\n",
       "  }\n",
       "  table, th, td {\n",
       "    border: 1px solid black;\n",
       "    border-collapse: collapse;\n",
       "  }\n",
       "  th, td {\n",
       "    padding: 5px;\n",
       "  }\n",
       "  th {\n",
       "    text-align: left;\n",
       "  }\n",
       "</style><div class='table-result-container'><table class='table-result'><thead style='background-color: white'><tr><th>ProductID</th><th>ProductName</th><th>ProductCategory</th></tr></thead><tbody><tr><td>201</td><td>Laptop</td><td>Electronics</td></tr><tr><td>202</td><td>Mobile Phone</td><td>Electronics</td></tr><tr><td>203</td><td>Tablet</td><td>Electronics</td></tr><tr><td>204</td><td>Washing Machine</td><td>Home Appliances</td></tr><tr><td>205</td><td>Microwave Oven</td><td>Home Appliances</td></tr><tr><td>206</td><td>Football</td><td>Sports</td></tr><tr><td>207</td><td>Tennis Racket</td><td>Sports</td></tr><tr><td>208</td><td>Bed Sheet</td><td>Textile</td></tr><tr><td>209</td><td>Curtains</td><td>Textile</td></tr></tbody></table></div>"
      ]
     },
     "metadata": {
      "application/vnd.databricks.v1+output": {
       "addedWidgets": {},
       "aggData": [],
       "aggError": "",
       "aggOverflow": false,
       "aggSchema": [],
       "aggSeriesLimitReached": false,
       "aggType": "",
       "arguments": {},
       "columnCustomDisplayInfos": {},
       "data": [
        [
         201,
         "Laptop",
         "Electronics"
        ],
        [
         202,
         "Mobile Phone",
         "Electronics"
        ],
        [
         203,
         "Tablet",
         "Electronics"
        ],
        [
         204,
         "Washing Machine",
         "Home Appliances"
        ],
        [
         205,
         "Microwave Oven",
         "Home Appliances"
        ],
        [
         206,
         "Football",
         "Sports"
        ],
        [
         207,
         "Tennis Racket",
         "Sports"
        ],
        [
         208,
         "Bed Sheet",
         "Textile"
        ],
        [
         209,
         "Curtains",
         "Textile"
        ]
       ],
       "datasetInfos": [
        {
         "name": "_sqldf",
         "schema": {
          "fields": [
           {
            "metadata": {},
            "name": "ProductID",
            "nullable": true,
            "type": "integer"
           },
           {
            "metadata": {},
            "name": "ProductName",
            "nullable": true,
            "type": "string"
           },
           {
            "metadata": {},
            "name": "ProductCategory",
            "nullable": true,
            "type": "string"
           }
          ],
          "type": "struct"
         },
         "tableIdentifier": null,
         "typeStr": "pyspark.sql.connect.dataframe.DataFrame"
        }
       ],
       "dbfsResultPath": null,
       "isJsonSchema": true,
       "metadata": {
        "createTempViewForImplicitDf": true,
        "dataframeName": "_sqldf",
        "executionCount": 42
       },
       "overflow": false,
       "plotOptions": {
        "customPlotOptions": {},
        "displayType": "table",
        "pivotAggregation": null,
        "pivotColumns": null,
        "xColumns": null,
        "yColumns": null
       },
       "removedWidgets": [],
       "schema": [
        {
         "metadata": "{}",
         "name": "ProductID",
         "type": "\"integer\""
        },
        {
         "metadata": "{}",
         "name": "ProductName",
         "type": "\"string\""
        },
        {
         "metadata": "{}",
         "name": "ProductCategory",
         "type": "\"string\""
        }
       ],
       "type": "table"
      }
     },
     "output_type": "display_data"
    }
   ],
   "source": [
    "SELECT * FROM sales_scd.DimProducts"
   ]
  },
  {
   "cell_type": "code",
   "execution_count": 0,
   "metadata": {
    "application/vnd.databricks.v1+cell": {
     "cellMetadata": {
      "byteLimit": 2048000,
      "rowLimit": 10000
     },
     "inputWidgets": {},
     "nuid": "90429cb7-18f8-4683-ba35-c9b381727eff",
     "showTitle": false,
     "tableResultSettingsMap": {},
     "title": ""
    }
   },
   "outputs": [
    {
     "output_type": "display_data",
     "data": {
      "text/html": [
       "<style scoped>\n",
       "  .table-result-container {\n",
       "    max-height: 300px;\n",
       "    overflow: auto;\n",
       "  }\n",
       "  table, th, td {\n",
       "    border: 1px solid black;\n",
       "    border-collapse: collapse;\n",
       "  }\n",
       "  th, td {\n",
       "    padding: 5px;\n",
       "  }\n",
       "  th {\n",
       "    text-align: left;\n",
       "  }\n",
       "</style><div class='table-result-container'><table class='table-result'><thead style='background-color: white'><tr><th>num_affected_rows</th><th>num_inserted_rows</th></tr></thead><tbody><tr><td>2</td><td>2</td></tr></tbody></table></div>"
      ]
     },
     "metadata": {
      "application/vnd.databricks.v1+output": {
       "addedWidgets": {},
       "aggData": [],
       "aggError": "",
       "aggOverflow": false,
       "aggSchema": [],
       "aggSeriesLimitReached": false,
       "aggType": "",
       "arguments": {},
       "columnCustomDisplayInfos": {},
       "data": [
        [
         2,
         2
        ]
       ],
       "datasetInfos": [
        {
         "name": "_sqldf",
         "schema": {
          "fields": [
           {
            "metadata": {},
            "name": "num_affected_rows",
            "nullable": true,
            "type": "long"
           },
           {
            "metadata": {},
            "name": "num_inserted_rows",
            "nullable": true,
            "type": "long"
           }
          ],
          "type": "struct"
         },
         "tableIdentifier": null,
         "typeStr": "pyspark.sql.connect.dataframe.DataFrame"
        }
       ],
       "dbfsResultPath": null,
       "isJsonSchema": true,
       "metadata": {
        "createTempViewForImplicitDf": true,
        "dataframeName": "_sqldf",
        "executionCount": 6
       },
       "overflow": false,
       "plotOptions": {
        "customPlotOptions": {},
        "displayType": "table",
        "pivotAggregation": null,
        "pivotColumns": null,
        "xColumns": null,
        "yColumns": null
       },
       "removedWidgets": [],
       "schema": [
        {
         "metadata": "{}",
         "name": "num_affected_rows",
         "type": "\"long\""
        },
        {
         "metadata": "{}",
         "name": "num_inserted_rows",
         "type": "\"long\""
        }
       ],
       "type": "table"
      }
     },
     "output_type": "display_data"
    }
   ],
   "source": [
    "INSERT INTO sales_scd.Orders (\n",
    "    OrderID, OrderDate, CustomerId, CustomerName, CustomerEmail,\n",
    "    ProductID, ProductName, ProductCategory,\n",
    "    RegionID, RegionName, Country,\n",
    "    Quantity, UnitPrice, TotalAmount\n",
    ")\n",
    "VALUES\n",
    "-- Customer 101 orders on different dates\n",
    "(1001, '2025-06-06', 101, 'Ali Khan', 'ali.khan@example.com', 201, 'Gaming Laptop', 'Electronics', 1, 'Sindh', 'Pakistan', 1, 120000, 120000),\n",
    "(1002, '2025-06-07', 101, 'Ali Khan', 'ali.khan@example.com', 230, 'Airpords', 'Electronics', 1, 'Sindh', 'Pakistan', 2, 45000, 90000)"
   ]
  },
  {
   "cell_type": "code",
   "execution_count": 0,
   "metadata": {
    "application/vnd.databricks.v1+cell": {
     "cellMetadata": {
      "byteLimit": 2048000,
      "rowLimit": 10000
     },
     "inputWidgets": {},
     "nuid": "0a5e08a6-83f3-41f9-939a-e5980af4f049",
     "showTitle": false,
     "tableResultSettingsMap": {},
     "title": ""
    }
   },
   "outputs": [
    {
     "output_type": "display_data",
     "data": {
      "text/html": [
       "<style scoped>\n",
       "  .table-result-container {\n",
       "    max-height: 300px;\n",
       "    overflow: auto;\n",
       "  }\n",
       "  table, th, td {\n",
       "    border: 1px solid black;\n",
       "    border-collapse: collapse;\n",
       "  }\n",
       "  th, td {\n",
       "    padding: 5px;\n",
       "  }\n",
       "  th {\n",
       "    text-align: left;\n",
       "  }\n",
       "</style><div class='table-result-container'><table class='table-result'><thead style='background-color: white'><tr><th>ProductID</th><th>ProductName</th><th>ProductCategory</th></tr></thead><tbody><tr><td>201</td><td>Gaming Laptop</td><td>Electronics</td></tr><tr><td>230</td><td>Airpords</td><td>Electronics</td></tr></tbody></table></div>"
      ]
     },
     "metadata": {
      "application/vnd.databricks.v1+output": {
       "addedWidgets": {},
       "aggData": [],
       "aggError": "",
       "aggOverflow": false,
       "aggSchema": [],
       "aggSeriesLimitReached": false,
       "aggType": "",
       "arguments": {},
       "columnCustomDisplayInfos": {},
       "data": [
        [
         201,
         "Gaming Laptop",
         "Electronics"
        ],
        [
         230,
         "Airpords",
         "Electronics"
        ]
       ],
       "datasetInfos": [
        {
         "name": "_sqldf",
         "schema": {
          "fields": [
           {
            "metadata": {},
            "name": "ProductID",
            "nullable": true,
            "type": "integer"
           },
           {
            "metadata": {},
            "name": "ProductName",
            "nullable": true,
            "type": "string"
           },
           {
            "metadata": {},
            "name": "ProductCategory",
            "nullable": true,
            "type": "string"
           }
          ],
          "type": "struct"
         },
         "tableIdentifier": null,
         "typeStr": "pyspark.sql.connect.dataframe.DataFrame"
        }
       ],
       "dbfsResultPath": null,
       "isJsonSchema": true,
       "metadata": {
        "createTempViewForImplicitDf": true,
        "dataframeName": "_sqldf",
        "executionCount": 14
       },
       "overflow": false,
       "plotOptions": {
        "customPlotOptions": {},
        "displayType": "table",
        "pivotAggregation": null,
        "pivotColumns": null,
        "xColumns": null,
        "yColumns": null
       },
       "removedWidgets": [],
       "schema": [
        {
         "metadata": "{}",
         "name": "ProductID",
         "type": "\"integer\""
        },
        {
         "metadata": "{}",
         "name": "ProductName",
         "type": "\"string\""
        },
        {
         "metadata": "{}",
         "name": "ProductCategory",
         "type": "\"string\""
        }
       ],
       "type": "table"
      }
     },
     "output_type": "display_data"
    }
   ],
   "source": [
    "SELECT * FROM sales_scd.View_DimProducts;"
   ]
  },
  {
   "cell_type": "markdown",
   "metadata": {
    "application/vnd.databricks.v1+cell": {
     "cellMetadata": {},
     "inputWidgets": {},
     "nuid": "b77f7e38-e186-450e-a645-b1ec2dd72584",
     "showTitle": false,
     "tableResultSettingsMap": {},
     "title": ""
    }
   },
   "source": [
    "### MERGE SCD TYPE - 1"
   ]
  },
  {
   "cell_type": "code",
   "execution_count": 0,
   "metadata": {
    "application/vnd.databricks.v1+cell": {
     "cellMetadata": {
      "byteLimit": 2048000,
      "rowLimit": 10000
     },
     "inputWidgets": {},
     "nuid": "44f23731-b8ab-45cb-8c56-1a4eefca616f",
     "showTitle": false,
     "tableResultSettingsMap": {},
     "title": ""
    }
   },
   "outputs": [
    {
     "output_type": "display_data",
     "data": {
      "text/html": [
       "<style scoped>\n",
       "  .table-result-container {\n",
       "    max-height: 300px;\n",
       "    overflow: auto;\n",
       "  }\n",
       "  table, th, td {\n",
       "    border: 1px solid black;\n",
       "    border-collapse: collapse;\n",
       "  }\n",
       "  th, td {\n",
       "    padding: 5px;\n",
       "  }\n",
       "  th {\n",
       "    text-align: left;\n",
       "  }\n",
       "</style><div class='table-result-container'><table class='table-result'><thead style='background-color: white'><tr><th>num_affected_rows</th><th>num_updated_rows</th><th>num_deleted_rows</th><th>num_inserted_rows</th></tr></thead><tbody><tr><td>3</td><td>2</td><td>0</td><td>1</td></tr></tbody></table></div>"
      ]
     },
     "metadata": {
      "application/vnd.databricks.v1+output": {
       "addedWidgets": {},
       "aggData": [],
       "aggError": "",
       "aggOverflow": false,
       "aggSchema": [],
       "aggSeriesLimitReached": false,
       "aggType": "",
       "arguments": {},
       "columnCustomDisplayInfos": {},
       "data": [
        [
         3,
         2,
         0,
         1
        ]
       ],
       "datasetInfos": [
        {
         "name": "_sqldf",
         "schema": {
          "fields": [
           {
            "metadata": {},
            "name": "num_affected_rows",
            "nullable": true,
            "type": "long"
           },
           {
            "metadata": {},
            "name": "num_updated_rows",
            "nullable": true,
            "type": "long"
           },
           {
            "metadata": {},
            "name": "num_deleted_rows",
            "nullable": true,
            "type": "long"
           },
           {
            "metadata": {},
            "name": "num_inserted_rows",
            "nullable": true,
            "type": "long"
           }
          ],
          "type": "struct"
         },
         "tableIdentifier": null,
         "typeStr": "pyspark.sql.connect.dataframe.DataFrame"
        }
       ],
       "dbfsResultPath": null,
       "isJsonSchema": true,
       "metadata": {
        "createTempViewForImplicitDf": true,
        "dataframeName": "_sqldf",
        "executionCount": 18
       },
       "overflow": false,
       "plotOptions": {
        "customPlotOptions": {},
        "displayType": "table",
        "pivotAggregation": null,
        "pivotColumns": null,
        "xColumns": null,
        "yColumns": null
       },
       "removedWidgets": [],
       "schema": [
        {
         "metadata": "{}",
         "name": "num_affected_rows",
         "type": "\"long\""
        },
        {
         "metadata": "{}",
         "name": "num_updated_rows",
         "type": "\"long\""
        },
        {
         "metadata": "{}",
         "name": "num_deleted_rows",
         "type": "\"long\""
        },
        {
         "metadata": "{}",
         "name": "num_inserted_rows",
         "type": "\"long\""
        }
       ],
       "type": "table"
      }
     },
     "output_type": "display_data"
    }
   ],
   "source": [
    "MERGE INTO sales_scd.DimProducts AS TARGET\n",
    "USING sales_scd.View_DimProducts AS SOURCE\n",
    "ON TARGET.ProductID = SOURCE.ProductID\n",
    "WHEN MATCHED THEN UPDATE SET *\n",
    "WHEN NOT MATCHED THEN INSERT *\n"
   ]
  },
  {
   "cell_type": "code",
   "execution_count": 0,
   "metadata": {
    "application/vnd.databricks.v1+cell": {
     "cellMetadata": {
      "byteLimit": 2048000,
      "rowLimit": 10000
     },
     "inputWidgets": {},
     "nuid": "126b528d-84f8-4953-93ed-e5c1f5282bcd",
     "showTitle": false,
     "tableResultSettingsMap": {},
     "title": ""
    }
   },
   "outputs": [
    {
     "output_type": "display_data",
     "data": {
      "text/html": [
       "<style scoped>\n",
       "  .table-result-container {\n",
       "    max-height: 300px;\n",
       "    overflow: auto;\n",
       "  }\n",
       "  table, th, td {\n",
       "    border: 1px solid black;\n",
       "    border-collapse: collapse;\n",
       "  }\n",
       "  th, td {\n",
       "    padding: 5px;\n",
       "  }\n",
       "  th {\n",
       "    text-align: left;\n",
       "  }\n",
       "</style><div class='table-result-container'><table class='table-result'><thead style='background-color: white'><tr><th>ProductID</th><th>ProductName</th><th>ProductCategory</th></tr></thead><tbody><tr><td>202</td><td>Mobile Phone</td><td>Electronics</td></tr><tr><td>203</td><td>Tablet</td><td>Electronics</td></tr><tr><td>204</td><td>Washing Machine</td><td>Home Appliances</td></tr><tr><td>205</td><td>Microwave Oven</td><td>Home Appliances</td></tr><tr><td>206</td><td>Football</td><td>Sports</td></tr><tr><td>207</td><td>Tennis Racket</td><td>Sports</td></tr><tr><td>208</td><td>Bed Sheet</td><td>Textile</td></tr><tr><td>209</td><td>Curtains</td><td>Textile</td></tr><tr><td>202</td><td>Mobile Phone</td><td>Electronics</td></tr><tr><td>203</td><td>Tablet</td><td>Electronics</td></tr><tr><td>204</td><td>Washing Machine</td><td>Home Appliances</td></tr><tr><td>205</td><td>Microwave Oven</td><td>Home Appliances</td></tr><tr><td>206</td><td>Football</td><td>Sports</td></tr><tr><td>207</td><td>Tennis Racket</td><td>Sports</td></tr><tr><td>208</td><td>Bed Sheet</td><td>Textile</td></tr><tr><td>209</td><td>Curtains</td><td>Textile</td></tr><tr><td>201</td><td>Gaming Laptop</td><td>Electronics</td></tr><tr><td>230</td><td>Airpords</td><td>Electronics</td></tr><tr><td>201</td><td>Gaming Laptop</td><td>Electronics</td></tr></tbody></table></div>"
      ]
     },
     "metadata": {
      "application/vnd.databricks.v1+output": {
       "addedWidgets": {},
       "aggData": [],
       "aggError": "",
       "aggOverflow": false,
       "aggSchema": [],
       "aggSeriesLimitReached": false,
       "aggType": "",
       "arguments": {},
       "columnCustomDisplayInfos": {},
       "data": [
        [
         202,
         "Mobile Phone",
         "Electronics"
        ],
        [
         203,
         "Tablet",
         "Electronics"
        ],
        [
         204,
         "Washing Machine",
         "Home Appliances"
        ],
        [
         205,
         "Microwave Oven",
         "Home Appliances"
        ],
        [
         206,
         "Football",
         "Sports"
        ],
        [
         207,
         "Tennis Racket",
         "Sports"
        ],
        [
         208,
         "Bed Sheet",
         "Textile"
        ],
        [
         209,
         "Curtains",
         "Textile"
        ],
        [
         202,
         "Mobile Phone",
         "Electronics"
        ],
        [
         203,
         "Tablet",
         "Electronics"
        ],
        [
         204,
         "Washing Machine",
         "Home Appliances"
        ],
        [
         205,
         "Microwave Oven",
         "Home Appliances"
        ],
        [
         206,
         "Football",
         "Sports"
        ],
        [
         207,
         "Tennis Racket",
         "Sports"
        ],
        [
         208,
         "Bed Sheet",
         "Textile"
        ],
        [
         209,
         "Curtains",
         "Textile"
        ],
        [
         201,
         "Gaming Laptop",
         "Electronics"
        ],
        [
         230,
         "Airpords",
         "Electronics"
        ],
        [
         201,
         "Gaming Laptop",
         "Electronics"
        ]
       ],
       "datasetInfos": [
        {
         "name": "_sqldf",
         "schema": {
          "fields": [
           {
            "metadata": {},
            "name": "ProductID",
            "nullable": true,
            "type": "integer"
           },
           {
            "metadata": {},
            "name": "ProductName",
            "nullable": true,
            "type": "string"
           },
           {
            "metadata": {},
            "name": "ProductCategory",
            "nullable": true,
            "type": "string"
           }
          ],
          "type": "struct"
         },
         "tableIdentifier": null,
         "typeStr": "pyspark.sql.connect.dataframe.DataFrame"
        }
       ],
       "dbfsResultPath": null,
       "isJsonSchema": true,
       "metadata": {
        "createTempViewForImplicitDf": true,
        "dataframeName": "_sqldf",
        "executionCount": 19
       },
       "overflow": false,
       "plotOptions": {
        "customPlotOptions": {},
        "displayType": "table",
        "pivotAggregation": null,
        "pivotColumns": null,
        "xColumns": null,
        "yColumns": null
       },
       "removedWidgets": [],
       "schema": [
        {
         "metadata": "{}",
         "name": "ProductID",
         "type": "\"integer\""
        },
        {
         "metadata": "{}",
         "name": "ProductName",
         "type": "\"string\""
        },
        {
         "metadata": "{}",
         "name": "ProductCategory",
         "type": "\"string\""
        }
       ],
       "type": "table"
      }
     },
     "output_type": "display_data"
    }
   ],
   "source": [
    "select * from sales_scd.dimproducts"
   ]
  },
  {
   "cell_type": "code",
   "execution_count": 0,
   "metadata": {
    "application/vnd.databricks.v1+cell": {
     "cellMetadata": {},
     "inputWidgets": {},
     "nuid": "642c89ad-793f-4dfd-a2a2-03e06c9ab117",
     "showTitle": false,
     "tableResultSettingsMap": {},
     "title": ""
    }
   },
   "outputs": [],
   "source": []
  }
 ],
 "metadata": {
  "application/vnd.databricks.v1+notebook": {
   "computePreferences": null,
   "dashboards": [],
   "environmentMetadata": {
    "base_environment": "",
    "environment_version": "3"
   },
   "inputWidgetPreferences": null,
   "language": "sql",
   "notebookMetadata": {
    "pythonIndentUnit": 4
   },
   "notebookName": "Dataware House - Fact + Dimensions Modelling",
   "widgets": {}
  },
  "language_info": {
   "name": "sql"
  }
 },
 "nbformat": 4,
 "nbformat_minor": 0
}